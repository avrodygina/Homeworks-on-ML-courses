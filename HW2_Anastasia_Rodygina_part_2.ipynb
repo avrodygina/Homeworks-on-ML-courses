{
 "cells": [
  {
   "cell_type": "code",
   "execution_count": 2,
   "metadata": {},
   "outputs": [],
   "source": [
    "# считываем данные с файлов\n",
    "import os\n",
    "import re\n",
    "\n",
    "neg = \"review_polarity/txt_sentoken/neg\"\n",
    "pos = \"review_polarity/txt_sentoken/pos\"\n",
    "\n",
    "def convert_text(s):\n",
    "    # Removes all characters from string except letters and digits and convert letters to lowercase\n",
    "    return re.sub(\"[^a-zA-Z0-9]\", \" \", s.lower())\n",
    "\n",
    "def read_texts(dir_path):\n",
    "    # Reads all files from directory\n",
    "    if dir_path[-1] != os.path.sep:\n",
    "        dir_path = dir_path + os.path.sep\n",
    "    txt_list = []\n",
    "    for file in os.listdir(dir_path):\n",
    "        file = dir_path + file\n",
    "        fin = open(file, 'r', encoding='UTF-8')\n",
    "        txt = \" \".join(fin.readlines())\n",
    "        txt = convert_text(txt)\n",
    "        txt_list.append(txt)\n",
    "    return txt_list"
   ]
  },
  {
   "cell_type": "code",
   "execution_count": 4,
   "metadata": {
    "collapsed": true
   },
   "outputs": [],
   "source": [
    "# создаем матрицу и настраиваем ее по-новому (n-gram = 2)\n",
    "from sklearn.feature_extraction.text import CountVectorizer\n",
    "from sklearn.feature_extraction.text import TfidfTransformer\n",
    "import pandas as pd\n",
    "\n",
    "texts = read_texts(neg) + read_texts(pos)\n",
    "\n",
    "count = CountVectorizer(token_pattern=r\"\\b\\w+\\b\", ngram_range=(2, 2), lowercase=True, max_features=20000, min_df=2)\n",
    "result = count.fit_transform(texts).toarray()\n",
    "df = pd.DataFrame(data=result, columns=count.get_feature_names())"
   ]
  },
  {
   "cell_type": "code",
   "execution_count": 5,
   "metadata": {
    "collapsed": true
   },
   "outputs": [],
   "source": [
    "import numpy as np\n",
    "zeros = np.zeros((1000,), dtype=np.int)\n",
    "ones = np.ones((1000,), dtype=np.int)\n",
    "vec = np.hstack((zeros,ones))"
   ]
  },
  {
   "cell_type": "code",
   "execution_count": 6,
   "metadata": {
    "collapsed": true
   },
   "outputs": [],
   "source": [
    "# разбиваем выборку на тренировочную и тестовую часть\n",
    "from sklearn.model_selection import train_test_split\n",
    "X_train, X_test, y_train, y_test = train_test_split(result, vec, train_size=0.7, random_state=12345)"
   ]
  },
  {
   "cell_type": "code",
   "execution_count": 7,
   "metadata": {
    "collapsed": true
   },
   "outputs": [],
   "source": [
    "# создаем функцию, которая будет все считать\n",
    "from sklearn import metrics\n",
    "from datetime import datetime\n",
    "from sklearn.base import clone\n",
    "\n",
    "def model_func(model, X_train, y_train, X_test, y_test):\n",
    "    startTime = datetime.now()\n",
    "\n",
    "    temp_model = clone(model)\n",
    "    temp_model.fit(X_train, y_train)\n",
    "\n",
    "    expected = y_test\n",
    "    predicted = temp_model.predict(X_test)\n",
    "    accuracy = metrics.accuracy_score(expected, predicted)\n",
    "    print('Доля правильных ответов:', accuracy)\n",
    "    print('Затраченное время:', datetime.now() - startTime)"
   ]
  },
  {
   "cell_type": "code",
   "execution_count": 8,
   "metadata": {},
   "outputs": [
    {
     "name": "stdout",
     "output_type": "stream",
     "text": [
      "Доля правильных ответов: 0.581666666667\n",
      "Затраченное время: 0:00:32.192292\n"
     ]
    }
   ],
   "source": [
    "# обучаем модель k-ближайших соседей (пока без Tfidf)\n",
    "from sklearn.neighbors import KNeighborsClassifier\n",
    "\n",
    "knn = KNeighborsClassifier()\n",
    "\n",
    "model_func(knn, X_train, y_train, X_test, y_test)"
   ]
  },
  {
   "cell_type": "code",
   "execution_count": 9,
   "metadata": {},
   "outputs": [
    {
     "name": "stdout",
     "output_type": "stream",
     "text": [
      "Доля правильных ответов: 0.783333333333\n",
      "Затраченное время: 0:00:03.902235\n"
     ]
    }
   ],
   "source": [
    "# обучаем логистическую регрессию (пока без Tfidf)\n",
    "from sklearn.linear_model import LogisticRegression\n",
    "\n",
    "lr = LogisticRegression(penalty=\"l2\", fit_intercept=True, max_iter=100, C=1,solver=\"lbfgs\", random_state=12345)\n",
    "\n",
    "model_func(lr, X_train, y_train, X_test, y_test)"
   ]
  },
  {
   "cell_type": "code",
   "execution_count": 10,
   "metadata": {},
   "outputs": [
    {
     "name": "stdout",
     "output_type": "stream",
     "text": [
      "Доля правильных ответов: 0.818333333333\n",
      "Затраченное время: 0:00:00.332622\n"
     ]
    }
   ],
   "source": [
    "# обучаем мультиномиальный наивный Байес (пока без Tfidf)\n",
    "from sklearn.naive_bayes import MultinomialNB\n",
    "\n",
    "mnb = MultinomialNB()\n",
    "\n",
    "model_func(mnb, X_train, y_train, X_test, y_test)"
   ]
  },
  {
   "cell_type": "code",
   "execution_count": 20,
   "metadata": {},
   "outputs": [],
   "source": [
    "# Tfidf\n",
    "\n",
    "tfidf = TfidfTransformer()\n",
    "X_train_tfidf = tfidf.fit_transform(X_train)\n",
    "X_test_tfidf = tfidf.transform(X_test)"
   ]
  },
  {
   "cell_type": "code",
   "execution_count": 21,
   "metadata": {},
   "outputs": [
    {
     "name": "stdout",
     "output_type": "stream",
     "text": [
      "Доля правильных ответов: 0.658333333333\n",
      "Затраченное время: 0:00:00.202547\n"
     ]
    }
   ],
   "source": [
    "# обучаем модель k-ближайших соседей\n",
    "knn = KNeighborsClassifier()\n",
    "\n",
    "model_func(knn, X_train_tfidf, y_train, X_test_tfidf, y_test)"
   ]
  },
  {
   "cell_type": "code",
   "execution_count": 22,
   "metadata": {},
   "outputs": [
    {
     "name": "stdout",
     "output_type": "stream",
     "text": [
      "Доля правильных ответов: 0.81\n",
      "Затраченное время: 0:00:00.094639\n"
     ]
    }
   ],
   "source": [
    "# обучаем логистическую регрессию\n",
    "lr = LogisticRegression(penalty=\"l2\", fit_intercept=True, max_iter=100, C=1,solver=\"lbfgs\", random_state=12345)\n",
    "\n",
    "model_func(lr, X_train_tfidf, y_train, X_test_tfidf, y_test)"
   ]
  },
  {
   "cell_type": "code",
   "execution_count": 23,
   "metadata": {},
   "outputs": [
    {
     "name": "stdout",
     "output_type": "stream",
     "text": [
      "Доля правильных ответов: 0.798333333333\n",
      "Затраченное время: 0:00:00.013064\n"
     ]
    }
   ],
   "source": [
    "# обучаем мультиномиальный наивный Байес\n",
    "mnb = MultinomialNB()\n",
    "\n",
    "model_func(mnb, X_train_tfidf, y_train, X_test_tfidf, y_test)"
   ]
  },
  {
   "cell_type": "markdown",
   "metadata": {},
   "source": [
    "### Кажется, я делаю что-то не то..."
   ]
  },
  {
   "cell_type": "markdown",
   "metadata": {},
   "source": [
    "ммм... наверное потому, что повторять нужно на k-folds и выбирать параметры..."
   ]
  },
  {
   "cell_type": "code",
   "execution_count": 24,
   "metadata": {
    "collapsed": true
   },
   "outputs": [],
   "source": [
    "ns = np.arange(1, 150, 20) # количество соседей\n",
    "cs = np.logspace(-2, 10, 8, base=10) # параметр регуляризации\n",
    "alphas = np.logspace(-4, 1, 8, base=10) # сглаживающий параметр"
   ]
  },
  {
   "cell_type": "code",
   "execution_count": 25,
   "metadata": {
    "collapsed": true
   },
   "outputs": [],
   "source": [
    "from matplotlib import pyplot as plt\n",
    "%matplotlib inline"
   ]
  },
  {
   "cell_type": "code",
   "execution_count": 32,
   "metadata": {},
   "outputs": [],
   "source": [
    "from sklearn.cross_validation import KFold\n",
    "from sklearn.base import clone"
   ]
  },
  {
   "cell_type": "code",
   "execution_count": 33,
   "metadata": {
    "collapsed": true
   },
   "outputs": [],
   "source": [
    "def model_CV(model, X, y):\n",
    "    as_test = 0\n",
    "    as_train = 0\n",
    "    \n",
    "    startTime = datetime.now()\n",
    "\n",
    "    kf = KFold(X.shape[0], n_folds=4, random_state = 12345)\n",
    "    \n",
    "    y_pred = np.zeros(y.shape[0])\n",
    "    for train, test in kf:\n",
    "        temp_model = clone(model)\n",
    "        \n",
    "        X_train = X[train]\n",
    "        X_test = X[test]\n",
    "        \n",
    "        y_train = y[train]\n",
    "        y_test = y[test]\n",
    "    \n",
    "        tfidf = TfidfTransformer()\n",
    "        X_train_tfidf = tfidf.fit_transform(X_train)\n",
    "        X_test_tfidf = tfidf.transform(X_test)\n",
    "        \n",
    "        # берем блок для обучения\n",
    "        temp_model.fit(X_train_tfidf, y_train)\n",
    "        \n",
    "        # считаем качество на обучении\n",
    "        y_pred[train] = temp_model.predict(X_train)\n",
    "        as_test = as_test + metrics.accuracy_score(y_train, y_pred[train])\n",
    "        \n",
    "        # считаем качество на валидации\n",
    "        y_pred[test] = temp_model.predict(X_test_tfidf)\n",
    "        as_train = as_train + metrics.accuracy_score(y_test, y_pred[test])\n",
    "    \n",
    "    mean_test = as_test / 4\n",
    "    mean_train = as_train / 4\n",
    "    \n",
    "    print('Качество на обучении: ', mean_test)\n",
    "    print('Качество на валидации: ', mean_train)    \n",
    "    print('Затраченное время:', datetime.now() - startTime)\n",
    "    return mean_train"
   ]
  },
  {
   "cell_type": "code",
   "execution_count": 34,
   "metadata": {
    "collapsed": true
   },
   "outputs": [],
   "source": [
    "def plot(x, y):    \n",
    "    plt.plot(x, y)\n",
    "    plt.xlabel(\"Значение гиперпараметра\")\n",
    "    plt.ylabel(\"Качество модели\")\n",
    "    return plt"
   ]
  },
  {
   "cell_type": "code",
   "execution_count": 35,
   "metadata": {
    "collapsed": true
   },
   "outputs": [],
   "source": [
    "X = result\n",
    "y = vec"
   ]
  },
  {
   "cell_type": "code",
   "execution_count": 36,
   "metadata": {},
   "outputs": [
    {
     "name": "stdout",
     "output_type": "stream",
     "text": [
      "kNN\n",
      "n: 1\n",
      "Качество на обучении:  1.0\n",
      "Качество на валидации:  0.526\n",
      "Затраченное время: 0:00:10.565814\n",
      "[0.52600000000000002]\n",
      "--\n",
      "n: 21\n",
      "Качество на обучении:  0.723666666667\n",
      "Качество на валидации:  0.303\n",
      "Затраченное время: 0:00:10.016979\n",
      "[0.52600000000000002, 0.30299999999999999]\n",
      "--\n",
      "n: 41\n",
      "Качество на обучении:  0.719666666667\n",
      "Качество на валидации:  0.2135\n",
      "Затраченное время: 0:00:09.887812\n",
      "[0.52600000000000002, 0.30299999999999999, 0.21350000000000002]\n",
      "--\n",
      "n: 61\n",
      "Качество на обучении:  0.716\n",
      "Качество на валидации:  0.166\n",
      "Затраченное время: 0:00:10.425026\n",
      "[0.52600000000000002, 0.30299999999999999, 0.21350000000000002, 0.16600000000000001]\n",
      "--\n",
      "n: 81\n",
      "Качество на обучении:  0.707166666667\n",
      "Качество на валидации:  0.131\n",
      "Затраченное время: 0:00:10.495449\n",
      "[0.52600000000000002, 0.30299999999999999, 0.21350000000000002, 0.16600000000000001, 0.13100000000000001]\n",
      "--\n",
      "n: 101\n",
      "Качество на обучении:  0.7015\n",
      "Качество на валидации:  0.098\n",
      "Затраченное время: 0:00:10.007277\n",
      "[0.52600000000000002, 0.30299999999999999, 0.21350000000000002, 0.16600000000000001, 0.13100000000000001, 0.098000000000000004]\n",
      "--\n",
      "n: 121\n",
      "Качество на обучении:  0.696166666667\n",
      "Качество на валидации:  0.0785\n",
      "Затраченное время: 0:00:11.300166\n",
      "[0.52600000000000002, 0.30299999999999999, 0.21350000000000002, 0.16600000000000001, 0.13100000000000001, 0.098000000000000004, 0.0785]\n",
      "--\n",
      "n: 141\n",
      "Качество на обучении:  0.691166666667\n",
      "Качество на валидации:  0.0605\n",
      "Затраченное время: 0:00:11.064398\n",
      "[0.52600000000000002, 0.30299999999999999, 0.21350000000000002, 0.16600000000000001, 0.13100000000000001, 0.098000000000000004, 0.0785, 0.060499999999999998]\n",
      "--\n"
     ]
    }
   ],
   "source": [
    "# меняем параметры моделей\n",
    "\n",
    "# kNN\n",
    "qualities_knn = []\n",
    "print('kNN')\n",
    "for n in ns:\n",
    "    print('n:', n)\n",
    "    knn = KNeighborsClassifier(n_neighbors=n)    \n",
    "    model = knn\n",
    "    quality = model_CV(model, X, y)\n",
    "    qualities_knn.append(quality)\n",
    "    print(qualities_knn)\n",
    "    print('--')"
   ]
  },
  {
   "cell_type": "markdown",
   "metadata": {},
   "source": [
    "Что-то ужасное качество на валидации...\n",
    "Но возможно это и плюс. Изначально задание заключается в отнесении объекта (текста) к одному из 2 классов (позитивный или негативный). Если мы в 7% случаев называем правильный класс, то в 93% - неправильный. Однако такой алгоритм можно считать хорошим, потому что если мы мысленно (или не мысленно) будем менять предсказанный класс на противоположный, то в 93% случаев мы угадаем истинный класс.\n",
    "#####\n",
    "Стоит заметить, что качество на обучении достаточно хорошее. Это свидетельствует о переобучении модели."
   ]
  },
  {
   "cell_type": "code",
   "execution_count": 38,
   "metadata": {},
   "outputs": [
    {
     "name": "stdout",
     "output_type": "stream",
     "text": [
      "График для kNN\n"
     ]
    },
    {
     "data": {
      "text/plain": [
       "<module 'matplotlib.pyplot' from '/Users/anastasiarodygina/anaconda/lib/python3.6/site-packages/matplotlib/pyplot.py'>"
      ]
     },
     "execution_count": 38,
     "metadata": {},
     "output_type": "execute_result"
    },
    {
     "data": {
      "image/png": "[encoded data removed]",
      "text/plain": [
       "<matplotlib.figure.Figure at 0x138c5f438>"
      ]
     },
     "metadata": {},
     "output_type": "display_data"
    }
   ],
   "source": [
    "# График для kNN\n",
    "print('График для kNN')\n",
    "plot(ns, qualities_knn)"
   ]
  },
  {
   "cell_type": "markdown",
   "metadata": {},
   "source": [
    "График очень похож на тот, что был при n-gram = 1, мы снова выбираем 1 соседа в качестве гиперпараметра. Но это возможно изменилось бы, если бы мы воплотили в жизнь идею с изменением класса на противоположный."
   ]
  },
  {
   "cell_type": "code",
   "execution_count": 39,
   "metadata": {
    "collapsed": true
   },
   "outputs": [],
   "source": [
    "# kNN\n",
    "# Настроим модель с использованием выбранного гиперпараметра\n",
    "knn_itog = KNeighborsClassifier(n_neighbors=1)"
   ]
  },
  {
   "cell_type": "code",
   "execution_count": 40,
   "metadata": {},
   "outputs": [
    {
     "name": "stdout",
     "output_type": "stream",
     "text": [
      "Logistic Regression\n",
      "c: 0.01\n",
      "Качество на обучении:  0.695\n",
      "Качество на валидации:  0.0\n",
      "Затраченное время: 0:00:05.302067\n",
      "[0.0]\n",
      "--\n",
      "c: 0.517947467923\n",
      "Качество на обучении:  0.810166666667\n",
      "Качество на валидации:  0.01\n",
      "Затраченное время: 0:00:05.301413\n",
      "[0.0, 0.01]\n",
      "--\n",
      "c: 26.8269579528\n",
      "Качество на обучении:  0.923666666667\n",
      "Качество на валидации:  0.5425\n",
      "Затраченное время: 0:00:06.339060\n",
      "[0.0, 0.01, 0.54249999999999998]\n",
      "--\n",
      "c: 1389.49549437\n",
      "Качество на обучении:  0.9445\n",
      "Качество на валидации:  0.5975\n",
      "Затраченное время: 0:00:06.800285\n",
      "[0.0, 0.01, 0.54249999999999998, 0.59749999999999992]\n",
      "--\n",
      "c: 71968.5673001\n",
      "Качество на обучении:  0.949166666667\n",
      "Качество на валидации:  0.611\n",
      "Затраченное время: 0:00:06.648765\n",
      "[0.0, 0.01, 0.54249999999999998, 0.59749999999999992, 0.61099999999999999]\n",
      "--\n",
      "c: 3727593.72031\n",
      "Качество на обучении:  0.915666666667\n",
      "Качество на валидации:  0.6535\n",
      "Затраченное время: 0:00:05.937759\n",
      "[0.0, 0.01, 0.54249999999999998, 0.59749999999999992, 0.61099999999999999, 0.65349999999999997]\n",
      "--\n",
      "c: 193069772.888\n",
      "Качество на обучении:  0.885666666667\n",
      "Качество на валидации:  0.6785\n",
      "Затраченное время: 0:00:05.972232\n",
      "[0.0, 0.01, 0.54249999999999998, 0.59749999999999992, 0.61099999999999999, 0.65349999999999997, 0.67849999999999988]\n",
      "--\n",
      "c: 10000000000.0\n",
      "Качество на обучении:  0.8855\n",
      "Качество на валидации:  0.6805\n",
      "Затраченное время: 0:00:05.488293\n",
      "[0.0, 0.01, 0.54249999999999998, 0.59749999999999992, 0.61099999999999999, 0.65349999999999997, 0.67849999999999988, 0.6805000000000001]\n",
      "--\n"
     ]
    }
   ],
   "source": [
    "# lr\n",
    "print('Logistic Regression')\n",
    "qualities_lr = []\n",
    "for c in cs:\n",
    "    print('c:', c)\n",
    "    lr = LogisticRegression(C=c, solver=\"lbfgs\", random_state=12345)\n",
    "    model = lr\n",
    "    quality = model_CV(model, X, y) # вот это почему-то не работает, хотя в функции указан return\n",
    "    qualities_lr.append(quality)\n",
    "    print(qualities_lr)\n",
    "    print('--')"
   ]
  },
  {
   "cell_type": "code",
   "execution_count": 41,
   "metadata": {
    "scrolled": true
   },
   "outputs": [
    {
     "name": "stdout",
     "output_type": "stream",
     "text": [
      "График для логистической регрессии\n"
     ]
    },
    {
     "data": {
      "text/plain": [
       "<module 'matplotlib.pyplot' from '/Users/anastasiarodygina/anaconda/lib/python3.6/site-packages/matplotlib/pyplot.py'>"
      ]
     },
     "execution_count": 41,
     "metadata": {},
     "output_type": "execute_result"
    },
    {
     "data": {
      "image/png": "[encoded data removed]",
      "text/plain": [
       "<matplotlib.figure.Figure at 0x137358c88>"
      ]
     },
     "metadata": {},
     "output_type": "display_data"
    }
   ],
   "source": [
    "# График для логистической регрессии\n",
    "print('График для логистической регрессии')\n",
    "plot(cs, qualities_lr)"
   ]
  },
  {
   "cell_type": "markdown",
   "metadata": {},
   "source": [
    "Ну, почти монетка. Чуть-чуть лучше. Лучший гиперпараметр: 10000000000.0"
   ]
  },
  {
   "cell_type": "code",
   "execution_count": 45,
   "metadata": {
    "collapsed": true
   },
   "outputs": [],
   "source": [
    "# lr\n",
    "# Настроим модель с использованием выбранного гиперпараметра\n",
    "lr_itog = LogisticRegression(C=10000000000.0)"
   ]
  },
  {
   "cell_type": "code",
   "execution_count": 42,
   "metadata": {},
   "outputs": [
    {
     "name": "stdout",
     "output_type": "stream",
     "text": [
      "Multinomial NB\n",
      "alpha: 0.0001\n",
      "Качество на обучении:  0.9975\n",
      "Качество на валидации:  0.3215\n",
      "Затраченное время: 0:00:05.198906\n",
      "[0.32150000000000001]\n",
      "--\n",
      "alpha: 0.000517947467923\n",
      "Качество на обучении:  0.997\n",
      "Качество на валидации:  0.3525\n",
      "Затраченное время: 0:00:05.087404\n",
      "[0.32150000000000001, 0.35250000000000004]\n",
      "--\n",
      "alpha: 0.00268269579528\n",
      "Качество на обучении:  0.9965\n",
      "Качество на валидации:  0.4\n",
      "Затраченное время: 0:00:05.025780\n",
      "[0.32150000000000001, 0.35250000000000004, 0.39999999999999997]\n",
      "--\n",
      "alpha: 0.0138949549437\n",
      "Качество на обучении:  0.995833333333\n",
      "Качество на валидации:  0.477\n",
      "Затраченное время: 0:00:04.996039\n",
      "[0.32150000000000001, 0.35250000000000004, 0.39999999999999997, 0.47699999999999998]\n",
      "--\n",
      "alpha: 0.0719685673001\n",
      "Качество на обучении:  0.992166666667\n",
      "Качество на валидации:  0.5365\n",
      "Затраченное время: 0:00:04.676390\n",
      "[0.32150000000000001, 0.35250000000000004, 0.39999999999999997, 0.47699999999999998, 0.53649999999999998]\n",
      "--\n",
      "alpha: 0.372759372031\n",
      "Качество на обучении:  0.883166666667\n",
      "Качество на валидации:  0.2615\n",
      "Затраченное время: 0:00:04.529774\n",
      "[0.32150000000000001, 0.35250000000000004, 0.39999999999999997, 0.47699999999999998, 0.53649999999999998, 0.26150000000000001]\n",
      "--\n",
      "alpha: 1.93069772888\n",
      "Качество на обучении:  0.667\n",
      "Качество на валидации:  0.0\n",
      "Затраченное время: 0:00:04.555743\n",
      "[0.32150000000000001, 0.35250000000000004, 0.39999999999999997, 0.47699999999999998, 0.53649999999999998, 0.26150000000000001, 0.0]\n",
      "--\n",
      "alpha: 10.0\n",
      "Качество на обучении:  0.666666666667\n",
      "Качество на валидации:  0.0\n",
      "Затраченное время: 0:00:04.543456\n",
      "[0.32150000000000001, 0.35250000000000004, 0.39999999999999997, 0.47699999999999998, 0.53649999999999998, 0.26150000000000001, 0.0, 0.0]\n",
      "--\n"
     ]
    }
   ],
   "source": [
    "# mnb\n",
    "print('Multinomial NB')\n",
    "qualities_mnb = []\n",
    "for alpha in alphas:\n",
    "    print('alpha:', alpha)\n",
    "    mnb = MultinomialNB(alpha=alpha)\n",
    "    model = mnb\n",
    "    quality = model_CV(model, X, y)\n",
    "    qualities_mnb.append(quality)\n",
    "    print(qualities_mnb)\n",
    "    print('--')"
   ]
  },
  {
   "cell_type": "code",
   "execution_count": 43,
   "metadata": {},
   "outputs": [
    {
     "name": "stdout",
     "output_type": "stream",
     "text": [
      "График для мультиномиального наивного байеса\n"
     ]
    },
    {
     "data": {
      "text/plain": [
       "<module 'matplotlib.pyplot' from '/Users/anastasiarodygina/anaconda/lib/python3.6/site-packages/matplotlib/pyplot.py'>"
      ]
     },
     "execution_count": 43,
     "metadata": {},
     "output_type": "execute_result"
    },
    {
     "data": {
      "image/png": "[encoded data removed]",
      "text/plain": [
       "<matplotlib.figure.Figure at 0x1382fecf8>"
      ]
     },
     "metadata": {},
     "output_type": "display_data"
    }
   ],
   "source": [
    "# График для мультиномиального наивного байеса\n",
    "print('График для мультиномиального наивного байеса')\n",
    "plot(alphas, qualities_mnb)"
   ]
  },
  {
   "cell_type": "markdown",
   "metadata": {},
   "source": [
    "Как и в прошлый раз есть четко выраженный пик. Выбираем альфу, равную 0.0719685673001"
   ]
  },
  {
   "cell_type": "code",
   "execution_count": 46,
   "metadata": {
    "collapsed": true
   },
   "outputs": [],
   "source": [
    "# Настроим модель с использованием выбранного гиперпараметра\n",
    "mnb_itog = MultinomialNB(alpha=0.0138949549437)"
   ]
  },
  {
   "cell_type": "code",
   "execution_count": 47,
   "metadata": {},
   "outputs": [
    {
     "name": "stdout",
     "output_type": "stream",
     "text": [
      "Доля правильных ответов: 0.606666666667\n",
      "Затраченное время: 0:00:00.609310\n"
     ]
    }
   ],
   "source": [
    "# kNN\n",
    "model_func(knn_itog, X_train_tfidf, y_train, X_test, y_test)"
   ]
  },
  {
   "cell_type": "code",
   "execution_count": 48,
   "metadata": {},
   "outputs": [
    {
     "name": "stdout",
     "output_type": "stream",
     "text": [
      "Доля правильных ответов: 0.695\n",
      "Затраченное время: 0:00:00.285827\n"
     ]
    }
   ],
   "source": [
    "# lr\n",
    "model_func(lr_itog, X_train_tfidf, y_train, X_test, y_test)"
   ]
  },
  {
   "cell_type": "code",
   "execution_count": 49,
   "metadata": {},
   "outputs": [
    {
     "name": "stdout",
     "output_type": "stream",
     "text": [
      "Доля правильных ответов: 0.821666666667\n",
      "Затраченное время: 0:00:00.064968\n"
     ]
    }
   ],
   "source": [
    "# mnb\n",
    "model_func(mnb_itog, X_train_tfidf, y_train, X_test, y_test)"
   ]
  },
  {
   "cell_type": "markdown",
   "metadata": {},
   "source": [
    "# Пункт 5\n",
    "Выведите итоговые данные по всем методам для лучших моделей (метод, n-gram, значение параметра модели, время обучения, время предсказания, доля правильных классификаций)"
   ]
  },
  {
   "cell_type": "markdown",
   "metadata": {},
   "source": [
    "-- Какие модели считать лучшими? В задании было сказано использовать долю правильных ответов, а это, как известно, далеко не самый лучший способ оценки модели. Рассмотрим ситуации, когда качество модели было выше 0,8."
   ]
  },
  {
   "cell_type": "markdown",
   "metadata": {},
   "source": [
    "### n-gram = 1"
   ]
  },
  {
   "cell_type": "markdown",
   "metadata": {},
   "source": [
    "1. Предварительно обработанная CountVectorizer-ом матрица, разбитая на тренировочную и тестовую выборки используется при обучении логистической регрессии. Параметры: (penalty=\"l2\", fit_intercept=True, max_iter=100, C=1, solver=\"lbfgs\", random_state=12345). Время обучения и предсказания: 0:00:08.993048. Доля правильных классификаций: 0.806666666667\n",
    "\n",
    "2. Мультиномиальный наивный Байес. CountVectorizer, разбиение на тренировочную и тестовую выборки, параметры по умолчанию (alpha = 1). Время обучения и предсказания: 0:00:00.713125. Доля правильных классификаций: 0.803333333333"
   ]
  },
  {
   "cell_type": "markdown",
   "metadata": {},
   "source": [
    "Я могу объяснить это тем, что метод tfidf не подходит для данной конкретной задачи. CountVectorizer справляется гораздо лучше."
   ]
  },
  {
   "cell_type": "markdown",
   "metadata": {},
   "source": [
    "### n-gram = 2"
   ]
  },
  {
   "cell_type": "markdown",
   "metadata": {},
   "source": [
    "1. Мультиномиальный наивный Байес. CountVectorizer, разбиение на тренировочную и тестовую выборки, параметры по умолчанию (alpha = 1). Время обучения и предсказания: 0:00:00.332622. Доля правильных классификаций: 0.818333333333\n",
    "\n",
    "2. Логистическая регрессия. CountVectorizer, разбиение на тренировочную и тестовую выборки. Параметры: (penalty=\"l2\", fit_intercept=True, max_iter=100, C=1, solver=\"lbfgs\", random_state=12345). Время обучения и предсказания: 0:00:00.094639. Доля правильных классификаций: 0.81\n",
    "\n",
    "3. Мультиномиальный наивный Байес. CountVectorizer, TfidfTransformer, k-Folds, alpha = 0.0138949549437. Время обучения и предсказания: 0:00:00.064968. Доля правильных классификаций:0.821666666667"
   ]
  },
  {
   "cell_type": "markdown",
   "metadata": {},
   "source": [
    "# Пункт 6\n",
    "Сделайте выводы по полученным результатам: какой метод показал наилучшее качество на обучении? на валидации? на тестовой выборке? Если это разные классификаторы, подумайте, почему так происходит. Если один и тот же, в чем его преимущества перед остальными? велика ли разница между качеством на обучении и на валидации? на валидации и контроле? Почему так происходит? что означает n-gram=2? Улучшилось ли качество при переходе от n-gram=1 к n-gram=2? Предложите свои идеи, почему. есть ли связь между качеством классификации и временем обучения/предсказания? какой классификатор обучается медленнее всего? медленнее всего делает предсказания? В чем причина?"
   ]
  },
  {
   "cell_type": "markdown",
   "metadata": {},
   "source": [
    "--"
   ]
  },
  {
   "cell_type": "markdown",
   "metadata": {},
   "source": [
    "На обучении лучшее качество показал мультиномиальный наивный байес (см. первый ноутбук) (при n-gram = 1 и n-gram = 2), а также логистическая регрессия (при n-gram = 2). Регрессия наверное все-таки чуть лучше."
   ]
  },
  {
   "cell_type": "markdown",
   "metadata": {},
   "source": [
    "На валидации тоже регрессия. В обоих из рассмотренных случаев."
   ]
  },
  {
   "cell_type": "markdown",
   "metadata": {},
   "source": [
    "На тестовой выборке тоже логистическая регрессия. Но байес уступает ей совсем чуть-чуть."
   ]
  },
  {
   "cell_type": "markdown",
   "metadata": {},
   "source": [
    "Очевидно, регрессия побеждает. Я думаю, причина кроется в том, что мы изначально использовали один из ее параметров не по умолчанию, а в двух других алгоритмах - дефолтные."
   ]
  },
  {
   "cell_type": "markdown",
   "metadata": {},
   "source": [
    "Разница между качеством на обучении и валидации велика. Это видно невооруженным глазом."
   ]
  },
  {
   "cell_type": "markdown",
   "metadata": {},
   "source": [
    "n-gram = 2 - это аргумент  vectorizer-а  ngram_range, принимающий значение (2,2)"
   ]
  },
  {
   "cell_type": "markdown",
   "metadata": {},
   "source": [
    "Качество улучшилось при переходе от n-gram=1 к n-gram=2."
   ]
  },
  {
   "cell_type": "markdown",
   "metadata": {},
   "source": [
    "Я считаю, что связи между качеством классификации и временем обучения/предсказания нет. Скорость зависит от мощности компьютера, который производит вычисления."
   ]
  },
  {
   "cell_type": "markdown",
   "metadata": {},
   "source": [
    "Медленнее всего обучается kNN. Причина - много времени уходит на рассчет расстояний до всех соседей."
   ]
  }
 ],
 "metadata": {
  "kernelspec": {
   "display_name": "Python 3",
   "language": "python",
   "name": "python3"
  },
  "language_info": {
   "codemirror_mode": {
    "name": "ipython",
    "version": 3
   },
   "file_extension": ".py",
   "mimetype": "text/x-python",
   "name": "python",
   "nbconvert_exporter": "python",
   "pygments_lexer": "ipython3",
   "version": "3.6.4"
  }
 },
 "nbformat": 4,
 "nbformat_minor": 2
}
