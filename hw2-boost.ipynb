{
 "cells": [
  {
   "cell_type": "markdown",
   "metadata": {},
   "source": [
    "# Домашняя работа №2"
   ]
  },
  {
   "cell_type": "markdown",
   "metadata": {},
   "source": [
    "**Срок сдачи:** 21 октября 2017, 23:59 <br\\>\n",
    "Штраф за опоздание: -1 балл за каждый день\n",
    "\n",
    "Файл с дз надо загрузить по [ссылке](https://www.dropbox.com/request/Sc8LELV7lp5Vl3Ad7wJG)<br/>\n",
    "Постарайтесь назвать файл по следующему формату:** [ИАД-*{Номер}*] *{Фамилия}* *{Имя}* ДЗ*{Номер}* **<br/>\n",
    "\n",
    "Сопровождайте ваш код изображеними, комментариями и выводами. <br/>\n",
    "Иммейте ввиду, что на некоторые задачи нет единственного верного и полного ответа. Чем больше информации вы сможете извлечь, аргументированных выводов сформулировать, тем лучше.\n",
    "\n",
    "Используйте данный Ipython Notebook при оформлении домашнего задания."
   ]
  },
  {
   "cell_type": "markdown",
   "metadata": {},
   "source": [
    "# Table of Contents\n",
    " <p><div class=\"lev1 toc-item\"><a href=\"#Домашняя-работа-2\" data-toc-modified-id=\"Домашняя-работа-2-1\"><span class=\"toc-item-num\">1&nbsp;&nbsp;</span>Домашняя работа 2</a></div><div class=\"lev2 toc-item\"><a href=\"#Работа-с-данными-(4-балла)\" data-toc-modified-id=\"Работа-с-данными-(4-балла)-1.1\"><span class=\"toc-item-num\">1.1&nbsp;&nbsp;</span>Работа с данными (4 балла)</a></div><div class=\"lev2 toc-item\"><a href=\"#Классификация-(6-баллов)\" data-toc-modified-id=\"Классификация-(6-баллов)-1.2\"><span class=\"toc-item-num\">1.2&nbsp;&nbsp;</span>Классификация (6 баллов)</a></div><div class=\"lev3 toc-item\"><a href=\"#Предписания\" data-toc-modified-id=\"Предписания-1.2.1\"><span class=\"toc-item-num\">1.2.1&nbsp;&nbsp;</span>Предписания</a></div><div class=\"lev3 toc-item\"><a href=\"#Задание\" data-toc-modified-id=\"Задание-1.2.2\"><span class=\"toc-item-num\">1.2.2&nbsp;&nbsp;</span>Задание</a></div>"
   ]
  },
  {
   "cell_type": "markdown",
   "metadata": {},
   "source": [
    "Прочтите статью [\"USING\tDATA\tMINING\tTO\tPREDICT\tSECONDARY SCHOOL\tSTUDENT\tALCOHOL\tCONSUMPTION\"](https://www.dropbox.com/s/ww4h9ivnkbyy9xw/STUDENT%20ALCOHOL%20CONSUMPTION%20%281%29.pdf?dl=0).<br\\>\n",
    "Загрузите [датасет](https://cloud.mail.ru/public/KiKi/Cow8y2yn7), используемый в статье и выполните следующие задания:"
   ]
  },
  {
   "cell_type": "code",
   "execution_count": 1,
   "metadata": {
    "collapsed": true
   },
   "outputs": [],
   "source": [
    "import pandas as pd\n",
    "import numpy as np\n",
    "import matplotlib.pyplot as plt\n",
    "%matplotlib inline"
   ]
  },
  {
   "cell_type": "code",
   "execution_count": 2,
   "metadata": {
    "collapsed": true
   },
   "outputs": [],
   "source": [
    "df = pd.read_csv('./student/student-por.csv', sep=';')"
   ]
  },
  {
   "cell_type": "code",
   "execution_count": 3,
   "metadata": {
    "collapsed": false
   },
   "outputs": [
    {
     "data": {
      "text/html": [
       "<div>\n",
       "<style>\n",
       "    .dataframe thead tr:only-child th {\n",
       "        text-align: right;\n",
       "    }\n",
       "\n",
       "    .dataframe thead th {\n",
       "        text-align: left;\n",
       "    }\n",
       "\n",
       "    .dataframe tbody tr th {\n",
       "        vertical-align: top;\n",
       "    }\n",
       "</style>\n",
       "<table border=\"1\" class=\"dataframe\">\n",
       "  <thead>\n",
       "    <tr style=\"text-align: right;\">\n",
       "      <th></th>\n",
       "      <th>school</th>\n",
       "      <th>sex</th>\n",
       "      <th>age</th>\n",
       "      <th>address</th>\n",
       "      <th>famsize</th>\n",
       "      <th>Pstatus</th>\n",
       "      <th>Medu</th>\n",
       "      <th>Fedu</th>\n",
       "      <th>Mjob</th>\n",
       "      <th>Fjob</th>\n",
       "      <th>...</th>\n",
       "      <th>famrel</th>\n",
       "      <th>freetime</th>\n",
       "      <th>goout</th>\n",
       "      <th>Dalc</th>\n",
       "      <th>Walc</th>\n",
       "      <th>health</th>\n",
       "      <th>absences</th>\n",
       "      <th>G1</th>\n",
       "      <th>G2</th>\n",
       "      <th>G3</th>\n",
       "    </tr>\n",
       "  </thead>\n",
       "  <tbody>\n",
       "    <tr>\n",
       "      <th>0</th>\n",
       "      <td>GP</td>\n",
       "      <td>F</td>\n",
       "      <td>18</td>\n",
       "      <td>U</td>\n",
       "      <td>GT3</td>\n",
       "      <td>A</td>\n",
       "      <td>4</td>\n",
       "      <td>4</td>\n",
       "      <td>at_home</td>\n",
       "      <td>teacher</td>\n",
       "      <td>...</td>\n",
       "      <td>4</td>\n",
       "      <td>3</td>\n",
       "      <td>4</td>\n",
       "      <td>1</td>\n",
       "      <td>1</td>\n",
       "      <td>3</td>\n",
       "      <td>4</td>\n",
       "      <td>0</td>\n",
       "      <td>11</td>\n",
       "      <td>11</td>\n",
       "    </tr>\n",
       "    <tr>\n",
       "      <th>1</th>\n",
       "      <td>GP</td>\n",
       "      <td>F</td>\n",
       "      <td>17</td>\n",
       "      <td>U</td>\n",
       "      <td>GT3</td>\n",
       "      <td>T</td>\n",
       "      <td>1</td>\n",
       "      <td>1</td>\n",
       "      <td>at_home</td>\n",
       "      <td>other</td>\n",
       "      <td>...</td>\n",
       "      <td>5</td>\n",
       "      <td>3</td>\n",
       "      <td>3</td>\n",
       "      <td>1</td>\n",
       "      <td>1</td>\n",
       "      <td>3</td>\n",
       "      <td>2</td>\n",
       "      <td>9</td>\n",
       "      <td>11</td>\n",
       "      <td>11</td>\n",
       "    </tr>\n",
       "    <tr>\n",
       "      <th>2</th>\n",
       "      <td>GP</td>\n",
       "      <td>F</td>\n",
       "      <td>15</td>\n",
       "      <td>U</td>\n",
       "      <td>LE3</td>\n",
       "      <td>T</td>\n",
       "      <td>1</td>\n",
       "      <td>1</td>\n",
       "      <td>at_home</td>\n",
       "      <td>other</td>\n",
       "      <td>...</td>\n",
       "      <td>4</td>\n",
       "      <td>3</td>\n",
       "      <td>2</td>\n",
       "      <td>2</td>\n",
       "      <td>3</td>\n",
       "      <td>3</td>\n",
       "      <td>6</td>\n",
       "      <td>12</td>\n",
       "      <td>13</td>\n",
       "      <td>12</td>\n",
       "    </tr>\n",
       "    <tr>\n",
       "      <th>3</th>\n",
       "      <td>GP</td>\n",
       "      <td>F</td>\n",
       "      <td>15</td>\n",
       "      <td>U</td>\n",
       "      <td>GT3</td>\n",
       "      <td>T</td>\n",
       "      <td>4</td>\n",
       "      <td>2</td>\n",
       "      <td>health</td>\n",
       "      <td>services</td>\n",
       "      <td>...</td>\n",
       "      <td>3</td>\n",
       "      <td>2</td>\n",
       "      <td>2</td>\n",
       "      <td>1</td>\n",
       "      <td>1</td>\n",
       "      <td>5</td>\n",
       "      <td>0</td>\n",
       "      <td>14</td>\n",
       "      <td>14</td>\n",
       "      <td>14</td>\n",
       "    </tr>\n",
       "    <tr>\n",
       "      <th>4</th>\n",
       "      <td>GP</td>\n",
       "      <td>F</td>\n",
       "      <td>16</td>\n",
       "      <td>U</td>\n",
       "      <td>GT3</td>\n",
       "      <td>T</td>\n",
       "      <td>3</td>\n",
       "      <td>3</td>\n",
       "      <td>other</td>\n",
       "      <td>other</td>\n",
       "      <td>...</td>\n",
       "      <td>4</td>\n",
       "      <td>3</td>\n",
       "      <td>2</td>\n",
       "      <td>1</td>\n",
       "      <td>2</td>\n",
       "      <td>5</td>\n",
       "      <td>0</td>\n",
       "      <td>11</td>\n",
       "      <td>13</td>\n",
       "      <td>13</td>\n",
       "    </tr>\n",
       "  </tbody>\n",
       "</table>\n",
       "<p>5 rows × 33 columns</p>\n",
       "</div>"
      ],
      "text/plain": [
       "  school sex  age address famsize Pstatus  Medu  Fedu     Mjob      Fjob ...  \\\n",
       "0     GP   F   18       U     GT3       A     4     4  at_home   teacher ...   \n",
       "1     GP   F   17       U     GT3       T     1     1  at_home     other ...   \n",
       "2     GP   F   15       U     LE3       T     1     1  at_home     other ...   \n",
       "3     GP   F   15       U     GT3       T     4     2   health  services ...   \n",
       "4     GP   F   16       U     GT3       T     3     3    other     other ...   \n",
       "\n",
       "  famrel freetime  goout  Dalc  Walc health absences  G1  G2  G3  \n",
       "0      4        3      4     1     1      3        4   0  11  11  \n",
       "1      5        3      3     1     1      3        2   9  11  11  \n",
       "2      4        3      2     2     3      3        6  12  13  12  \n",
       "3      3        2      2     1     1      5        0  14  14  14  \n",
       "4      4        3      2     1     2      5        0  11  13  13  \n",
       "\n",
       "[5 rows x 33 columns]"
      ]
     },
     "execution_count": 3,
     "metadata": {},
     "output_type": "execute_result"
    }
   ],
   "source": [
    "df.head()"
   ]
  },
  {
   "cell_type": "markdown",
   "metadata": {},
   "source": [
    "## Работа с данными (4 балла)\n",
    "1. Приведите описание признаков датасета на русском языке с указанием типа данных (2 балла)\n",
    "2. Описание предобработки данных (2 балла)\n",
    "    - Проверьте наличие пропусков. В случае наличия пропусков заполните их медианными значениями (1 балл)\n",
    "    - Преобразуйте все номинальные признаки в несколько признаков с бинарным значением (1 балл)"
   ]
  },
  {
   "cell_type": "markdown",
   "metadata": {},
   "source": [
    "### 1. Описание признаков датасета"
   ]
  },
  {
   "cell_type": "markdown",
   "metadata": {},
   "source": [
    "Честно говоря, не очень хорошо понимаю смысл этого задания, особенно после слов Андрея на семинаре о том, что перевод не нужен - \"Вы же не переводчики\". Описание данных приведено в статье, причем в достаточно удобном виде. Ну да ладно, раз уж сказано описать признаки датасета \"на русском языке\", так и поступлю.\n",
    "\n",
    "Сначала посмотрим, какие вообще признаки есть. Это очень легко, так как они являются названиями колонок в датасете."
   ]
  },
  {
   "cell_type": "code",
   "execution_count": 4,
   "metadata": {
    "collapsed": false
   },
   "outputs": [
    {
     "data": {
      "text/plain": [
       "(Index(['school', 'sex', 'age', 'address', 'famsize', 'Pstatus', 'Medu', 'Fedu',\n",
       "        'Mjob', 'Fjob', 'reason', 'guardian', 'traveltime', 'studytime',\n",
       "        'failures', 'schoolsup', 'famsup', 'paid', 'activities', 'nursery',\n",
       "        'higher', 'internet', 'romantic', 'famrel', 'freetime', 'goout', 'Dalc',\n",
       "        'Walc', 'health', 'absences', 'G1', 'G2', 'G3'],\n",
       "       dtype='object'), 33)"
      ]
     },
     "execution_count": 4,
     "metadata": {},
     "output_type": "execute_result"
    }
   ],
   "source": [
    "df.columns, len(df.columns)"
   ]
  },
  {
   "cell_type": "markdown",
   "metadata": {},
   "source": [
    "Для удобства помещу признаковое описание из статьи здесь"
   ]
  },
  {
   "cell_type": "markdown",
   "metadata": {},
   "source": [
    "![title](prizn.png)"
   ]
  },
  {
   "cell_type": "markdown",
   "metadata": {},
   "source": [
    "Я хочу создать новый датафрейм descr_features, включающий название признака, его тип и описание.\n",
    "\n",
    "Это не просто способ удобно представить информацию, но и возможность быстро выводить информацию об интересущих признаках далее в работе. Не знаю, понадобится это или нет, но лишним не будет"
   ]
  },
  {
   "cell_type": "code",
   "execution_count": 5,
   "metadata": {
    "collapsed": false
   },
   "outputs": [],
   "source": [
    "features = df.columns\n",
    "\n",
    "descr_features = pd.DataFrame(columns=['feature', 'type', 'description'])\n",
    "\n",
    "descr_features.feature = features\n",
    "descr_features.type = 'числовой'"
   ]
  },
  {
   "cell_type": "markdown",
   "metadata": {},
   "source": [
    "Добавляем бинарные и номинальные значения"
   ]
  },
  {
   "cell_type": "code",
   "execution_count": 6,
   "metadata": {
    "collapsed": false
   },
   "outputs": [],
   "source": [
    "binary_features = ['school','sex','address','famsize','Pstatus','schoolsup',\n",
    "                   'famsup','paid','activities', 'nursery','higher',\n",
    "                   'internet','romantic']\n",
    "\n",
    "nominal_features = ['Mjob', 'Fjob', 'reason', 'guardian']"
   ]
  },
  {
   "cell_type": "code",
   "execution_count": 7,
   "metadata": {
    "collapsed": false
   },
   "outputs": [],
   "source": [
    "i = 0\n",
    "for feature in descr_features.feature:\n",
    "    if feature in binary_features:\n",
    "        descr_features.type[i] = 'бинарный'\n",
    "    if feature in nominal_features:\n",
    "        descr_features.type[i] = 'номинальный'\n",
    "    i += 1"
   ]
  },
  {
   "cell_type": "markdown",
   "metadata": {},
   "source": [
    "Осталось описание... Ну как-то странно и долго, потому что писать придется вручную и на это уйдет много времени. Ну да ок"
   ]
  },
  {
   "cell_type": "markdown",
   "metadata": {},
   "source": [
    "Я заметила, что не все переменные в нашем датасете и описании, представленном в статье, совпадают. Например, в статье учитывается только образование матери, а про отца ничего не спрашивают. Смахивает на дискриминацию, но в наших данных информация об отцах тоже есть. Поэтому в следующей ячейке будут описаны те переменные, которые есть в статье + те, которые являются идентичными, но в статье не указаны (если есть информация о матерях, а в нашем датасете есть переменная, учитывающая эту же сторону жизни отцов, она тоже будет в следующей ячейке)."
   ]
  },
  {
   "cell_type": "code",
   "execution_count": 8,
   "metadata": {
    "collapsed": false
   },
   "outputs": [],
   "source": [
    "descr_features.description[0] = 'Школа: Gabriel Pereira или Mousinho da Silveira'\n",
    "descr_features.description[1] = 'Пол: женский или мужской'\n",
    "descr_features.description[2] = 'Возраст: от 15 до 22'\n",
    "descr_features.description[3] = 'Тип домашнего адреса: живет в городе или сельской местности'\n",
    "\n",
    "descr_features.description[5] = 'Статус сожительства родителей: живут вместе или раздельно'\n",
    "descr_features.description[6] = 'Образование матери: 0 - нет, 1 - начальное, 2 - с 5 по 9 класс,\\\n",
    "                                    3 - старшая школа, 4 - высшее образование'\n",
    "descr_features.description[7] = 'Образование отца: 0 - нет, 1 - начальное, 2 - с 5 по 9 класс,\\\n",
    "                                    3 - старшая школа, 4 - высшее образование'\n",
    "descr_features.description[8] = 'Работа матери'\n",
    "descr_features.description[9] = 'Работа отца'\n",
    "\n",
    "\n",
    "descr_features.description[12] = \"\"\"Время, которое тратится на поездку из дома в школу: 1 - меньше 15 минут,\\ \n",
    "                                2 - 15-30 минут, 3 - полчаса-час, 4 - 1 час\"\"\"\n",
    "descr_features.description[13] = 'Сколько часов в неделю учится: 1 - меньше 2 часов, 2 - от 2 до 5 часов,\\\n",
    "                                3 - от 5 до 10, 4 - больше 10'\n",
    "descr_features.description[14] = 'Количество \"провалов\" в школе в прошлом: от 1 до 4'\n",
    "descr_features.description[15] = 'Поддержка школы в вопросах дополнительного образования: да/нет'\n",
    "descr_features.description[16] = 'Поддержка семьи в вопросах образования: да/нет'\n",
    "descr_features.description[17] = 'В описании есть похожая переменная, скорее всего: пришлось ли платить\\\n",
    "                                за дополнительное (?) образование - да/нет'\n",
    "descr_features.description[18] = 'Внеклассные занятия: да/нет'\n",
    "descr_features.description[19] = 'Был ли в детском саду: да/нет'\n",
    "descr_features.description[20] = 'Хочет получить высшее образование: да/нет'\n",
    "descr_features.description[21] = 'Наличие доступа к Интернету дома: да/нет'\n",
    "descr_features.description[22] = 'Состоит в романтических отношениях: да/нет'\n",
    "\n",
    "descr_features.description[24] = 'Свободное время после школы: 1 - очень мало, 5 - очень много'\n",
    "descr_features.description[25] = 'Прогулки с друзьями: 1 - очень редко, 5 - очень часто'\n",
    "\n",
    "descr_features.description[28] = 'Текущее состояние здоровья: 1 - очень плохое, 5 - очень хорошее'\n",
    "descr_features.description[29] = 'Количество прогулов в школе: от 0 до 93'\n",
    "descr_features.description[30] = 'от 0 до 20'\n",
    "descr_features.description[31] = 'от 0 до 20' #не оч понятно, то ли оценка, то ли количество выпусков, то ли еще что\n",
    "descr_features.description[32] = 'от 0 до 20'\n"
   ]
  },
  {
   "cell_type": "markdown",
   "metadata": {},
   "source": [
    "Теперь опишем переменные, о которых ничего не сказано в статье"
   ]
  },
  {
   "cell_type": "code",
   "execution_count": 9,
   "metadata": {
    "collapsed": false
   },
   "outputs": [
    {
     "data": {
      "text/html": [
       "<div>\n",
       "<style>\n",
       "    .dataframe thead tr:only-child th {\n",
       "        text-align: right;\n",
       "    }\n",
       "\n",
       "    .dataframe thead th {\n",
       "        text-align: left;\n",
       "    }\n",
       "\n",
       "    .dataframe tbody tr th {\n",
       "        vertical-align: top;\n",
       "    }\n",
       "</style>\n",
       "<table border=\"1\" class=\"dataframe\">\n",
       "  <thead>\n",
       "    <tr style=\"text-align: right;\">\n",
       "      <th></th>\n",
       "      <th>feature</th>\n",
       "      <th>type</th>\n",
       "      <th>description</th>\n",
       "    </tr>\n",
       "  </thead>\n",
       "  <tbody>\n",
       "    <tr>\n",
       "      <th>4</th>\n",
       "      <td>famsize</td>\n",
       "      <td>бинарный</td>\n",
       "      <td>NaN</td>\n",
       "    </tr>\n",
       "  </tbody>\n",
       "</table>\n",
       "</div>"
      ],
      "text/plain": [
       "   feature      type description\n",
       "4  famsize  бинарный         NaN"
      ]
     },
     "execution_count": 9,
     "metadata": {},
     "output_type": "execute_result"
    }
   ],
   "source": [
    "descr_features[4:5]"
   ]
  },
  {
   "cell_type": "code",
   "execution_count": 10,
   "metadata": {
    "collapsed": false
   },
   "outputs": [
    {
     "name": "stdout",
     "output_type": "stream",
     "text": [
      "['GT3' 'LE3']\n"
     ]
    }
   ],
   "source": [
    "print(df.famsize.unique())"
   ]
  },
  {
   "cell_type": "markdown",
   "metadata": {},
   "source": [
    "Похоже, это означает \"больше трех\" и \"меньше или равно трем\". Очевидно, речь идет о количестве членов семьи. На самом деле я не уверена, что \"LE\" - \"меньше или равно\", так как это может быть и \"LEss\" и \"Less Equal\". Более вероятным кажется второй вариант.\n",
    "\n",
    "Признак бинарный, поэтому нужно добавить его в список binary_features. Можно сделать это через append, но тогда придется копировать ячейку, меняющую тип переменной в датасете на нужный. Поэтому просто скопипастю названия нужных переменных в списки.\n"
   ]
  },
  {
   "cell_type": "markdown",
   "metadata": {},
   "source": [
    "Посмотрим на следующие признаки:"
   ]
  },
  {
   "cell_type": "code",
   "execution_count": 11,
   "metadata": {
    "collapsed": false
   },
   "outputs": [
    {
     "data": {
      "text/html": [
       "<div>\n",
       "<style>\n",
       "    .dataframe thead tr:only-child th {\n",
       "        text-align: right;\n",
       "    }\n",
       "\n",
       "    .dataframe thead th {\n",
       "        text-align: left;\n",
       "    }\n",
       "\n",
       "    .dataframe tbody tr th {\n",
       "        vertical-align: top;\n",
       "    }\n",
       "</style>\n",
       "<table border=\"1\" class=\"dataframe\">\n",
       "  <thead>\n",
       "    <tr style=\"text-align: right;\">\n",
       "      <th></th>\n",
       "      <th>feature</th>\n",
       "      <th>type</th>\n",
       "      <th>description</th>\n",
       "    </tr>\n",
       "  </thead>\n",
       "  <tbody>\n",
       "    <tr>\n",
       "      <th>10</th>\n",
       "      <td>reason</td>\n",
       "      <td>номинальный</td>\n",
       "      <td>NaN</td>\n",
       "    </tr>\n",
       "    <tr>\n",
       "      <th>11</th>\n",
       "      <td>guardian</td>\n",
       "      <td>номинальный</td>\n",
       "      <td>NaN</td>\n",
       "    </tr>\n",
       "  </tbody>\n",
       "</table>\n",
       "</div>"
      ],
      "text/plain": [
       "     feature         type description\n",
       "10    reason  номинальный         NaN\n",
       "11  guardian  номинальный         NaN"
      ]
     },
     "execution_count": 11,
     "metadata": {},
     "output_type": "execute_result"
    }
   ],
   "source": [
    "descr_features[10:12]"
   ]
  },
  {
   "cell_type": "code",
   "execution_count": 12,
   "metadata": {
    "collapsed": false
   },
   "outputs": [
    {
     "name": "stdout",
     "output_type": "stream",
     "text": [
      "reason: ['course' 'other' 'home' 'reputation']\n",
      "guardian: ['mother' 'father' 'other']\n"
     ]
    }
   ],
   "source": [
    "print('reason:', df.reason.unique())\n",
    "print('guardian:', df.guardian.unique())"
   ]
  },
  {
   "cell_type": "markdown",
   "metadata": {},
   "source": [
    "Переменные номинальные, поэтому нужно добавить их в список nominal_features"
   ]
  },
  {
   "cell_type": "markdown",
   "metadata": {},
   "source": [
    "Reason - причина. Вероятно, чтобы понять, про причину чего спрашивают, нужно посмотреть на предыдущую переменную"
   ]
  },
  {
   "cell_type": "code",
   "execution_count": 13,
   "metadata": {
    "collapsed": false
   },
   "outputs": [
    {
     "data": {
      "text/html": [
       "<div>\n",
       "<style>\n",
       "    .dataframe thead tr:only-child th {\n",
       "        text-align: right;\n",
       "    }\n",
       "\n",
       "    .dataframe thead th {\n",
       "        text-align: left;\n",
       "    }\n",
       "\n",
       "    .dataframe tbody tr th {\n",
       "        vertical-align: top;\n",
       "    }\n",
       "</style>\n",
       "<table border=\"1\" class=\"dataframe\">\n",
       "  <thead>\n",
       "    <tr style=\"text-align: right;\">\n",
       "      <th></th>\n",
       "      <th>feature</th>\n",
       "      <th>type</th>\n",
       "      <th>description</th>\n",
       "    </tr>\n",
       "  </thead>\n",
       "  <tbody>\n",
       "    <tr>\n",
       "      <th>9</th>\n",
       "      <td>Fjob</td>\n",
       "      <td>номинальный</td>\n",
       "      <td>Работа отца</td>\n",
       "    </tr>\n",
       "  </tbody>\n",
       "</table>\n",
       "</div>"
      ],
      "text/plain": [
       "  feature         type  description\n",
       "9    Fjob  номинальный  Работа отца"
      ]
     },
     "execution_count": 13,
     "metadata": {},
     "output_type": "execute_result"
    }
   ],
   "source": [
    "descr_features[9:10]"
   ]
  },
  {
   "cell_type": "code",
   "execution_count": 14,
   "metadata": {
    "collapsed": false
   },
   "outputs": [
    {
     "data": {
      "text/plain": [
       "array(['teacher', 'other', 'services', 'health', 'at_home'], dtype=object)"
      ]
     },
     "execution_count": 14,
     "metadata": {},
     "output_type": "execute_result"
    }
   ],
   "source": [
    "df.Fjob.unique()"
   ]
  },
  {
   "cell_type": "markdown",
   "metadata": {},
   "source": [
    "Вероятно, это притянуто за уши, но все же мне кажется, что переменная reason - причина, по которой человек работает там, где он работает. Мне не очень понятно, к чему относится, например, 'course', но в целом логично, что, например, человек работает учителем, потому что эта профессия с хорошей репутацией. Но я не уверена :С\n",
    "\n",
    "Проблема в том, что \"работа\" есть как у матери, так и у отца, а переменная причины только одна. В общем странная какая-то.\n",
    "\n",
    "Может быть стоит вообще удалить эту переменную..."
   ]
  },
  {
   "cell_type": "code",
   "execution_count": 15,
   "metadata": {
    "collapsed": false
   },
   "outputs": [
    {
     "data": {
      "text/html": [
       "<div>\n",
       "<style>\n",
       "    .dataframe thead tr:only-child th {\n",
       "        text-align: right;\n",
       "    }\n",
       "\n",
       "    .dataframe thead th {\n",
       "        text-align: left;\n",
       "    }\n",
       "\n",
       "    .dataframe tbody tr th {\n",
       "        vertical-align: top;\n",
       "    }\n",
       "</style>\n",
       "<table border=\"1\" class=\"dataframe\">\n",
       "  <thead>\n",
       "    <tr style=\"text-align: right;\">\n",
       "      <th></th>\n",
       "      <th>Mjob</th>\n",
       "      <th>Fjob</th>\n",
       "      <th>reason</th>\n",
       "    </tr>\n",
       "  </thead>\n",
       "  <tbody>\n",
       "    <tr>\n",
       "      <th>0</th>\n",
       "      <td>at_home</td>\n",
       "      <td>teacher</td>\n",
       "      <td>course</td>\n",
       "    </tr>\n",
       "    <tr>\n",
       "      <th>7</th>\n",
       "      <td>other</td>\n",
       "      <td>teacher</td>\n",
       "      <td>home</td>\n",
       "    </tr>\n",
       "    <tr>\n",
       "      <th>29</th>\n",
       "      <td>teacher</td>\n",
       "      <td>teacher</td>\n",
       "      <td>home</td>\n",
       "    </tr>\n",
       "    <tr>\n",
       "      <th>37</th>\n",
       "      <td>other</td>\n",
       "      <td>teacher</td>\n",
       "      <td>reputation</td>\n",
       "    </tr>\n",
       "    <tr>\n",
       "      <th>42</th>\n",
       "      <td>services</td>\n",
       "      <td>teacher</td>\n",
       "      <td>course</td>\n",
       "    </tr>\n",
       "  </tbody>\n",
       "</table>\n",
       "</div>"
      ],
      "text/plain": [
       "        Mjob     Fjob      reason\n",
       "0    at_home  teacher      course\n",
       "7      other  teacher        home\n",
       "29   teacher  teacher        home\n",
       "37     other  teacher  reputation\n",
       "42  services  teacher      course"
      ]
     },
     "execution_count": 15,
     "metadata": {},
     "output_type": "execute_result"
    }
   ],
   "source": [
    "Fteacher = df[df.Fjob == 'teacher']\n",
    "Fteacher[['Mjob', 'Fjob', 'reason']].head()"
   ]
  },
  {
   "cell_type": "markdown",
   "metadata": {},
   "source": [
    "Все же не очень понятно, что значит эта причина"
   ]
  },
  {
   "cell_type": "markdown",
   "metadata": {},
   "source": [
    "Guardian переводится как опекун, попечитель. Я искренне не понимаю, почему эта переменная вообще существует. Разве не может быть такого, что оба родителя обеспечивают ребенка в равной степени? Есть вероятность, что такой вариант учтен в other, но это как-то сомнительно. Почему нет инфыыыыы ааааааарррр"
   ]
  },
  {
   "cell_type": "code",
   "execution_count": 16,
   "metadata": {
    "collapsed": false
   },
   "outputs": [
    {
     "data": {
      "text/plain": [
       "count        649\n",
       "unique         3\n",
       "top       mother\n",
       "freq         455\n",
       "Name: guardian, dtype: object"
      ]
     },
     "execution_count": 16,
     "metadata": {},
     "output_type": "execute_result"
    }
   ],
   "source": [
    "df.guardian.describe()"
   ]
  },
  {
   "cell_type": "markdown",
   "metadata": {},
   "source": [
    "Посмотрим на последнюю неописанную переменную"
   ]
  },
  {
   "cell_type": "code",
   "execution_count": 17,
   "metadata": {
    "collapsed": false
   },
   "outputs": [
    {
     "data": {
      "text/html": [
       "<div>\n",
       "<style>\n",
       "    .dataframe thead tr:only-child th {\n",
       "        text-align: right;\n",
       "    }\n",
       "\n",
       "    .dataframe thead th {\n",
       "        text-align: left;\n",
       "    }\n",
       "\n",
       "    .dataframe tbody tr th {\n",
       "        vertical-align: top;\n",
       "    }\n",
       "</style>\n",
       "<table border=\"1\" class=\"dataframe\">\n",
       "  <thead>\n",
       "    <tr style=\"text-align: right;\">\n",
       "      <th></th>\n",
       "      <th>feature</th>\n",
       "      <th>type</th>\n",
       "      <th>description</th>\n",
       "    </tr>\n",
       "  </thead>\n",
       "  <tbody>\n",
       "    <tr>\n",
       "      <th>23</th>\n",
       "      <td>famrel</td>\n",
       "      <td>числовой</td>\n",
       "      <td>NaN</td>\n",
       "    </tr>\n",
       "  </tbody>\n",
       "</table>\n",
       "</div>"
      ],
      "text/plain": [
       "   feature      type description\n",
       "23  famrel  числовой         NaN"
      ]
     },
     "execution_count": 17,
     "metadata": {},
     "output_type": "execute_result"
    }
   ],
   "source": [
    "descr_features[23:24]"
   ]
  },
  {
   "cell_type": "code",
   "execution_count": 18,
   "metadata": {
    "collapsed": false
   },
   "outputs": [
    {
     "name": "stdout",
     "output_type": "stream",
     "text": [
      "[4 5 3 1 2]\n"
     ]
    }
   ],
   "source": [
    "print(df.famrel.unique())"
   ]
  },
  {
   "cell_type": "markdown",
   "metadata": {},
   "source": [
    "Во-первых, совсем не понятно, что это за цифры. Эта переменная может быть номинальной, а может быть и числовой, как, например, в случае со временем, которое тратится на поездку из дома в школу. Мне не приходит в голову, что означает \"rel\". Вообще наверное это связано с семейными отношениями (family relations), но я по-прежнему не знаю, что означают цифры. Можно предположить, что 1 - очень плохие, 5 - очень хорошие, но я не могу знать это наверняка."
   ]
  },
  {
   "cell_type": "markdown",
   "metadata": {},
   "source": [
    "Рассмотрим еще 2 переменные. В таблице с описанием в статье их нет, но информация есть. Вместе они образуют целевую переменную alc - потребление алкоголя в течение недели, 1 - очень мало, 5 - очень много."
   ]
  },
  {
   "cell_type": "code",
   "execution_count": 19,
   "metadata": {
    "collapsed": false
   },
   "outputs": [
    {
     "data": {
      "text/html": [
       "<div>\n",
       "<style>\n",
       "    .dataframe thead tr:only-child th {\n",
       "        text-align: right;\n",
       "    }\n",
       "\n",
       "    .dataframe thead th {\n",
       "        text-align: left;\n",
       "    }\n",
       "\n",
       "    .dataframe tbody tr th {\n",
       "        vertical-align: top;\n",
       "    }\n",
       "</style>\n",
       "<table border=\"1\" class=\"dataframe\">\n",
       "  <thead>\n",
       "    <tr style=\"text-align: right;\">\n",
       "      <th></th>\n",
       "      <th>feature</th>\n",
       "      <th>type</th>\n",
       "      <th>description</th>\n",
       "    </tr>\n",
       "  </thead>\n",
       "  <tbody>\n",
       "    <tr>\n",
       "      <th>26</th>\n",
       "      <td>Dalc</td>\n",
       "      <td>числовой</td>\n",
       "      <td>NaN</td>\n",
       "    </tr>\n",
       "    <tr>\n",
       "      <th>27</th>\n",
       "      <td>Walc</td>\n",
       "      <td>числовой</td>\n",
       "      <td>NaN</td>\n",
       "    </tr>\n",
       "  </tbody>\n",
       "</table>\n",
       "</div>"
      ],
      "text/plain": [
       "   feature      type description\n",
       "26    Dalc  числовой         NaN\n",
       "27    Walc  числовой         NaN"
      ]
     },
     "execution_count": 19,
     "metadata": {},
     "output_type": "execute_result"
    }
   ],
   "source": [
    "descr_features[26:28]"
   ]
  },
  {
   "cell_type": "code",
   "execution_count": 20,
   "metadata": {
    "collapsed": false
   },
   "outputs": [
    {
     "data": {
      "text/plain": [
       "array([1, 2, 5, 3, 4])"
      ]
     },
     "execution_count": 20,
     "metadata": {},
     "output_type": "execute_result"
    }
   ],
   "source": [
    "df.Dalc.unique()"
   ]
  },
  {
   "cell_type": "code",
   "execution_count": 21,
   "metadata": {
    "collapsed": false
   },
   "outputs": [
    {
     "data": {
      "text/plain": [
       "array([1, 3, 2, 4, 5])"
      ]
     },
     "execution_count": 21,
     "metadata": {},
     "output_type": "execute_result"
    }
   ],
   "source": [
    "df.Walc.unique()"
   ]
  },
  {
   "cell_type": "markdown",
   "metadata": {},
   "source": [
    "Попробую написать описание, но я бы не доверяла ему на 100%"
   ]
  },
  {
   "cell_type": "code",
   "execution_count": 22,
   "metadata": {
    "collapsed": true
   },
   "outputs": [],
   "source": [
    "descr_features.description[4] = 'Размер семьи: больше 3 человек, меньше 3 человек или 3 человека'\n",
    "descr_features.description[10] = \"Какая-то непонятная причина, варианты ответов: 'course','reputation',\\\n",
    "                                'home', 'other'\"\n",
    "descr_features.description[11] = 'Опекун, попечитель: мать/отец/другое'\n",
    "descr_features.description[23] = 'Семейные отношения (?): 1 - очень плохие, 5 - очень хорошие'\n",
    "descr_features.description[26] = 'Сколько алкоголя пьет в рабочие дни'\n",
    "descr_features.description[27] = 'Сколько алкоголя пьет в выходные'"
   ]
  },
  {
   "cell_type": "code",
   "execution_count": 23,
   "metadata": {
    "collapsed": false
   },
   "outputs": [
    {
     "data": {
      "text/html": [
       "<div>\n",
       "<style>\n",
       "    .dataframe thead tr:only-child th {\n",
       "        text-align: right;\n",
       "    }\n",
       "\n",
       "    .dataframe thead th {\n",
       "        text-align: left;\n",
       "    }\n",
       "\n",
       "    .dataframe tbody tr th {\n",
       "        vertical-align: top;\n",
       "    }\n",
       "</style>\n",
       "<table border=\"1\" class=\"dataframe\">\n",
       "  <thead>\n",
       "    <tr style=\"text-align: right;\">\n",
       "      <th></th>\n",
       "      <th>feature</th>\n",
       "      <th>type</th>\n",
       "      <th>description</th>\n",
       "    </tr>\n",
       "  </thead>\n",
       "  <tbody>\n",
       "    <tr>\n",
       "      <th>0</th>\n",
       "      <td>school</td>\n",
       "      <td>бинарный</td>\n",
       "      <td>Школа: Gabriel Pereira или Mousinho da Silveira</td>\n",
       "    </tr>\n",
       "    <tr>\n",
       "      <th>1</th>\n",
       "      <td>sex</td>\n",
       "      <td>бинарный</td>\n",
       "      <td>Пол: женский или мужской</td>\n",
       "    </tr>\n",
       "    <tr>\n",
       "      <th>2</th>\n",
       "      <td>age</td>\n",
       "      <td>числовой</td>\n",
       "      <td>Возраст: от 15 до 22</td>\n",
       "    </tr>\n",
       "    <tr>\n",
       "      <th>3</th>\n",
       "      <td>address</td>\n",
       "      <td>бинарный</td>\n",
       "      <td>Тип домашнего адреса: живет в городе или сельс...</td>\n",
       "    </tr>\n",
       "    <tr>\n",
       "      <th>4</th>\n",
       "      <td>famsize</td>\n",
       "      <td>бинарный</td>\n",
       "      <td>Размер семьи: больше 3 человек, меньше 3 челов...</td>\n",
       "    </tr>\n",
       "    <tr>\n",
       "      <th>5</th>\n",
       "      <td>Pstatus</td>\n",
       "      <td>бинарный</td>\n",
       "      <td>Статус сожительства родителей: живут вместе ил...</td>\n",
       "    </tr>\n",
       "    <tr>\n",
       "      <th>6</th>\n",
       "      <td>Medu</td>\n",
       "      <td>числовой</td>\n",
       "      <td>Образование матери: 0 - нет, 1 - начальное, 2 ...</td>\n",
       "    </tr>\n",
       "    <tr>\n",
       "      <th>7</th>\n",
       "      <td>Fedu</td>\n",
       "      <td>числовой</td>\n",
       "      <td>Образование отца: 0 - нет, 1 - начальное, 2 - ...</td>\n",
       "    </tr>\n",
       "    <tr>\n",
       "      <th>8</th>\n",
       "      <td>Mjob</td>\n",
       "      <td>номинальный</td>\n",
       "      <td>Работа матери</td>\n",
       "    </tr>\n",
       "    <tr>\n",
       "      <th>9</th>\n",
       "      <td>Fjob</td>\n",
       "      <td>номинальный</td>\n",
       "      <td>Работа отца</td>\n",
       "    </tr>\n",
       "    <tr>\n",
       "      <th>10</th>\n",
       "      <td>reason</td>\n",
       "      <td>номинальный</td>\n",
       "      <td>Какая-то непонятная причина, варианты ответов:...</td>\n",
       "    </tr>\n",
       "    <tr>\n",
       "      <th>11</th>\n",
       "      <td>guardian</td>\n",
       "      <td>номинальный</td>\n",
       "      <td>Опекун, попечитель: мать/отец/другое</td>\n",
       "    </tr>\n",
       "    <tr>\n",
       "      <th>12</th>\n",
       "      <td>traveltime</td>\n",
       "      <td>числовой</td>\n",
       "      <td>Время, которое тратится на поездку из дома в ш...</td>\n",
       "    </tr>\n",
       "    <tr>\n",
       "      <th>13</th>\n",
       "      <td>studytime</td>\n",
       "      <td>числовой</td>\n",
       "      <td>Сколько часов в неделю учится: 1 - меньше 2 ча...</td>\n",
       "    </tr>\n",
       "    <tr>\n",
       "      <th>14</th>\n",
       "      <td>failures</td>\n",
       "      <td>числовой</td>\n",
       "      <td>Количество \"провалов\" в школе в прошлом: от 1 ...</td>\n",
       "    </tr>\n",
       "    <tr>\n",
       "      <th>15</th>\n",
       "      <td>schoolsup</td>\n",
       "      <td>бинарный</td>\n",
       "      <td>Поддержка школы в вопросах дополнительного обр...</td>\n",
       "    </tr>\n",
       "    <tr>\n",
       "      <th>16</th>\n",
       "      <td>famsup</td>\n",
       "      <td>бинарный</td>\n",
       "      <td>Поддержка семьи в вопросах образования: да/нет</td>\n",
       "    </tr>\n",
       "    <tr>\n",
       "      <th>17</th>\n",
       "      <td>paid</td>\n",
       "      <td>бинарный</td>\n",
       "      <td>В описании есть похожая переменная, скорее все...</td>\n",
       "    </tr>\n",
       "    <tr>\n",
       "      <th>18</th>\n",
       "      <td>activities</td>\n",
       "      <td>бинарный</td>\n",
       "      <td>Внеклассные занятия: да/нет</td>\n",
       "    </tr>\n",
       "    <tr>\n",
       "      <th>19</th>\n",
       "      <td>nursery</td>\n",
       "      <td>бинарный</td>\n",
       "      <td>Был ли в детском саду: да/нет</td>\n",
       "    </tr>\n",
       "    <tr>\n",
       "      <th>20</th>\n",
       "      <td>higher</td>\n",
       "      <td>бинарный</td>\n",
       "      <td>Хочет получить высшее образование: да/нет</td>\n",
       "    </tr>\n",
       "    <tr>\n",
       "      <th>21</th>\n",
       "      <td>internet</td>\n",
       "      <td>бинарный</td>\n",
       "      <td>Наличие доступа к Интернету дома: да/нет</td>\n",
       "    </tr>\n",
       "    <tr>\n",
       "      <th>22</th>\n",
       "      <td>romantic</td>\n",
       "      <td>бинарный</td>\n",
       "      <td>Состоит в романтических отношениях: да/нет</td>\n",
       "    </tr>\n",
       "    <tr>\n",
       "      <th>23</th>\n",
       "      <td>famrel</td>\n",
       "      <td>числовой</td>\n",
       "      <td>Семейные отношения (?): 1 - очень плохие, 5 - ...</td>\n",
       "    </tr>\n",
       "    <tr>\n",
       "      <th>24</th>\n",
       "      <td>freetime</td>\n",
       "      <td>числовой</td>\n",
       "      <td>Свободное время после школы: 1 - очень мало, 5...</td>\n",
       "    </tr>\n",
       "    <tr>\n",
       "      <th>25</th>\n",
       "      <td>goout</td>\n",
       "      <td>числовой</td>\n",
       "      <td>Прогулки с друзьями: 1 - очень редко, 5 - очен...</td>\n",
       "    </tr>\n",
       "    <tr>\n",
       "      <th>26</th>\n",
       "      <td>Dalc</td>\n",
       "      <td>числовой</td>\n",
       "      <td>Сколько алкоголя пьет в рабочие дни</td>\n",
       "    </tr>\n",
       "    <tr>\n",
       "      <th>27</th>\n",
       "      <td>Walc</td>\n",
       "      <td>числовой</td>\n",
       "      <td>Сколько алкоголя пьет в выходные</td>\n",
       "    </tr>\n",
       "    <tr>\n",
       "      <th>28</th>\n",
       "      <td>health</td>\n",
       "      <td>числовой</td>\n",
       "      <td>Текущее состояние здоровья: 1 - очень плохое, ...</td>\n",
       "    </tr>\n",
       "    <tr>\n",
       "      <th>29</th>\n",
       "      <td>absences</td>\n",
       "      <td>числовой</td>\n",
       "      <td>Количество прогулов в школе: от 0 до 93</td>\n",
       "    </tr>\n",
       "    <tr>\n",
       "      <th>30</th>\n",
       "      <td>G1</td>\n",
       "      <td>числовой</td>\n",
       "      <td>от 0 до 20</td>\n",
       "    </tr>\n",
       "    <tr>\n",
       "      <th>31</th>\n",
       "      <td>G2</td>\n",
       "      <td>числовой</td>\n",
       "      <td>от 0 до 20</td>\n",
       "    </tr>\n",
       "    <tr>\n",
       "      <th>32</th>\n",
       "      <td>G3</td>\n",
       "      <td>числовой</td>\n",
       "      <td>от 0 до 20</td>\n",
       "    </tr>\n",
       "  </tbody>\n",
       "</table>\n",
       "</div>"
      ],
      "text/plain": [
       "       feature         type                                        description\n",
       "0       school     бинарный    Школа: Gabriel Pereira или Mousinho da Silveira\n",
       "1          sex     бинарный                           Пол: женский или мужской\n",
       "2          age     числовой                               Возраст: от 15 до 22\n",
       "3      address     бинарный  Тип домашнего адреса: живет в городе или сельс...\n",
       "4      famsize     бинарный  Размер семьи: больше 3 человек, меньше 3 челов...\n",
       "5      Pstatus     бинарный  Статус сожительства родителей: живут вместе ил...\n",
       "6         Medu     числовой  Образование матери: 0 - нет, 1 - начальное, 2 ...\n",
       "7         Fedu     числовой  Образование отца: 0 - нет, 1 - начальное, 2 - ...\n",
       "8         Mjob  номинальный                                      Работа матери\n",
       "9         Fjob  номинальный                                        Работа отца\n",
       "10      reason  номинальный  Какая-то непонятная причина, варианты ответов:...\n",
       "11    guardian  номинальный               Опекун, попечитель: мать/отец/другое\n",
       "12  traveltime     числовой  Время, которое тратится на поездку из дома в ш...\n",
       "13   studytime     числовой  Сколько часов в неделю учится: 1 - меньше 2 ча...\n",
       "14    failures     числовой  Количество \"провалов\" в школе в прошлом: от 1 ...\n",
       "15   schoolsup     бинарный  Поддержка школы в вопросах дополнительного обр...\n",
       "16      famsup     бинарный     Поддержка семьи в вопросах образования: да/нет\n",
       "17        paid     бинарный  В описании есть похожая переменная, скорее все...\n",
       "18  activities     бинарный                        Внеклассные занятия: да/нет\n",
       "19     nursery     бинарный                      Был ли в детском саду: да/нет\n",
       "20      higher     бинарный          Хочет получить высшее образование: да/нет\n",
       "21    internet     бинарный           Наличие доступа к Интернету дома: да/нет\n",
       "22    romantic     бинарный         Состоит в романтических отношениях: да/нет\n",
       "23      famrel     числовой  Семейные отношения (?): 1 - очень плохие, 5 - ...\n",
       "24    freetime     числовой  Свободное время после школы: 1 - очень мало, 5...\n",
       "25       goout     числовой  Прогулки с друзьями: 1 - очень редко, 5 - очен...\n",
       "26        Dalc     числовой                Сколько алкоголя пьет в рабочие дни\n",
       "27        Walc     числовой                   Сколько алкоголя пьет в выходные\n",
       "28      health     числовой  Текущее состояние здоровья: 1 - очень плохое, ...\n",
       "29    absences     числовой            Количество прогулов в школе: от 0 до 93\n",
       "30          G1     числовой                                         от 0 до 20\n",
       "31          G2     числовой                                         от 0 до 20\n",
       "32          G3     числовой                                         от 0 до 20"
      ]
     },
     "execution_count": 23,
     "metadata": {},
     "output_type": "execute_result"
    }
   ],
   "source": [
    "descr_features"
   ]
  },
  {
   "cell_type": "markdown",
   "metadata": {},
   "source": [
    "### 2. Описание предоработки данных"
   ]
  },
  {
   "cell_type": "markdown",
   "metadata": {},
   "source": [
    "#### 2.1. Проверка на наличие пропусков"
   ]
  },
  {
   "cell_type": "markdown",
   "metadata": {},
   "source": [
    "Вообще в самой статье написано, что пропусков нет С:\n",
    "\n",
    "Но, конечно, можно проверить"
   ]
  },
  {
   "cell_type": "code",
   "execution_count": 24,
   "metadata": {
    "collapsed": false
   },
   "outputs": [
    {
     "data": {
      "text/html": [
       "<div>\n",
       "<style>\n",
       "    .dataframe thead tr:only-child th {\n",
       "        text-align: right;\n",
       "    }\n",
       "\n",
       "    .dataframe thead th {\n",
       "        text-align: left;\n",
       "    }\n",
       "\n",
       "    .dataframe tbody tr th {\n",
       "        vertical-align: top;\n",
       "    }\n",
       "</style>\n",
       "<table border=\"1\" class=\"dataframe\">\n",
       "  <thead>\n",
       "    <tr style=\"text-align: right;\">\n",
       "      <th></th>\n",
       "      <th>school</th>\n",
       "      <th>sex</th>\n",
       "      <th>age</th>\n",
       "      <th>address</th>\n",
       "      <th>famsize</th>\n",
       "      <th>Pstatus</th>\n",
       "      <th>Medu</th>\n",
       "      <th>Fedu</th>\n",
       "      <th>Mjob</th>\n",
       "      <th>Fjob</th>\n",
       "      <th>...</th>\n",
       "      <th>famrel</th>\n",
       "      <th>freetime</th>\n",
       "      <th>goout</th>\n",
       "      <th>Dalc</th>\n",
       "      <th>Walc</th>\n",
       "      <th>health</th>\n",
       "      <th>absences</th>\n",
       "      <th>G1</th>\n",
       "      <th>G2</th>\n",
       "      <th>G3</th>\n",
       "    </tr>\n",
       "  </thead>\n",
       "  <tbody>\n",
       "  </tbody>\n",
       "</table>\n",
       "<p>0 rows × 33 columns</p>\n",
       "</div>"
      ],
      "text/plain": [
       "Empty DataFrame\n",
       "Columns: [school, sex, age, address, famsize, Pstatus, Medu, Fedu, Mjob, Fjob, reason, guardian, traveltime, studytime, failures, schoolsup, famsup, paid, activities, nursery, higher, internet, romantic, famrel, freetime, goout, Dalc, Walc, health, absences, G1, G2, G3]\n",
       "Index: []\n",
       "\n",
       "[0 rows x 33 columns]"
      ]
     },
     "execution_count": 24,
     "metadata": {},
     "output_type": "execute_result"
    }
   ],
   "source": [
    "df[df.values == None]"
   ]
  },
  {
   "cell_type": "markdown",
   "metadata": {},
   "source": [
    "Может я не так ищу? Попробуем обнаружить значение, которое точно есть"
   ]
  },
  {
   "cell_type": "code",
   "execution_count": 25,
   "metadata": {
    "collapsed": false
   },
   "outputs": [
    {
     "data": {
      "text/html": [
       "<div>\n",
       "<style>\n",
       "    .dataframe thead tr:only-child th {\n",
       "        text-align: right;\n",
       "    }\n",
       "\n",
       "    .dataframe thead th {\n",
       "        text-align: left;\n",
       "    }\n",
       "\n",
       "    .dataframe tbody tr th {\n",
       "        vertical-align: top;\n",
       "    }\n",
       "</style>\n",
       "<table border=\"1\" class=\"dataframe\">\n",
       "  <thead>\n",
       "    <tr style=\"text-align: right;\">\n",
       "      <th></th>\n",
       "      <th>school</th>\n",
       "      <th>sex</th>\n",
       "      <th>age</th>\n",
       "      <th>address</th>\n",
       "      <th>famsize</th>\n",
       "      <th>Pstatus</th>\n",
       "      <th>Medu</th>\n",
       "      <th>Fedu</th>\n",
       "      <th>Mjob</th>\n",
       "      <th>Fjob</th>\n",
       "      <th>...</th>\n",
       "      <th>famrel</th>\n",
       "      <th>freetime</th>\n",
       "      <th>goout</th>\n",
       "      <th>Dalc</th>\n",
       "      <th>Walc</th>\n",
       "      <th>health</th>\n",
       "      <th>absences</th>\n",
       "      <th>G1</th>\n",
       "      <th>G2</th>\n",
       "      <th>G3</th>\n",
       "    </tr>\n",
       "  </thead>\n",
       "  <tbody>\n",
       "    <tr>\n",
       "      <th>1</th>\n",
       "      <td>GP</td>\n",
       "      <td>F</td>\n",
       "      <td>17</td>\n",
       "      <td>U</td>\n",
       "      <td>GT3</td>\n",
       "      <td>T</td>\n",
       "      <td>1</td>\n",
       "      <td>1</td>\n",
       "      <td>at_home</td>\n",
       "      <td>other</td>\n",
       "      <td>...</td>\n",
       "      <td>5</td>\n",
       "      <td>3</td>\n",
       "      <td>3</td>\n",
       "      <td>1</td>\n",
       "      <td>1</td>\n",
       "      <td>3</td>\n",
       "      <td>2</td>\n",
       "      <td>9</td>\n",
       "      <td>11</td>\n",
       "      <td>11</td>\n",
       "    </tr>\n",
       "  </tbody>\n",
       "</table>\n",
       "<p>1 rows × 33 columns</p>\n",
       "</div>"
      ],
      "text/plain": [
       "  school sex  age address famsize Pstatus  Medu  Fedu     Mjob   Fjob ...  \\\n",
       "1     GP   F   17       U     GT3       T     1     1  at_home  other ...   \n",
       "\n",
       "  famrel freetime  goout  Dalc  Walc health absences G1  G2  G3  \n",
       "1      5        3      3     1     1      3        2  9  11  11  \n",
       "\n",
       "[1 rows x 33 columns]"
      ]
     },
     "execution_count": 25,
     "metadata": {},
     "output_type": "execute_result"
    }
   ],
   "source": [
    "df[df.values == 'at_home'][1:2]"
   ]
  },
  {
   "cell_type": "code",
   "execution_count": 26,
   "metadata": {
    "collapsed": false
   },
   "outputs": [
    {
     "data": {
      "text/html": [
       "<div>\n",
       "<style>\n",
       "    .dataframe thead tr:only-child th {\n",
       "        text-align: right;\n",
       "    }\n",
       "\n",
       "    .dataframe thead th {\n",
       "        text-align: left;\n",
       "    }\n",
       "\n",
       "    .dataframe tbody tr th {\n",
       "        vertical-align: top;\n",
       "    }\n",
       "</style>\n",
       "<table border=\"1\" class=\"dataframe\">\n",
       "  <thead>\n",
       "    <tr style=\"text-align: right;\">\n",
       "      <th></th>\n",
       "      <th>school</th>\n",
       "      <th>sex</th>\n",
       "      <th>age</th>\n",
       "      <th>address</th>\n",
       "      <th>famsize</th>\n",
       "      <th>Pstatus</th>\n",
       "      <th>Medu</th>\n",
       "      <th>Fedu</th>\n",
       "      <th>Mjob</th>\n",
       "      <th>Fjob</th>\n",
       "      <th>...</th>\n",
       "      <th>famrel</th>\n",
       "      <th>freetime</th>\n",
       "      <th>goout</th>\n",
       "      <th>Dalc</th>\n",
       "      <th>Walc</th>\n",
       "      <th>health</th>\n",
       "      <th>absences</th>\n",
       "      <th>G1</th>\n",
       "      <th>G2</th>\n",
       "      <th>G3</th>\n",
       "    </tr>\n",
       "  </thead>\n",
       "  <tbody>\n",
       "  </tbody>\n",
       "</table>\n",
       "<p>0 rows × 33 columns</p>\n",
       "</div>"
      ],
      "text/plain": [
       "Empty DataFrame\n",
       "Columns: [school, sex, age, address, famsize, Pstatus, Medu, Fedu, Mjob, Fjob, reason, guardian, traveltime, studytime, failures, schoolsup, famsup, paid, activities, nursery, higher, internet, romantic, famrel, freetime, goout, Dalc, Walc, health, absences, G1, G2, G3]\n",
       "Index: []\n",
       "\n",
       "[0 rows x 33 columns]"
      ]
     },
     "execution_count": 26,
     "metadata": {},
     "output_type": "execute_result"
    }
   ],
   "source": [
    "df[df.values == 'NaN']"
   ]
  },
  {
   "cell_type": "code",
   "execution_count": 27,
   "metadata": {
    "collapsed": false
   },
   "outputs": [
    {
     "data": {
      "text/html": [
       "<div>\n",
       "<style>\n",
       "    .dataframe thead tr:only-child th {\n",
       "        text-align: right;\n",
       "    }\n",
       "\n",
       "    .dataframe thead th {\n",
       "        text-align: left;\n",
       "    }\n",
       "\n",
       "    .dataframe tbody tr th {\n",
       "        vertical-align: top;\n",
       "    }\n",
       "</style>\n",
       "<table border=\"1\" class=\"dataframe\">\n",
       "  <thead>\n",
       "    <tr style=\"text-align: right;\">\n",
       "      <th></th>\n",
       "      <th>school</th>\n",
       "      <th>sex</th>\n",
       "      <th>age</th>\n",
       "      <th>address</th>\n",
       "      <th>famsize</th>\n",
       "      <th>Pstatus</th>\n",
       "      <th>Medu</th>\n",
       "      <th>Fedu</th>\n",
       "      <th>Mjob</th>\n",
       "      <th>Fjob</th>\n",
       "      <th>...</th>\n",
       "      <th>famrel</th>\n",
       "      <th>freetime</th>\n",
       "      <th>goout</th>\n",
       "      <th>Dalc</th>\n",
       "      <th>Walc</th>\n",
       "      <th>health</th>\n",
       "      <th>absences</th>\n",
       "      <th>G1</th>\n",
       "      <th>G2</th>\n",
       "      <th>G3</th>\n",
       "    </tr>\n",
       "  </thead>\n",
       "  <tbody>\n",
       "  </tbody>\n",
       "</table>\n",
       "<p>0 rows × 33 columns</p>\n",
       "</div>"
      ],
      "text/plain": [
       "Empty DataFrame\n",
       "Columns: [school, sex, age, address, famsize, Pstatus, Medu, Fedu, Mjob, Fjob, reason, guardian, traveltime, studytime, failures, schoolsup, famsup, paid, activities, nursery, higher, internet, romantic, famrel, freetime, goout, Dalc, Walc, health, absences, G1, G2, G3]\n",
       "Index: []\n",
       "\n",
       "[0 rows x 33 columns]"
      ]
     },
     "execution_count": 27,
     "metadata": {},
     "output_type": "execute_result"
    }
   ],
   "source": [
    "df[df.values == 'nan']"
   ]
  },
  {
   "cell_type": "markdown",
   "metadata": {},
   "source": [
    "Можно еще вот так"
   ]
  },
  {
   "cell_type": "code",
   "execution_count": 28,
   "metadata": {
    "collapsed": false
   },
   "outputs": [
    {
     "name": "stdout",
     "output_type": "stream",
     "text": [
      "school - ['GP' 'MS']\n",
      "-------------\n",
      "sex - ['F' 'M']\n",
      "-------------\n",
      "age - [18 17 15 16 19 22 20 21]\n",
      "-------------\n",
      "address - ['U' 'R']\n",
      "-------------\n",
      "famsize - ['GT3' 'LE3']\n",
      "-------------\n",
      "Pstatus - ['A' 'T']\n",
      "-------------\n",
      "Medu - [4 1 3 2 0]\n",
      "-------------\n",
      "Fedu - [4 1 2 3 0]\n",
      "-------------\n",
      "Mjob - ['at_home' 'health' 'other' 'services' 'teacher']\n",
      "-------------\n",
      "Fjob - ['teacher' 'other' 'services' 'health' 'at_home']\n",
      "-------------\n",
      "reason - ['course' 'other' 'home' 'reputation']\n",
      "-------------\n",
      "guardian - ['mother' 'father' 'other']\n",
      "-------------\n",
      "traveltime - [2 1 3 4]\n",
      "-------------\n",
      "studytime - [2 3 1 4]\n",
      "-------------\n",
      "failures - [0 3 1 2]\n",
      "-------------\n",
      "schoolsup - ['yes' 'no']\n",
      "-------------\n",
      "famsup - ['no' 'yes']\n",
      "-------------\n",
      "paid - ['no' 'yes']\n",
      "-------------\n",
      "activities - ['no' 'yes']\n",
      "-------------\n",
      "nursery - ['yes' 'no']\n",
      "-------------\n",
      "higher - ['yes' 'no']\n",
      "-------------\n",
      "internet - ['no' 'yes']\n",
      "-------------\n",
      "romantic - ['no' 'yes']\n",
      "-------------\n",
      "famrel - [4 5 3 1 2]\n",
      "-------------\n",
      "freetime - [3 2 4 1 5]\n",
      "-------------\n",
      "goout - [4 3 2 1 5]\n",
      "-------------\n",
      "Dalc - [1 2 5 3 4]\n",
      "-------------\n",
      "Walc - [1 3 2 4 5]\n",
      "-------------\n",
      "health - [3 5 1 2 4]\n",
      "-------------\n",
      "absences - [ 4  2  6  0 10  8 16 14  1 12 24 22 32 30 21 15  9 18 26  7 11  5 13  3]\n",
      "-------------\n",
      "G1 - [ 0  9 12 14 11 13 10 15 17  8 16 18  7  6  5  4 19]\n",
      "-------------\n",
      "G2 - [11 13 14 12 16 17  8 10 15  9  7  6 18 19  0  5]\n",
      "-------------\n",
      "G3 - [11 12 14 13 17 15  7 10 16  9  8 18  6  0  1  5 19]\n",
      "-------------\n"
     ]
    }
   ],
   "source": [
    "for col in df.columns:\n",
    "    print(col, '-', df[col].unique())\n",
    "    print('-------------')"
   ]
  },
  {
   "cell_type": "markdown",
   "metadata": {},
   "source": [
    "#### 2.2. Преобразование номинальных признаков в несколько признаков с бинарным значением"
   ]
  },
  {
   "cell_type": "markdown",
   "metadata": {},
   "source": [
    "Какие признаки у нас номинальные? Давайте найдем их в датасете"
   ]
  },
  {
   "cell_type": "code",
   "execution_count": 29,
   "metadata": {
    "collapsed": false
   },
   "outputs": [
    {
     "data": {
      "text/html": [
       "<div>\n",
       "<style>\n",
       "    .dataframe thead tr:only-child th {\n",
       "        text-align: right;\n",
       "    }\n",
       "\n",
       "    .dataframe thead th {\n",
       "        text-align: left;\n",
       "    }\n",
       "\n",
       "    .dataframe tbody tr th {\n",
       "        vertical-align: top;\n",
       "    }\n",
       "</style>\n",
       "<table border=\"1\" class=\"dataframe\">\n",
       "  <thead>\n",
       "    <tr style=\"text-align: right;\">\n",
       "      <th></th>\n",
       "      <th>feature</th>\n",
       "      <th>type</th>\n",
       "      <th>description</th>\n",
       "    </tr>\n",
       "  </thead>\n",
       "  <tbody>\n",
       "    <tr>\n",
       "      <th>8</th>\n",
       "      <td>Mjob</td>\n",
       "      <td>номинальный</td>\n",
       "      <td>Работа матери</td>\n",
       "    </tr>\n",
       "    <tr>\n",
       "      <th>9</th>\n",
       "      <td>Fjob</td>\n",
       "      <td>номинальный</td>\n",
       "      <td>Работа отца</td>\n",
       "    </tr>\n",
       "    <tr>\n",
       "      <th>10</th>\n",
       "      <td>reason</td>\n",
       "      <td>номинальный</td>\n",
       "      <td>Какая-то непонятная причина, варианты ответов:...</td>\n",
       "    </tr>\n",
       "    <tr>\n",
       "      <th>11</th>\n",
       "      <td>guardian</td>\n",
       "      <td>номинальный</td>\n",
       "      <td>Опекун, попечитель: мать/отец/другое</td>\n",
       "    </tr>\n",
       "  </tbody>\n",
       "</table>\n",
       "</div>"
      ],
      "text/plain": [
       "     feature         type                                        description\n",
       "8       Mjob  номинальный                                      Работа матери\n",
       "9       Fjob  номинальный                                        Работа отца\n",
       "10    reason  номинальный  Какая-то непонятная причина, варианты ответов:...\n",
       "11  guardian  номинальный               Опекун, попечитель: мать/отец/другое"
      ]
     },
     "execution_count": 29,
     "metadata": {},
     "output_type": "execute_result"
    }
   ],
   "source": [
    "descr_features[descr_features.type == 'номинальный']"
   ]
  },
  {
   "cell_type": "markdown",
   "metadata": {},
   "source": [
    "Какие значения они могут принимать?"
   ]
  },
  {
   "cell_type": "code",
   "execution_count": 30,
   "metadata": {
    "collapsed": false
   },
   "outputs": [
    {
     "data": {
      "text/plain": [
       "array(['at_home', 'health', 'other', 'services', 'teacher'], dtype=object)"
      ]
     },
     "execution_count": 30,
     "metadata": {},
     "output_type": "execute_result"
    }
   ],
   "source": [
    "df.Mjob.unique()"
   ]
  },
  {
   "cell_type": "code",
   "execution_count": 31,
   "metadata": {
    "collapsed": false
   },
   "outputs": [
    {
     "data": {
      "text/plain": [
       "array(['teacher', 'other', 'services', 'health', 'at_home'], dtype=object)"
      ]
     },
     "execution_count": 31,
     "metadata": {},
     "output_type": "execute_result"
    }
   ],
   "source": [
    "df.Fjob.unique()"
   ]
  },
  {
   "cell_type": "code",
   "execution_count": 32,
   "metadata": {
    "collapsed": false
   },
   "outputs": [
    {
     "data": {
      "text/plain": [
       "array(['course', 'other', 'home', 'reputation'], dtype=object)"
      ]
     },
     "execution_count": 32,
     "metadata": {},
     "output_type": "execute_result"
    }
   ],
   "source": [
    "df.reason.unique()"
   ]
  },
  {
   "cell_type": "code",
   "execution_count": 33,
   "metadata": {
    "collapsed": false
   },
   "outputs": [
    {
     "data": {
      "text/plain": [
       "array(['mother', 'father', 'other'], dtype=object)"
      ]
     },
     "execution_count": 33,
     "metadata": {},
     "output_type": "execute_result"
    }
   ],
   "source": [
    "df.guardian.unique()"
   ]
  },
  {
   "cell_type": "markdown",
   "metadata": {},
   "source": [
    "Так как значений у нас больше 2 и группы нельзя объединить так, чтобы получился бинарный признак, придется использовать One-hot кодирование. "
   ]
  },
  {
   "cell_type": "code",
   "execution_count": 34,
   "metadata": {
    "collapsed": true
   },
   "outputs": [],
   "source": [
    "from pandas import get_dummies"
   ]
  },
  {
   "cell_type": "code",
   "execution_count": 35,
   "metadata": {
    "collapsed": false
   },
   "outputs": [],
   "source": [
    "df1 = pd.get_dummies(df, columns=['Mjob', 'Fjob', 'reason','guardian'])"
   ]
  },
  {
   "cell_type": "code",
   "execution_count": 36,
   "metadata": {
    "collapsed": false,
    "scrolled": true
   },
   "outputs": [
    {
     "data": {
      "text/plain": [
       "Index(['school', 'sex', 'age', 'address', 'famsize', 'Pstatus', 'Medu', 'Fedu',\n",
       "       'traveltime', 'studytime', 'failures', 'schoolsup', 'famsup', 'paid',\n",
       "       'activities', 'nursery', 'higher', 'internet', 'romantic', 'famrel',\n",
       "       'freetime', 'goout', 'Dalc', 'Walc', 'health', 'absences', 'G1', 'G2',\n",
       "       'G3', 'Mjob_at_home', 'Mjob_health', 'Mjob_other', 'Mjob_services',\n",
       "       'Mjob_teacher', 'Fjob_at_home', 'Fjob_health', 'Fjob_other',\n",
       "       'Fjob_services', 'Fjob_teacher', 'reason_course', 'reason_home',\n",
       "       'reason_other', 'reason_reputation', 'guardian_father',\n",
       "       'guardian_mother', 'guardian_other'],\n",
       "      dtype='object')"
      ]
     },
     "execution_count": 36,
     "metadata": {},
     "output_type": "execute_result"
    }
   ],
   "source": [
    "df1.columns"
   ]
  },
  {
   "cell_type": "markdown",
   "metadata": {},
   "source": [
    "Но на самом деле не только эти "
   ]
  },
  {
   "cell_type": "code",
   "execution_count": 37,
   "metadata": {
    "collapsed": false
   },
   "outputs": [
    {
     "data": {
      "text/html": [
       "<div>\n",
       "<style>\n",
       "    .dataframe thead tr:only-child th {\n",
       "        text-align: right;\n",
       "    }\n",
       "\n",
       "    .dataframe thead th {\n",
       "        text-align: left;\n",
       "    }\n",
       "\n",
       "    .dataframe tbody tr th {\n",
       "        vertical-align: top;\n",
       "    }\n",
       "</style>\n",
       "<table border=\"1\" class=\"dataframe\">\n",
       "  <thead>\n",
       "    <tr style=\"text-align: right;\">\n",
       "      <th></th>\n",
       "      <th>school</th>\n",
       "      <th>sex</th>\n",
       "      <th>age</th>\n",
       "      <th>address</th>\n",
       "      <th>famsize</th>\n",
       "      <th>Pstatus</th>\n",
       "      <th>Medu</th>\n",
       "      <th>Fedu</th>\n",
       "      <th>traveltime</th>\n",
       "      <th>studytime</th>\n",
       "      <th>...</th>\n",
       "      <th>Fjob_other</th>\n",
       "      <th>Fjob_services</th>\n",
       "      <th>Fjob_teacher</th>\n",
       "      <th>reason_course</th>\n",
       "      <th>reason_home</th>\n",
       "      <th>reason_other</th>\n",
       "      <th>reason_reputation</th>\n",
       "      <th>guardian_father</th>\n",
       "      <th>guardian_mother</th>\n",
       "      <th>guardian_other</th>\n",
       "    </tr>\n",
       "  </thead>\n",
       "  <tbody>\n",
       "    <tr>\n",
       "      <th>1</th>\n",
       "      <td>GP</td>\n",
       "      <td>F</td>\n",
       "      <td>17</td>\n",
       "      <td>U</td>\n",
       "      <td>GT3</td>\n",
       "      <td>T</td>\n",
       "      <td>1</td>\n",
       "      <td>1</td>\n",
       "      <td>1</td>\n",
       "      <td>2</td>\n",
       "      <td>...</td>\n",
       "      <td>1</td>\n",
       "      <td>0</td>\n",
       "      <td>0</td>\n",
       "      <td>1</td>\n",
       "      <td>0</td>\n",
       "      <td>0</td>\n",
       "      <td>0</td>\n",
       "      <td>1</td>\n",
       "      <td>0</td>\n",
       "      <td>0</td>\n",
       "    </tr>\n",
       "  </tbody>\n",
       "</table>\n",
       "<p>1 rows × 46 columns</p>\n",
       "</div>"
      ],
      "text/plain": [
       "  school sex  age address famsize Pstatus  Medu  Fedu  traveltime  studytime  \\\n",
       "1     GP   F   17       U     GT3       T     1     1           1          2   \n",
       "\n",
       "        ...        Fjob_other Fjob_services Fjob_teacher reason_course  \\\n",
       "1       ...                 1             0            0             1   \n",
       "\n",
       "  reason_home reason_other reason_reputation guardian_father guardian_mother  \\\n",
       "1           0            0                 0               1               0   \n",
       "\n",
       "   guardian_other  \n",
       "1               0  \n",
       "\n",
       "[1 rows x 46 columns]"
      ]
     },
     "execution_count": 37,
     "metadata": {},
     "output_type": "execute_result"
    }
   ],
   "source": [
    "df1[1:2]"
   ]
  },
  {
   "cell_type": "markdown",
   "metadata": {},
   "source": [
    "В датасете должны быть только числовые признаки, поэтому бинарные нужно перекодировать в 0 и 1. Можно "
   ]
  },
  {
   "cell_type": "code",
   "execution_count": 38,
   "metadata": {
    "collapsed": true
   },
   "outputs": [],
   "source": [
    "from sklearn.preprocessing import LabelEncoder"
   ]
  },
  {
   "cell_type": "code",
   "execution_count": 39,
   "metadata": {
    "collapsed": false,
    "scrolled": true
   },
   "outputs": [],
   "source": [
    "le = LabelEncoder()\n",
    "for feature in binary_features:\n",
    "    df1[feature] = le.fit_transform(df1[feature])"
   ]
  },
  {
   "cell_type": "code",
   "execution_count": 40,
   "metadata": {
    "collapsed": false
   },
   "outputs": [
    {
     "data": {
      "text/plain": [
       "Index(['school', 'sex', 'age', 'address', 'famsize', 'Pstatus', 'Medu', 'Fedu',\n",
       "       'traveltime', 'studytime', 'failures', 'schoolsup', 'famsup', 'paid',\n",
       "       'activities', 'nursery', 'higher', 'internet', 'romantic', 'famrel',\n",
       "       'freetime', 'goout', 'Dalc', 'Walc', 'health', 'absences', 'G1', 'G2',\n",
       "       'G3', 'Mjob_at_home', 'Mjob_health', 'Mjob_other', 'Mjob_services',\n",
       "       'Mjob_teacher', 'Fjob_at_home', 'Fjob_health', 'Fjob_other',\n",
       "       'Fjob_services', 'Fjob_teacher', 'reason_course', 'reason_home',\n",
       "       'reason_other', 'reason_reputation', 'guardian_father',\n",
       "       'guardian_mother', 'guardian_other'],\n",
       "      dtype='object')"
      ]
     },
     "execution_count": 40,
     "metadata": {},
     "output_type": "execute_result"
    }
   ],
   "source": [
    "df1.columns"
   ]
  },
  {
   "cell_type": "markdown",
   "metadata": {},
   "source": [
    "### Могла упустить какие-то номинальные признаки, стоит к этому вернуться позже"
   ]
  },
  {
   "cell_type": "markdown",
   "metadata": {},
   "source": [
    "----------------------------------------------------------------------------------------------------------------------------"
   ]
  },
  {
   "cell_type": "markdown",
   "metadata": {},
   "source": [
    "## Классификация (6 баллов)\n",
    "\n",
    "### Предписания\n",
    "- Используйте accuracy как основную меру качества\n",
    "- Классы в задаче несбалансированные. Для корректной кросс-валидации используйте стратифицированный способ разбиения на фолды [Stratified K-fold](http://scikit-learn.org/stable/modules/generated/sklearn.model_selection.StratifiedKFold.html#sklearn.model_selection.StratifiedKFold)\n",
    "\n",
    "### Задание\n",
    "1. Задайте RANDOM_SEED и случайным образом разделите выборку на обучающую и контрольную в пропорции 80/20. Этот же RANDOM_SEED используйте при кросс-валидации (0.5 балла)\n",
    "2. Random Forest (2 балла)\n",
    "    * В статье описано использование Random Forest для предсказания важности фактором вляющих на потребление алкоголя.<br\\>\n",
    "    * Повторите эксперимент с использованием [RandomForest](http://scikit-learn.org/stable/modules/generated/sklearn.ensemble.RandomForestClassifier.html#sklearn.ensemble.RandomForestClassifier) и найдите наилучшие параметры с помощью кросс-валидации. (1 балл)<br\\>\n",
    "    * Изобразите аналогичную таблицу важности признаков для наилучшей настройки метода (значения могут отличаться). (0.5 балла)<br\\>\n",
    "    * Укажите значение accuracy для пяти наилучших настроек метода на контрольной выборке. (0.5 балла)<br\\>\n",
    "\n",
    "3. GradientBoosting (2 балла)\n",
    "    * Обучите [GradientBoostingClassifier](http://scikit-learn.org/stable/modules/generated/sklearn.ensemble.GradientBoostingClassifier.html#sklearn.ensemble.GradientBoostingClassifier)  и найдите для него наилучшие параметры с помощью кросс-валидации. (0.5 балла)<br\\>\n",
    "    * Изобразите таблицу важности признаков для наилучшей настройки метода. Отличается ли она от таблицы метода RandomForest. Почему? (1 балл)<br\\>\n",
    "    * Укажите значение accuracy для пяти наилучших настроек метода. (0.5 балла)<br\\>\n",
    "\n",
    "4. AdaBoost (1 балл)\n",
    "    * Обучите [AdaBoostClassifier](http://scikit-learn.org/stable/modules/generated/sklearn.ensemble.AdaBoostClassifier.html) и найдите для него наилучшие параметры с помощью кросс-валидации. (0.5 балла)<br\\>\n",
    "    * Укажите значение accuracy для пяти наилучших настроек метода. (0.5 балла)<br\\>\n",
    "\n",
    "5. Какой из классификаторов оказался лучше? (0.5 балла)"
   ]
  },
  {
   "cell_type": "markdown",
   "metadata": {},
   "source": [
    "### 1. Задаем random_state и разбиваем выборку"
   ]
  },
  {
   "cell_type": "code",
   "execution_count": 41,
   "metadata": {
    "collapsed": true
   },
   "outputs": [],
   "source": [
    "RANDOM_SEED = 42"
   ]
  },
  {
   "cell_type": "code",
   "execution_count": 42,
   "metadata": {
    "collapsed": true
   },
   "outputs": [],
   "source": [
    "from sklearn.model_selection import train_test_split, StratifiedKFold\n",
    "from sklearn.metrics import accuracy_score\n",
    "from sklearn.ensemble import RandomForestClassifier, GradientBoostingClassifier, AdaBoostClassifier"
   ]
  },
  {
   "cell_type": "markdown",
   "metadata": {},
   "source": [
    "$$alc = \\frac{Walc*2 + Dalc*5}{7}$$"
   ]
  },
  {
   "cell_type": "code",
   "execution_count": 43,
   "metadata": {
    "collapsed": true
   },
   "outputs": [],
   "source": [
    "alc = (df.Walc*2 + df.Dalc*5)/7\n",
    "alc[alc<3] = 0\n",
    "alc[alc>=3] = 1\n",
    "y = alc.astype(int)"
   ]
  },
  {
   "cell_type": "code",
   "execution_count": 44,
   "metadata": {
    "collapsed": false
   },
   "outputs": [
    {
     "data": {
      "text/plain": [
       "Index(['school', 'sex', 'age', 'address', 'famsize', 'Pstatus', 'Medu', 'Fedu',\n",
       "       'traveltime', 'studytime', 'failures', 'schoolsup', 'famsup', 'paid',\n",
       "       'activities', 'nursery', 'higher', 'internet', 'romantic', 'famrel',\n",
       "       'freetime', 'goout', 'Dalc', 'Walc', 'health', 'absences', 'G1', 'G2',\n",
       "       'G3', 'Mjob_at_home', 'Mjob_health', 'Mjob_other', 'Mjob_services',\n",
       "       'Mjob_teacher', 'Fjob_at_home', 'Fjob_health', 'Fjob_other',\n",
       "       'Fjob_services', 'Fjob_teacher', 'reason_course', 'reason_home',\n",
       "       'reason_other', 'reason_reputation', 'guardian_father',\n",
       "       'guardian_mother', 'guardian_other'],\n",
       "      dtype='object')"
      ]
     },
     "execution_count": 44,
     "metadata": {},
     "output_type": "execute_result"
    }
   ],
   "source": [
    "df1.columns"
   ]
  },
  {
   "cell_type": "code",
   "execution_count": 45,
   "metadata": {
    "collapsed": false,
    "scrolled": true
   },
   "outputs": [],
   "source": [
    "del df1['Walc']"
   ]
  },
  {
   "cell_type": "code",
   "execution_count": 46,
   "metadata": {
    "collapsed": true
   },
   "outputs": [],
   "source": [
    "del df1['Dalc']"
   ]
  },
  {
   "cell_type": "code",
   "execution_count": 47,
   "metadata": {
    "collapsed": false
   },
   "outputs": [],
   "source": [
    "X = df1"
   ]
  },
  {
   "cell_type": "code",
   "execution_count": 48,
   "metadata": {
    "collapsed": false
   },
   "outputs": [
    {
     "data": {
      "text/plain": [
       "(649, 649, (649, 44), (649,))"
      ]
     },
     "execution_count": 48,
     "metadata": {},
     "output_type": "execute_result"
    }
   ],
   "source": [
    "len(X), len(y), X.shape, y.shape"
   ]
  },
  {
   "cell_type": "code",
   "execution_count": 49,
   "metadata": {
    "collapsed": false
   },
   "outputs": [
    {
     "data": {
      "text/plain": [
       "((519, 44), (130, 44), (519,), (130,))"
      ]
     },
     "execution_count": 49,
     "metadata": {},
     "output_type": "execute_result"
    }
   ],
   "source": [
    "X_train, X_test, y_train, y_test = train_test_split(X, y, train_size=0.8, random_state=RANDOM_SEED)\n",
    "X_train.shape, X_test.shape, y_train.shape, y_test.shape"
   ]
  },
  {
   "cell_type": "markdown",
   "metadata": {},
   "source": [
    "### 2. Обучаем случайный лес"
   ]
  },
  {
   "cell_type": "markdown",
   "metadata": {},
   "source": [
    "2. Random Forest (2 балла)\n",
    "    * В статье описано использование Random Forest для предсказания важности фактором вляющих на потребление алкоголя.<br\\>\n",
    "    * Повторите эксперимент с использованием [RandomForest](http://scikit-learn.org/stable/modules/generated/sklearn.ensemble.RandomForestClassifier.html#sklearn.ensemble.RandomForestClassifier) и найдите наилучшие параметры с помощью кросс-валидации. (1 балл)<br\\>\n",
    "    * Изобразите аналогичную таблицу важности признаков для наилучшей настройки метода (значения могут отличаться). (0.5 балла)<br\\>\n",
    "    * Укажите значение accuracy для пяти наилучших настроек метода на контрольной выборке. (0.5 балла)<br\\>"
   ]
  },
  {
   "cell_type": "markdown",
   "metadata": {},
   "source": [
    "Там в статье признак absenses делали бинарным, раз нужно \"повторить эксперимент\", то я тоже так поступлю"
   ]
  },
  {
   "cell_type": "code",
   "execution_count": 50,
   "metadata": {
    "collapsed": true
   },
   "outputs": [],
   "source": [
    "df1['absences'] = (df1['absences'] >= 10).astype(int)"
   ]
  },
  {
   "cell_type": "markdown",
   "metadata": {},
   "source": [
    "Теперь попробуем обучить случайный лес. Сначала проверю, как он работает на данных, которые в статье названы лучшими, то есть при 25 решающих деревьях."
   ]
  },
  {
   "cell_type": "code",
   "execution_count": 51,
   "metadata": {
    "collapsed": true
   },
   "outputs": [],
   "source": [
    "forest = RandomForestClassifier(n_estimators=25)"
   ]
  },
  {
   "cell_type": "code",
   "execution_count": 52,
   "metadata": {
    "collapsed": false
   },
   "outputs": [],
   "source": [
    "y_pred = forest.fit(X_train, y_train).predict(X_test)"
   ]
  },
  {
   "cell_type": "code",
   "execution_count": 53,
   "metadata": {
    "collapsed": false
   },
   "outputs": [
    {
     "data": {
      "text/plain": [
       "0.94615384615384612"
      ]
     },
     "execution_count": 53,
     "metadata": {},
     "output_type": "execute_result"
    }
   ],
   "source": [
    "accuracy = accuracy_score(y_test, y_pred)\n",
    "accuracy"
   ]
  },
  {
   "cell_type": "markdown",
   "metadata": {},
   "source": [
    "Довольно высокое значение accuracy, но в задании сказано найти параметры с помощью кросс-валидации. Следовательно, нам нужно использовать GridSearchCV)"
   ]
  },
  {
   "cell_type": "code",
   "execution_count": 75,
   "metadata": {
    "collapsed": false
   },
   "outputs": [],
   "source": [
    "from sklearn.model_selection import GridSearchCV, cross_val_score"
   ]
  },
  {
   "cell_type": "code",
   "execution_count": 55,
   "metadata": {
    "collapsed": true
   },
   "outputs": [],
   "source": [
    "from sklearn.metrics import make_scorer"
   ]
  },
  {
   "cell_type": "code",
   "execution_count": 96,
   "metadata": {
    "collapsed": false
   },
   "outputs": [
    {
     "data": {
      "text/plain": [
       "({'max_depth': 4, 'n_estimators': 5}, 0.87475915221579958)"
      ]
     },
     "execution_count": 96,
     "metadata": {},
     "output_type": "execute_result"
    }
   ],
   "source": [
    "forest = RandomForestClassifier(random_state=RANDOM_SEED)\n",
    "\n",
    "forest_params = {'n_estimators': range(5, 50, 5), 'max_depth': np.logspace(0, 2, 7, dtype=int)}\n",
    "\n",
    "forest_grid = GridSearchCV(forest, forest_params, scoring=make_scorer(accuracy_score), cv=25)\n",
    "\n",
    "forest = forest_grid.fit(X_train, y_train)\n",
    "\n",
    "forest_grid.best_params_, forest_grid.best_score_"
   ]
  },
  {
   "cell_type": "code",
   "execution_count": 97,
   "metadata": {
    "collapsed": false
   },
   "outputs": [
    {
     "data": {
      "text/plain": [
       "{'bootstrap': True,\n",
       " 'class_weight': None,\n",
       " 'criterion': 'gini',\n",
       " 'max_depth': 4,\n",
       " 'max_features': 'auto',\n",
       " 'max_leaf_nodes': None,\n",
       " 'min_impurity_split': 1e-07,\n",
       " 'min_samples_leaf': 1,\n",
       " 'min_samples_split': 2,\n",
       " 'min_weight_fraction_leaf': 0.0,\n",
       " 'n_estimators': 5,\n",
       " 'n_jobs': 1,\n",
       " 'oob_score': False,\n",
       " 'random_state': 42,\n",
       " 'verbose': 0,\n",
       " 'warm_start': False}"
      ]
     },
     "execution_count": 97,
     "metadata": {},
     "output_type": "execute_result"
    }
   ],
   "source": [
    "forest_best_est = forest.best_estimator_\n",
    "forest_best_est.get_params()"
   ]
  },
  {
   "cell_type": "markdown",
   "metadata": {},
   "source": [
    "У меня получились вот такие параметры. Это отличается от того, что сказано в статье, но мы используем разные данные, да еще и random_state устанавливаем, поэтому наверное все хорошо.\n",
    "\n",
    "Посчитаем accuracy"
   ]
  },
  {
   "cell_type": "code",
   "execution_count": 58,
   "metadata": {
    "collapsed": false
   },
   "outputs": [
    {
     "data": {
      "text/plain": [
       "0.94615384615384612"
      ]
     },
     "execution_count": 58,
     "metadata": {},
     "output_type": "execute_result"
    }
   ],
   "source": [
    "accuracy_grid = accuracy_score(y_test, forest_grid.predict(X_test))\n",
    "accuracy_grid"
   ]
  },
  {
   "cell_type": "markdown",
   "metadata": {},
   "source": [
    "Accuracy увеличилось по сравнению с первым разом, когда единственным параметром не по умолчанию было количество деревьев и равнялось оно 25. Сейчас задача решается немного лучше - почти на 0.01. Блин... Теперь я перезапустила ноутбук и они стали одинаковыми :С Не могу понять, что пошло не так) "
   ]
  },
  {
   "cell_type": "code",
   "execution_count": 59,
   "metadata": {
    "collapsed": false
   },
   "outputs": [
    {
     "data": {
      "text/plain": [
       "(0.94615384615384612, 0.94615384615384612, 0.0)"
      ]
     },
     "execution_count": 59,
     "metadata": {},
     "output_type": "execute_result"
    }
   ],
   "source": [
    "accuracy, accuracy_grid, accuracy_grid-accuracy"
   ]
  },
  {
   "cell_type": "code",
   "execution_count": 115,
   "metadata": {
    "collapsed": false
   },
   "outputs": [
    {
     "data": {
      "text/html": [
       "<div>\n",
       "<style>\n",
       "    .dataframe thead tr:only-child th {\n",
       "        text-align: right;\n",
       "    }\n",
       "\n",
       "    .dataframe thead th {\n",
       "        text-align: left;\n",
       "    }\n",
       "\n",
       "    .dataframe tbody tr th {\n",
       "        vertical-align: top;\n",
       "    }\n",
       "</style>\n",
       "<table border=\"1\" class=\"dataframe\">\n",
       "  <thead>\n",
       "    <tr style=\"text-align: right;\">\n",
       "      <th></th>\n",
       "      <th>важность признака</th>\n",
       "    </tr>\n",
       "  </thead>\n",
       "  <tbody>\n",
       "    <tr>\n",
       "      <th>sex</th>\n",
       "      <td>0.073509</td>\n",
       "    </tr>\n",
       "    <tr>\n",
       "      <th>G2</th>\n",
       "      <td>0.070294</td>\n",
       "    </tr>\n",
       "    <tr>\n",
       "      <th>higher</th>\n",
       "      <td>0.067714</td>\n",
       "    </tr>\n",
       "    <tr>\n",
       "      <th>traveltime</th>\n",
       "      <td>0.058583</td>\n",
       "    </tr>\n",
       "    <tr>\n",
       "      <th>G1</th>\n",
       "      <td>0.050296</td>\n",
       "    </tr>\n",
       "    <tr>\n",
       "      <th>age</th>\n",
       "      <td>0.048236</td>\n",
       "    </tr>\n",
       "    <tr>\n",
       "      <th>failures</th>\n",
       "      <td>0.042929</td>\n",
       "    </tr>\n",
       "    <tr>\n",
       "      <th>absences</th>\n",
       "      <td>0.041274</td>\n",
       "    </tr>\n",
       "    <tr>\n",
       "      <th>famrel</th>\n",
       "      <td>0.041187</td>\n",
       "    </tr>\n",
       "    <tr>\n",
       "      <th>nursery</th>\n",
       "      <td>0.038468</td>\n",
       "    </tr>\n",
       "    <tr>\n",
       "      <th>Fedu</th>\n",
       "      <td>0.038278</td>\n",
       "    </tr>\n",
       "    <tr>\n",
       "      <th>G3</th>\n",
       "      <td>0.037596</td>\n",
       "    </tr>\n",
       "    <tr>\n",
       "      <th>address</th>\n",
       "      <td>0.032510</td>\n",
       "    </tr>\n",
       "    <tr>\n",
       "      <th>goout</th>\n",
       "      <td>0.031685</td>\n",
       "    </tr>\n",
       "  </tbody>\n",
       "</table>\n",
       "</div>"
      ],
      "text/plain": [
       "            важность признака\n",
       "sex                  0.073509\n",
       "G2                   0.070294\n",
       "higher               0.067714\n",
       "traveltime           0.058583\n",
       "G1                   0.050296\n",
       "age                  0.048236\n",
       "failures             0.042929\n",
       "absences             0.041274\n",
       "famrel               0.041187\n",
       "nursery              0.038468\n",
       "Fedu                 0.038278\n",
       "G3                   0.037596\n",
       "address              0.032510\n",
       "goout                0.031685"
      ]
     },
     "execution_count": 115,
     "metadata": {},
     "output_type": "execute_result"
    }
   ],
   "source": [
    "fimp = forest_best_est.feature_importances_\n",
    "df_fimp_1 = pd.DataFrame(fimp, columns=['важность признака'], index=df1.columns)\n",
    "df_fimp_1_sorted = df_fimp_1.sort_values('важность признака', ascending=False).head(14)\n",
    "df_fimp_1_sorted"
   ]
  },
  {
   "cell_type": "markdown",
   "metadata": {},
   "source": [
    "Но вообще-то может быть у нас есть какие-то признаки, которые стоит выкинуть, потому что они только мешают и никак не влияют на целевую переменную? Для этого нам понадобятся корреляции каждого признака с целевой переменной"
   ]
  },
  {
   "cell_type": "code",
   "execution_count": 60,
   "metadata": {
    "collapsed": false,
    "scrolled": true
   },
   "outputs": [
    {
     "name": "stdout",
     "output_type": "stream",
     "text": [
      "school 0.06\n",
      "sex 0.25\n",
      "age 0.14\n",
      "address -0.07\n",
      "famsize 0.06\n",
      "Pstatus 0.0\n",
      "Medu -0.02\n",
      "Fedu 0.0\n",
      "traveltime 0.11\n",
      "studytime -0.13\n",
      "failures 0.12\n",
      "schoolsup -0.04\n",
      "famsup -0.05\n",
      "paid 0.03\n",
      "activities 0.03\n",
      "nursery -0.05\n",
      "higher -0.09\n",
      "internet 0.02\n",
      "romantic 0.02\n",
      "famrel -0.04\n",
      "freetime 0.08\n",
      "goout 0.2\n",
      "health 0.05\n",
      "absences 0.14\n",
      "G1 -0.18\n",
      "G2 -0.17\n",
      "G3 -0.17\n",
      "Mjob_at_home 0.0\n",
      "Mjob_health -0.05\n",
      "Mjob_other -0.01\n",
      "Mjob_services 0.02\n",
      "Mjob_teacher 0.03\n",
      "Fjob_at_home -0.04\n",
      "Fjob_health 0.01\n",
      "Fjob_other -0.05\n",
      "Fjob_services 0.1\n",
      "Fjob_teacher -0.05\n",
      "reason_course -0.07\n",
      "reason_home 0.04\n",
      "reason_other 0.12\n",
      "reason_reputation -0.05\n",
      "guardian_father 0.0\n",
      "guardian_mother -0.06\n",
      "guardian_other 0.1\n"
     ]
    }
   ],
   "source": [
    "corr_features = []\n",
    "for feature in df1.columns:\n",
    "    crr = df1[feature].corr(y)\n",
    "    print(feature, round(crr, 2))\n",
    "    if crr > 0.1 or crr < -0.1:\n",
    "        corr_features.append({feature: round(crr, 2)})"
   ]
  },
  {
   "cell_type": "markdown",
   "metadata": {},
   "source": [
    "Вообще корреляции очень маленькие, я понятия не имею, откуда они взяли, что корреляция < 0,35 только у 4 признаков, которые решили выкинуть за ненадобностью. Я обучила случайный лес на всех переменных, которые были, и accuracy кажется мне достаточно хорошим."
   ]
  },
  {
   "cell_type": "markdown",
   "metadata": {},
   "source": [
    "![title](corr.png)"
   ]
  },
  {
   "cell_type": "markdown",
   "metadata": {},
   "source": [
    "Поэтому я, в свою очередь, выведу признаки, которые хоть как-то коррелируют. Возможно, проблема в том, что они использовали данные из двух датасетов, но все же это сомнительно. Я работаю с более объемным датасетом, значит по логике, если признаки коррелируют плохо здесь, то при объединении они скорее всего тоже будут коррелировать не очень хорошо."
   ]
  },
  {
   "cell_type": "code",
   "execution_count": 61,
   "metadata": {
    "collapsed": false
   },
   "outputs": [
    {
     "data": {
      "text/plain": [
       "[{'sex': 0.25},\n",
       " {'age': 0.14000000000000001},\n",
       " {'traveltime': 0.11},\n",
       " {'studytime': -0.13},\n",
       " {'failures': 0.12},\n",
       " {'goout': 0.20000000000000001},\n",
       " {'absences': 0.14000000000000001},\n",
       " {'G1': -0.17999999999999999},\n",
       " {'G2': -0.17000000000000001},\n",
       " {'G3': -0.17000000000000001},\n",
       " {'reason_other': 0.12},\n",
       " {'guardian_other': 0.10000000000000001}]"
      ]
     },
     "execution_count": 61,
     "metadata": {},
     "output_type": "execute_result"
    }
   ],
   "source": [
    "corr_features"
   ]
  },
  {
   "cell_type": "markdown",
   "metadata": {},
   "source": [
    "Признаки, которые авторы статьи решили выкинуть, являются одними из наиболее коррелирующих (относительно всех признаков, конечно, так-то 0,1 - слабая корреляция"
   ]
  },
  {
   "cell_type": "markdown",
   "metadata": {},
   "source": [
    "### На этом моменте я внезапно узнаю, что дедлайн вчера, а не сегодня. Тадададааммм"
   ]
  },
  {
   "cell_type": "markdown",
   "metadata": {},
   "source": [
    "Не, ну так-то можно попробовать обучить без этих признаков. Давайте попробуем"
   ]
  },
  {
   "cell_type": "code",
   "execution_count": 62,
   "metadata": {
    "collapsed": false
   },
   "outputs": [],
   "source": [
    "df2 = df1.copy()"
   ]
  },
  {
   "cell_type": "code",
   "execution_count": 63,
   "metadata": {
    "collapsed": false
   },
   "outputs": [],
   "source": [
    "for col in ['Fedu', 'G1', 'G2', 'G3']:\n",
    "    del df2[col]"
   ]
  },
  {
   "cell_type": "code",
   "execution_count": 68,
   "metadata": {
    "collapsed": false,
    "scrolled": true
   },
   "outputs": [
    {
     "data": {
      "text/plain": [
       "(44, 40)"
      ]
     },
     "execution_count": 68,
     "metadata": {},
     "output_type": "execute_result"
    }
   ],
   "source": [
    "len(df1.columns), len(df2.columns)"
   ]
  },
  {
   "cell_type": "code",
   "execution_count": 69,
   "metadata": {
    "collapsed": true
   },
   "outputs": [],
   "source": [
    "X_new_train, X_new_test, y_new_train, y_new_test = train_test_split(df2, y, train_size=0.8,\n",
    "                                                                    random_state=RANDOM_SEED)"
   ]
  },
  {
   "cell_type": "code",
   "execution_count": 71,
   "metadata": {
    "collapsed": false
   },
   "outputs": [
    {
     "data": {
      "text/plain": [
       "({'max_depth': 10, 'n_estimators': 25}, 0.87475915221579958)"
      ]
     },
     "execution_count": 71,
     "metadata": {},
     "output_type": "execute_result"
    }
   ],
   "source": [
    "forest = RandomForestClassifier(random_state=RANDOM_SEED)\n",
    "\n",
    "forest_params = {'n_estimators': range(5, 50, 5), 'max_depth': np.logspace(0, 2, 7, dtype=int)}\n",
    "\n",
    "forest_grid = GridSearchCV(forest, forest_params, scoring=make_scorer(accuracy_score), cv=25)\n",
    "\n",
    "forest = forest_grid.fit(X_new_train, y_new_train)\n",
    "\n",
    "forest_grid.best_params_, forest_grid.best_score_"
   ]
  },
  {
   "cell_type": "markdown",
   "metadata": {},
   "source": [
    "Хм, действительно, если сделать как в статье, получится такое же количество решающих деревьев..."
   ]
  },
  {
   "cell_type": "code",
   "execution_count": 72,
   "metadata": {
    "collapsed": false
   },
   "outputs": [
    {
     "data": {
      "text/plain": [
       "{'bootstrap': True,\n",
       " 'class_weight': None,\n",
       " 'criterion': 'gini',\n",
       " 'max_depth': 10,\n",
       " 'max_features': 'auto',\n",
       " 'max_leaf_nodes': None,\n",
       " 'min_impurity_split': 1e-07,\n",
       " 'min_samples_leaf': 1,\n",
       " 'min_samples_split': 2,\n",
       " 'min_weight_fraction_leaf': 0.0,\n",
       " 'n_estimators': 25,\n",
       " 'n_jobs': 1,\n",
       " 'oob_score': False,\n",
       " 'random_state': 42,\n",
       " 'verbose': 0,\n",
       " 'warm_start': False}"
      ]
     },
     "execution_count": 72,
     "metadata": {},
     "output_type": "execute_result"
    }
   ],
   "source": [
    "forest_best_est = forest.best_estimator_\n",
    "forest_best_est.get_params()"
   ]
  },
  {
   "cell_type": "code",
   "execution_count": 73,
   "metadata": {
    "collapsed": false
   },
   "outputs": [
    {
     "data": {
      "text/plain": [
       "0.93846153846153846"
      ]
     },
     "execution_count": 73,
     "metadata": {},
     "output_type": "execute_result"
    }
   ],
   "source": [
    "accuracy_grid_new = accuracy_score(y_new_test, forest_grid.predict(X_new_test))\n",
    "accuracy_grid_new"
   ]
  },
  {
   "cell_type": "markdown",
   "metadata": {},
   "source": [
    "Accuracy ожидаемо стало хуже, но все же ненамного"
   ]
  },
  {
   "cell_type": "code",
   "execution_count": 74,
   "metadata": {
    "collapsed": false
   },
   "outputs": [
    {
     "data": {
      "text/plain": [
       "(0.94615384615384612, 0.94615384615384612, 0.93846153846153846)"
      ]
     },
     "execution_count": 74,
     "metadata": {},
     "output_type": "execute_result"
    }
   ],
   "source": [
    "accuracy, accuracy_grid, accuracy_grid_new"
   ]
  },
  {
   "cell_type": "markdown",
   "metadata": {},
   "source": [
    "Теперь нужно сделать табличку важности признаков, как было в статье"
   ]
  },
  {
   "cell_type": "code",
   "execution_count": 93,
   "metadata": {
    "collapsed": false
   },
   "outputs": [
    {
     "data": {
      "text/html": [
       "<div>\n",
       "<style>\n",
       "    .dataframe thead tr:only-child th {\n",
       "        text-align: right;\n",
       "    }\n",
       "\n",
       "    .dataframe thead th {\n",
       "        text-align: left;\n",
       "    }\n",
       "\n",
       "    .dataframe tbody tr th {\n",
       "        vertical-align: top;\n",
       "    }\n",
       "</style>\n",
       "<table border=\"1\" class=\"dataframe\">\n",
       "  <thead>\n",
       "    <tr style=\"text-align: right;\">\n",
       "      <th></th>\n",
       "      <th>важность признака</th>\n",
       "    </tr>\n",
       "  </thead>\n",
       "  <tbody>\n",
       "    <tr>\n",
       "      <th>goout</th>\n",
       "      <td>0.065964</td>\n",
       "    </tr>\n",
       "    <tr>\n",
       "      <th>sex</th>\n",
       "      <td>0.065883</td>\n",
       "    </tr>\n",
       "    <tr>\n",
       "      <th>age</th>\n",
       "      <td>0.064268</td>\n",
       "    </tr>\n",
       "    <tr>\n",
       "      <th>famrel</th>\n",
       "      <td>0.061729</td>\n",
       "    </tr>\n",
       "    <tr>\n",
       "      <th>freetime</th>\n",
       "      <td>0.050738</td>\n",
       "    </tr>\n",
       "    <tr>\n",
       "      <th>health</th>\n",
       "      <td>0.044391</td>\n",
       "    </tr>\n",
       "    <tr>\n",
       "      <th>Medu</th>\n",
       "      <td>0.039316</td>\n",
       "    </tr>\n",
       "    <tr>\n",
       "      <th>studytime</th>\n",
       "      <td>0.038641</td>\n",
       "    </tr>\n",
       "    <tr>\n",
       "      <th>traveltime</th>\n",
       "      <td>0.038542</td>\n",
       "    </tr>\n",
       "    <tr>\n",
       "      <th>failures</th>\n",
       "      <td>0.035873</td>\n",
       "    </tr>\n",
       "    <tr>\n",
       "      <th>activities</th>\n",
       "      <td>0.029580</td>\n",
       "    </tr>\n",
       "    <tr>\n",
       "      <th>reason_other</th>\n",
       "      <td>0.029351</td>\n",
       "    </tr>\n",
       "    <tr>\n",
       "      <th>Fjob_services</th>\n",
       "      <td>0.025777</td>\n",
       "    </tr>\n",
       "    <tr>\n",
       "      <th>famsup</th>\n",
       "      <td>0.023360</td>\n",
       "    </tr>\n",
       "  </tbody>\n",
       "</table>\n",
       "</div>"
      ],
      "text/plain": [
       "               важность признака\n",
       "goout                   0.065964\n",
       "sex                     0.065883\n",
       "age                     0.064268\n",
       "famrel                  0.061729\n",
       "freetime                0.050738\n",
       "health                  0.044391\n",
       "Medu                    0.039316\n",
       "studytime               0.038641\n",
       "traveltime              0.038542\n",
       "failures                0.035873\n",
       "activities              0.029580\n",
       "reason_other            0.029351\n",
       "Fjob_services           0.025777\n",
       "famsup                  0.023360"
      ]
     },
     "execution_count": 93,
     "metadata": {},
     "output_type": "execute_result"
    }
   ],
   "source": [
    "df_fimp_2 = pd.DataFrame(forest_best_est.feature_importances_, columns=['важность признака'], index=df2.columns)\n",
    "df_fimp_2_sorted = df_fimp_2.sort_values('важность признака', ascending=False).head(14)\n",
    "df_fimp_2_sorted"
   ]
  },
  {
   "cell_type": "code",
   "execution_count": 100,
   "metadata": {
    "collapsed": false
   },
   "outputs": [
    {
     "data": {
      "text/html": [
       "<div>\n",
       "<style>\n",
       "    .dataframe thead tr:only-child th {\n",
       "        text-align: right;\n",
       "    }\n",
       "\n",
       "    .dataframe thead th {\n",
       "        text-align: left;\n",
       "    }\n",
       "\n",
       "    .dataframe tbody tr th {\n",
       "        vertical-align: top;\n",
       "    }\n",
       "</style>\n",
       "<table border=\"1\" class=\"dataframe\">\n",
       "  <thead>\n",
       "    <tr style=\"text-align: right;\">\n",
       "      <th></th>\n",
       "      <th>важность признака</th>\n",
       "    </tr>\n",
       "  </thead>\n",
       "  <tbody>\n",
       "    <tr>\n",
       "      <th>sex</th>\n",
       "      <td>0.073509</td>\n",
       "    </tr>\n",
       "    <tr>\n",
       "      <th>G2</th>\n",
       "      <td>0.070294</td>\n",
       "    </tr>\n",
       "    <tr>\n",
       "      <th>higher</th>\n",
       "      <td>0.067714</td>\n",
       "    </tr>\n",
       "    <tr>\n",
       "      <th>traveltime</th>\n",
       "      <td>0.058583</td>\n",
       "    </tr>\n",
       "    <tr>\n",
       "      <th>G1</th>\n",
       "      <td>0.050296</td>\n",
       "    </tr>\n",
       "    <tr>\n",
       "      <th>age</th>\n",
       "      <td>0.048236</td>\n",
       "    </tr>\n",
       "    <tr>\n",
       "      <th>failures</th>\n",
       "      <td>0.042929</td>\n",
       "    </tr>\n",
       "    <tr>\n",
       "      <th>absences</th>\n",
       "      <td>0.041274</td>\n",
       "    </tr>\n",
       "    <tr>\n",
       "      <th>famrel</th>\n",
       "      <td>0.041187</td>\n",
       "    </tr>\n",
       "    <tr>\n",
       "      <th>nursery</th>\n",
       "      <td>0.038468</td>\n",
       "    </tr>\n",
       "    <tr>\n",
       "      <th>Fedu</th>\n",
       "      <td>0.038278</td>\n",
       "    </tr>\n",
       "    <tr>\n",
       "      <th>G3</th>\n",
       "      <td>0.037596</td>\n",
       "    </tr>\n",
       "    <tr>\n",
       "      <th>address</th>\n",
       "      <td>0.032510</td>\n",
       "    </tr>\n",
       "    <tr>\n",
       "      <th>goout</th>\n",
       "      <td>0.031685</td>\n",
       "    </tr>\n",
       "  </tbody>\n",
       "</table>\n",
       "</div>"
      ],
      "text/plain": [
       "            важность признака\n",
       "sex                  0.073509\n",
       "G2                   0.070294\n",
       "higher               0.067714\n",
       "traveltime           0.058583\n",
       "G1                   0.050296\n",
       "age                  0.048236\n",
       "failures             0.042929\n",
       "absences             0.041274\n",
       "famrel               0.041187\n",
       "nursery              0.038468\n",
       "Fedu                 0.038278\n",
       "G3                   0.037596\n",
       "address              0.032510\n",
       "goout                0.031685"
      ]
     },
     "execution_count": 100,
     "metadata": {},
     "output_type": "execute_result"
    }
   ],
   "source": [
    "df_fimp_1.sort_values('важность признака', ascending=False).head(14)"
   ]
  },
  {
   "cell_type": "markdown",
   "metadata": {},
   "source": [
    "Все же мне кажется, что не нужно убирать признаки, от которых избавились в статье. У них самих на первом месте стоит пол, у нас такой результат получается в первом случае"
   ]
  },
  {
   "cell_type": "markdown",
   "metadata": {},
   "source": [
    "Осталось указать значения accuracy для 5 наилучших настроек метода. "
   ]
  },
  {
   "cell_type": "code",
   "execution_count": 201,
   "metadata": {
    "collapsed": false
   },
   "outputs": [
    {
     "data": {
      "text/html": [
       "<div>\n",
       "<style>\n",
       "    .dataframe thead tr:only-child th {\n",
       "        text-align: right;\n",
       "    }\n",
       "\n",
       "    .dataframe thead th {\n",
       "        text-align: left;\n",
       "    }\n",
       "\n",
       "    .dataframe tbody tr th {\n",
       "        vertical-align: top;\n",
       "    }\n",
       "</style>\n",
       "<table border=\"1\" class=\"dataframe\">\n",
       "  <thead>\n",
       "    <tr style=\"text-align: right;\">\n",
       "      <th></th>\n",
       "      <th>mean_fit_time</th>\n",
       "      <th>mean_score_time</th>\n",
       "      <th>mean_test_score</th>\n",
       "      <th>mean_train_score</th>\n",
       "      <th>param_max_depth</th>\n",
       "      <th>param_n_estimators</th>\n",
       "      <th>params</th>\n",
       "      <th>rank_test_score</th>\n",
       "      <th>split0_test_score</th>\n",
       "      <th>split0_train_score</th>\n",
       "      <th>...</th>\n",
       "      <th>split7_test_score</th>\n",
       "      <th>split7_train_score</th>\n",
       "      <th>split8_test_score</th>\n",
       "      <th>split8_train_score</th>\n",
       "      <th>split9_test_score</th>\n",
       "      <th>split9_train_score</th>\n",
       "      <th>std_fit_time</th>\n",
       "      <th>std_score_time</th>\n",
       "      <th>std_test_score</th>\n",
       "      <th>std_train_score</th>\n",
       "    </tr>\n",
       "  </thead>\n",
       "  <tbody>\n",
       "    <tr>\n",
       "      <th>18</th>\n",
       "      <td>0.011108</td>\n",
       "      <td>0.001239</td>\n",
       "      <td>0.874759</td>\n",
       "      <td>0.880943</td>\n",
       "      <td>4</td>\n",
       "      <td>5</td>\n",
       "      <td>{'max_depth': 4, 'n_estimators': 5}</td>\n",
       "      <td>1</td>\n",
       "      <td>0.863636</td>\n",
       "      <td>0.885312</td>\n",
       "      <td>...</td>\n",
       "      <td>0.857143</td>\n",
       "      <td>0.883534</td>\n",
       "      <td>0.857143</td>\n",
       "      <td>0.881526</td>\n",
       "      <td>0.857143</td>\n",
       "      <td>0.883534</td>\n",
       "      <td>0.000826</td>\n",
       "      <td>0.000023</td>\n",
       "      <td>0.028217</td>\n",
       "      <td>0.003579</td>\n",
       "    </tr>\n",
       "    <tr>\n",
       "      <th>43</th>\n",
       "      <td>0.087138</td>\n",
       "      <td>0.005841</td>\n",
       "      <td>0.872832</td>\n",
       "      <td>0.999599</td>\n",
       "      <td>21</td>\n",
       "      <td>40</td>\n",
       "      <td>{'max_depth': 21, 'n_estimators': 40}</td>\n",
       "      <td>2</td>\n",
       "      <td>0.863636</td>\n",
       "      <td>1.000000</td>\n",
       "      <td>...</td>\n",
       "      <td>0.857143</td>\n",
       "      <td>1.000000</td>\n",
       "      <td>0.857143</td>\n",
       "      <td>0.997992</td>\n",
       "      <td>0.857143</td>\n",
       "      <td>1.000000</td>\n",
       "      <td>0.001894</td>\n",
       "      <td>0.000756</td>\n",
       "      <td>0.024473</td>\n",
       "      <td>0.000803</td>\n",
       "    </tr>\n",
       "    <tr>\n",
       "      <th>52</th>\n",
       "      <td>0.097842</td>\n",
       "      <td>0.006577</td>\n",
       "      <td>0.872832</td>\n",
       "      <td>0.999599</td>\n",
       "      <td>46</td>\n",
       "      <td>40</td>\n",
       "      <td>{'max_depth': 46, 'n_estimators': 40}</td>\n",
       "      <td>2</td>\n",
       "      <td>0.863636</td>\n",
       "      <td>1.000000</td>\n",
       "      <td>...</td>\n",
       "      <td>0.857143</td>\n",
       "      <td>1.000000</td>\n",
       "      <td>0.857143</td>\n",
       "      <td>0.997992</td>\n",
       "      <td>0.857143</td>\n",
       "      <td>1.000000</td>\n",
       "      <td>0.017238</td>\n",
       "      <td>0.001487</td>\n",
       "      <td>0.024473</td>\n",
       "      <td>0.000803</td>\n",
       "    </tr>\n",
       "    <tr>\n",
       "      <th>61</th>\n",
       "      <td>0.083107</td>\n",
       "      <td>0.005521</td>\n",
       "      <td>0.872832</td>\n",
       "      <td>0.999599</td>\n",
       "      <td>100</td>\n",
       "      <td>40</td>\n",
       "      <td>{'max_depth': 100, 'n_estimators': 40}</td>\n",
       "      <td>2</td>\n",
       "      <td>0.863636</td>\n",
       "      <td>1.000000</td>\n",
       "      <td>...</td>\n",
       "      <td>0.857143</td>\n",
       "      <td>1.000000</td>\n",
       "      <td>0.857143</td>\n",
       "      <td>0.997992</td>\n",
       "      <td>0.857143</td>\n",
       "      <td>1.000000</td>\n",
       "      <td>0.002648</td>\n",
       "      <td>0.000927</td>\n",
       "      <td>0.024473</td>\n",
       "      <td>0.000803</td>\n",
       "    </tr>\n",
       "    <tr>\n",
       "      <th>0</th>\n",
       "      <td>0.011711</td>\n",
       "      <td>0.001444</td>\n",
       "      <td>0.870906</td>\n",
       "      <td>0.870987</td>\n",
       "      <td>1</td>\n",
       "      <td>5</td>\n",
       "      <td>{'max_depth': 1, 'n_estimators': 5}</td>\n",
       "      <td>5</td>\n",
       "      <td>0.863636</td>\n",
       "      <td>0.871227</td>\n",
       "      <td>...</td>\n",
       "      <td>0.857143</td>\n",
       "      <td>0.871486</td>\n",
       "      <td>0.857143</td>\n",
       "      <td>0.871486</td>\n",
       "      <td>0.857143</td>\n",
       "      <td>0.871486</td>\n",
       "      <td>0.001745</td>\n",
       "      <td>0.000341</td>\n",
       "      <td>0.019504</td>\n",
       "      <td>0.000945</td>\n",
       "    </tr>\n",
       "  </tbody>\n",
       "</table>\n",
       "<p>5 rows × 62 columns</p>\n",
       "</div>"
      ],
      "text/plain": [
       "    mean_fit_time  mean_score_time  mean_test_score  mean_train_score  \\\n",
       "18       0.011108         0.001239         0.874759          0.880943   \n",
       "43       0.087138         0.005841         0.872832          0.999599   \n",
       "52       0.097842         0.006577         0.872832          0.999599   \n",
       "61       0.083107         0.005521         0.872832          0.999599   \n",
       "0        0.011711         0.001444         0.870906          0.870987   \n",
       "\n",
       "   param_max_depth param_n_estimators                                  params  \\\n",
       "18               4                  5     {'max_depth': 4, 'n_estimators': 5}   \n",
       "43              21                 40   {'max_depth': 21, 'n_estimators': 40}   \n",
       "52              46                 40   {'max_depth': 46, 'n_estimators': 40}   \n",
       "61             100                 40  {'max_depth': 100, 'n_estimators': 40}   \n",
       "0                1                  5     {'max_depth': 1, 'n_estimators': 5}   \n",
       "\n",
       "    rank_test_score  split0_test_score  split0_train_score       ...         \\\n",
       "18                1           0.863636            0.885312       ...          \n",
       "43                2           0.863636            1.000000       ...          \n",
       "52                2           0.863636            1.000000       ...          \n",
       "61                2           0.863636            1.000000       ...          \n",
       "0                 5           0.863636            0.871227       ...          \n",
       "\n",
       "    split7_test_score  split7_train_score  split8_test_score  \\\n",
       "18           0.857143            0.883534           0.857143   \n",
       "43           0.857143            1.000000           0.857143   \n",
       "52           0.857143            1.000000           0.857143   \n",
       "61           0.857143            1.000000           0.857143   \n",
       "0            0.857143            0.871486           0.857143   \n",
       "\n",
       "    split8_train_score  split9_test_score  split9_train_score  std_fit_time  \\\n",
       "18            0.881526           0.857143            0.883534      0.000826   \n",
       "43            0.997992           0.857143            1.000000      0.001894   \n",
       "52            0.997992           0.857143            1.000000      0.017238   \n",
       "61            0.997992           0.857143            1.000000      0.002648   \n",
       "0             0.871486           0.857143            0.871486      0.001745   \n",
       "\n",
       "    std_score_time  std_test_score  std_train_score  \n",
       "18        0.000023        0.028217         0.003579  \n",
       "43        0.000756        0.024473         0.000803  \n",
       "52        0.001487        0.024473         0.000803  \n",
       "61        0.000927        0.024473         0.000803  \n",
       "0         0.000341        0.019504         0.000945  \n",
       "\n",
       "[5 rows x 62 columns]"
      ]
     },
     "execution_count": 201,
     "metadata": {},
     "output_type": "execute_result"
    }
   ],
   "source": [
    "results_1 = pd.DataFrame(forest.cv_results_)\n",
    "results_1.sort_values(['mean_test_score', 'rank_test_score'], ascending=False).head()"
   ]
  },
  {
   "cell_type": "markdown",
   "metadata": {},
   "source": [
    "Я так понимаю, это значения на кросс-валидации, то есть не на отложенной тестовой выборке."
   ]
  },
  {
   "cell_type": "code",
   "execution_count": 234,
   "metadata": {
    "collapsed": false
   },
   "outputs": [
    {
     "data": {
      "text/plain": [
       "[array([{'max_depth': 4, 'n_estimators': 5}], dtype=object),\n",
       " array([{'max_depth': 21, 'n_estimators': 40}], dtype=object),\n",
       " array([{'max_depth': 46, 'n_estimators': 40}], dtype=object),\n",
       " array([{'max_depth': 100, 'n_estimators': 40}], dtype=object),\n",
       " array([{'max_depth': 1, 'n_estimators': 5}], dtype=object)]"
      ]
     },
     "execution_count": 234,
     "metadata": {},
     "output_type": "execute_result"
    }
   ],
   "source": [
    "lines = [18, 43, 52, 61, 0]\n",
    "def best_five_params(lines, df):\n",
    "    last_params = []\n",
    "    for i in lines:\n",
    "        param = df[i:i+1]['params']\n",
    "        param = param.values\n",
    "        last_params.append(param)\n",
    "    return(last_params)\n",
    "best_five_params(lines=lines, df=results_1)"
   ]
  },
  {
   "cell_type": "markdown",
   "metadata": {},
   "source": [
    "Наверное как-то можно обучить случайный лес с каждым из параметров с помощью цикла, но мне кажется, что это муторно, поэтому сорре, сделаю просто функцию"
   ]
  },
  {
   "cell_type": "code",
   "execution_count": 237,
   "metadata": {
    "collapsed": false
   },
   "outputs": [],
   "source": [
    "def five_models(model):\n",
    "    mdl = model\n",
    "    y_pred = mdl.fit(X_train, y_train).predict(X_test)\n",
    "    accuracy = accuracy_score(y_test, y_pred)\n",
    "    print(accuracy)"
   ]
  },
  {
   "cell_type": "code",
   "execution_count": 238,
   "metadata": {
    "collapsed": false
   },
   "outputs": [
    {
     "name": "stdout",
     "output_type": "stream",
     "text": [
      "0.930769230769\n"
     ]
    }
   ],
   "source": [
    "rfc = RandomForestClassifier\n",
    "five_models(rfc(max_depth=4, n_estimators=5))"
   ]
  },
  {
   "cell_type": "code",
   "execution_count": 240,
   "metadata": {
    "collapsed": false
   },
   "outputs": [
    {
     "name": "stdout",
     "output_type": "stream",
     "text": [
      "0.930769230769\n"
     ]
    }
   ],
   "source": [
    "five_models(rfc(max_depth=21, n_estimators=40))"
   ]
  },
  {
   "cell_type": "code",
   "execution_count": 241,
   "metadata": {
    "collapsed": false
   },
   "outputs": [
    {
     "name": "stdout",
     "output_type": "stream",
     "text": [
      "0.938461538462\n"
     ]
    }
   ],
   "source": [
    "five_models(rfc(max_depth=46, n_estimators=40))"
   ]
  },
  {
   "cell_type": "code",
   "execution_count": 242,
   "metadata": {
    "collapsed": false
   },
   "outputs": [
    {
     "name": "stdout",
     "output_type": "stream",
     "text": [
      "0.946153846154\n"
     ]
    }
   ],
   "source": [
    "five_models(rfc(max_depth=100, n_estimators=40))"
   ]
  },
  {
   "cell_type": "code",
   "execution_count": 246,
   "metadata": {
    "collapsed": false
   },
   "outputs": [
    {
     "name": "stdout",
     "output_type": "stream",
     "text": [
      "0.938461538462\n"
     ]
    }
   ],
   "source": [
    "five_models(rfc(max_depth=1, n_estimators=5))"
   ]
  },
  {
   "cell_type": "markdown",
   "metadata": {},
   "source": [
    "Кажется, в конфе спрашивали, может ли быть такое, что значения получаются одинаковыми. Рискну предположить, что это как раз про этот случай. "
   ]
  },
  {
   "cell_type": "markdown",
   "metadata": {},
   "source": [
    "### 3. Обучаем градиентный бустинг"
   ]
  },
  {
   "cell_type": "markdown",
   "metadata": {},
   "source": [
    "3. GradientBoosting (2 балла)\n",
    "    * Обучите [GradientBoostingClassifier](http://scikit-learn.org/stable/modules/generated/sklearn.ensemble.GradientBoostingClassifier.html#sklearn.ensemble.GradientBoostingClassifier)  и найдите для него наилучшие параметры с помощью кросс-валидации. (0.5 балла)<br\\>\n",
    "    * Изобразите таблицу важности признаков для наилучшей настройки метода. Отличается ли она от таблицы метода RandomForest. Почему? (1 балл)<br\\>\n",
    "    * Укажите значение accuracy для пяти наилучших настроек метода. (0.5 балла)<br\\>"
   ]
  },
  {
   "cell_type": "code",
   "execution_count": 116,
   "metadata": {
    "collapsed": false
   },
   "outputs": [
    {
     "data": {
      "text/plain": [
       "array([  10,   21,   46,  100,  215,  464, 1000])"
      ]
     },
     "execution_count": 116,
     "metadata": {},
     "output_type": "execute_result"
    }
   ],
   "source": [
    "np.logspace(1, 3, 7, dtype=int)"
   ]
  },
  {
   "cell_type": "code",
   "execution_count": 117,
   "metadata": {
    "collapsed": false
   },
   "outputs": [
    {
     "data": {
      "text/plain": [
       "array([ 0.1       ,  0.31622777,  1.        ])"
      ]
     },
     "execution_count": 117,
     "metadata": {},
     "output_type": "execute_result"
    }
   ],
   "source": [
    "np.logspace(-1, 0, 3, dtype=float)"
   ]
  },
  {
   "cell_type": "code",
   "execution_count": 118,
   "metadata": {
    "collapsed": false
   },
   "outputs": [
    {
     "data": {
      "text/plain": [
       "array([  1,   2,   4,  10,  21,  46, 100])"
      ]
     },
     "execution_count": 118,
     "metadata": {},
     "output_type": "execute_result"
    }
   ],
   "source": [
    "np.logspace(0, 2, 7, dtype=int)"
   ]
  },
  {
   "cell_type": "code",
   "execution_count": 120,
   "metadata": {
    "collapsed": false
   },
   "outputs": [
    {
     "name": "stderr",
     "output_type": "stream",
     "text": [
      "/Users/anastasiarodygina/anaconda/lib/python3.6/site-packages/sklearn/ensemble/gradient_boosting.py:1093: RuntimeWarning: invalid value encountered in double_scalars\n",
      "  sample_weight[~sample_mask]))\n",
      "/Users/anastasiarodygina/anaconda/lib/python3.6/site-packages/sklearn/ensemble/gradient_boosting.py:1093: RuntimeWarning: invalid value encountered in double_scalars\n",
      "  sample_weight[~sample_mask]))\n",
      "/Users/anastasiarodygina/anaconda/lib/python3.6/site-packages/sklearn/ensemble/gradient_boosting.py:1093: RuntimeWarning: invalid value encountered in double_scalars\n",
      "  sample_weight[~sample_mask]))\n",
      "/Users/anastasiarodygina/anaconda/lib/python3.6/site-packages/sklearn/ensemble/gradient_boosting.py:1093: RuntimeWarning: invalid value encountered in double_scalars\n",
      "  sample_weight[~sample_mask]))\n",
      "/Users/anastasiarodygina/anaconda/lib/python3.6/site-packages/sklearn/ensemble/gradient_boosting.py:1093: RuntimeWarning: invalid value encountered in double_scalars\n",
      "  sample_weight[~sample_mask]))\n",
      "/Users/anastasiarodygina/anaconda/lib/python3.6/site-packages/sklearn/ensemble/gradient_boosting.py:1093: RuntimeWarning: invalid value encountered in double_scalars\n",
      "  sample_weight[~sample_mask]))\n",
      "/Users/anastasiarodygina/anaconda/lib/python3.6/site-packages/sklearn/ensemble/gradient_boosting.py:1093: RuntimeWarning: invalid value encountered in double_scalars\n",
      "  sample_weight[~sample_mask]))\n"
     ]
    },
    {
     "data": {
      "text/plain": [
       "({'max_depth': 2, 'n_estimators': 21, 'subsample': 1.0}, 0.88246628131021199)"
      ]
     },
     "execution_count": 120,
     "metadata": {},
     "output_type": "execute_result"
    }
   ],
   "source": [
    "gboost = GradientBoostingClassifier(random_state=RANDOM_SEED)\n",
    "\n",
    "gboost_params = {'n_estimators': np.logspace(1, 3, 7, dtype=int),\n",
    "                 'subsample': np.logspace(-1, 0, 3, dtype=float),\n",
    "                 'max_depth': np.logspace(0, 2, 7, dtype=int)}\n",
    "\n",
    "gboost_grid = GridSearchCV(gboost, gboost_params, scoring=make_scorer(accuracy_score), cv=25)\n",
    "\n",
    "gboost = gboost_grid.fit(X_train, y_train)\n",
    "\n",
    "gboost_grid.best_params_, gboost_grid.best_score_"
   ]
  },
  {
   "cell_type": "markdown",
   "metadata": {},
   "source": [
    "Предыдущая ячейка очень долго считалась, поэтому скопирую аутпут сюда:\n",
    "\n",
    "({'max_depth': 2, 'n_estimators': 21, 'subsample': 1.0}, 0.88246628131021199)"
   ]
  },
  {
   "cell_type": "code",
   "execution_count": 121,
   "metadata": {
    "collapsed": false
   },
   "outputs": [
    {
     "data": {
      "text/plain": [
       "{'criterion': 'friedman_mse',\n",
       " 'init': None,\n",
       " 'learning_rate': 0.1,\n",
       " 'loss': 'deviance',\n",
       " 'max_depth': 2,\n",
       " 'max_features': None,\n",
       " 'max_leaf_nodes': None,\n",
       " 'min_impurity_split': 1e-07,\n",
       " 'min_samples_leaf': 1,\n",
       " 'min_samples_split': 2,\n",
       " 'min_weight_fraction_leaf': 0.0,\n",
       " 'n_estimators': 21,\n",
       " 'presort': 'auto',\n",
       " 'random_state': 42,\n",
       " 'subsample': 1.0,\n",
       " 'verbose': 0,\n",
       " 'warm_start': False}"
      ]
     },
     "execution_count": 121,
     "metadata": {},
     "output_type": "execute_result"
    }
   ],
   "source": [
    "gboost_best_est = gboost.best_estimator_\n",
    "gboost_best_est.get_params()"
   ]
  },
  {
   "cell_type": "code",
   "execution_count": 122,
   "metadata": {
    "collapsed": true
   },
   "outputs": [],
   "source": [
    "y_pred = gboost.predict(X_test)\n",
    "gboost_accuracy = accuracy_score(y_test, y_pred)"
   ]
  },
  {
   "cell_type": "code",
   "execution_count": 124,
   "metadata": {
    "collapsed": false
   },
   "outputs": [
    {
     "data": {
      "text/html": [
       "<div>\n",
       "<style>\n",
       "    .dataframe thead tr:only-child th {\n",
       "        text-align: right;\n",
       "    }\n",
       "\n",
       "    .dataframe thead th {\n",
       "        text-align: left;\n",
       "    }\n",
       "\n",
       "    .dataframe tbody tr th {\n",
       "        vertical-align: top;\n",
       "    }\n",
       "</style>\n",
       "<table border=\"1\" class=\"dataframe\">\n",
       "  <thead>\n",
       "    <tr style=\"text-align: right;\">\n",
       "      <th></th>\n",
       "      <th>важность признака</th>\n",
       "    </tr>\n",
       "  </thead>\n",
       "  <tbody>\n",
       "    <tr>\n",
       "      <th>sex</th>\n",
       "      <td>0.231480</td>\n",
       "    </tr>\n",
       "    <tr>\n",
       "      <th>absences</th>\n",
       "      <td>0.208811</td>\n",
       "    </tr>\n",
       "    <tr>\n",
       "      <th>goout</th>\n",
       "      <td>0.115909</td>\n",
       "    </tr>\n",
       "    <tr>\n",
       "      <th>G2</th>\n",
       "      <td>0.094396</td>\n",
       "    </tr>\n",
       "    <tr>\n",
       "      <th>age</th>\n",
       "      <td>0.058842</td>\n",
       "    </tr>\n",
       "    <tr>\n",
       "      <th>G1</th>\n",
       "      <td>0.056551</td>\n",
       "    </tr>\n",
       "    <tr>\n",
       "      <th>famrel</th>\n",
       "      <td>0.041721</td>\n",
       "    </tr>\n",
       "    <tr>\n",
       "      <th>reason_other</th>\n",
       "      <td>0.037560</td>\n",
       "    </tr>\n",
       "    <tr>\n",
       "      <th>Mjob_services</th>\n",
       "      <td>0.023388</td>\n",
       "    </tr>\n",
       "    <tr>\n",
       "      <th>Fjob_health</th>\n",
       "      <td>0.023132</td>\n",
       "    </tr>\n",
       "    <tr>\n",
       "      <th>studytime</th>\n",
       "      <td>0.022808</td>\n",
       "    </tr>\n",
       "    <tr>\n",
       "      <th>paid</th>\n",
       "      <td>0.022619</td>\n",
       "    </tr>\n",
       "    <tr>\n",
       "      <th>Fjob_services</th>\n",
       "      <td>0.015667</td>\n",
       "    </tr>\n",
       "    <tr>\n",
       "      <th>guardian_other</th>\n",
       "      <td>0.015016</td>\n",
       "    </tr>\n",
       "  </tbody>\n",
       "</table>\n",
       "</div>"
      ],
      "text/plain": [
       "                важность признака\n",
       "sex                      0.231480\n",
       "absences                 0.208811\n",
       "goout                    0.115909\n",
       "G2                       0.094396\n",
       "age                      0.058842\n",
       "G1                       0.056551\n",
       "famrel                   0.041721\n",
       "reason_other             0.037560\n",
       "Mjob_services            0.023388\n",
       "Fjob_health              0.023132\n",
       "studytime                0.022808\n",
       "paid                     0.022619\n",
       "Fjob_services            0.015667\n",
       "guardian_other           0.015016"
      ]
     },
     "execution_count": 124,
     "metadata": {},
     "output_type": "execute_result"
    }
   ],
   "source": [
    "gboost_fimp = gboost_best_est.feature_importances_\n",
    "df_fimp_3 = pd.DataFrame(gboost_fimp, columns=['важность признака'], index=df1.columns)\n",
    "df_fimp_3_sorted = df_fimp_3.sort_values('важность признака', ascending=False).head(14)\n",
    "df_fimp_3_sorted"
   ]
  },
  {
   "cell_type": "code",
   "execution_count": 230,
   "metadata": {
    "collapsed": false
   },
   "outputs": [
    {
     "data": {
      "text/html": [
       "<div>\n",
       "<style>\n",
       "    .dataframe thead tr:only-child th {\n",
       "        text-align: right;\n",
       "    }\n",
       "\n",
       "    .dataframe thead th {\n",
       "        text-align: left;\n",
       "    }\n",
       "\n",
       "    .dataframe tbody tr th {\n",
       "        vertical-align: top;\n",
       "    }\n",
       "</style>\n",
       "<table border=\"1\" class=\"dataframe\">\n",
       "  <thead>\n",
       "    <tr style=\"text-align: right;\">\n",
       "      <th></th>\n",
       "      <th>mean_fit_time</th>\n",
       "      <th>mean_score_time</th>\n",
       "      <th>mean_test_score</th>\n",
       "      <th>mean_train_score</th>\n",
       "      <th>param_max_depth</th>\n",
       "      <th>param_n_estimators</th>\n",
       "      <th>param_subsample</th>\n",
       "      <th>params</th>\n",
       "      <th>rank_test_score</th>\n",
       "      <th>split0_test_score</th>\n",
       "      <th>...</th>\n",
       "      <th>split7_test_score</th>\n",
       "      <th>split7_train_score</th>\n",
       "      <th>split8_test_score</th>\n",
       "      <th>split8_train_score</th>\n",
       "      <th>split9_test_score</th>\n",
       "      <th>split9_train_score</th>\n",
       "      <th>std_fit_time</th>\n",
       "      <th>std_score_time</th>\n",
       "      <th>std_test_score</th>\n",
       "      <th>std_train_score</th>\n",
       "    </tr>\n",
       "  </thead>\n",
       "  <tbody>\n",
       "    <tr>\n",
       "      <th>26</th>\n",
       "      <td>0.022909</td>\n",
       "      <td>0.000747</td>\n",
       "      <td>0.882466</td>\n",
       "      <td>0.884956</td>\n",
       "      <td>2</td>\n",
       "      <td>21</td>\n",
       "      <td>1</td>\n",
       "      <td>{'max_depth': 2, 'n_estimators': 21, 'subsampl...</td>\n",
       "      <td>1</td>\n",
       "      <td>0.863636</td>\n",
       "      <td>...</td>\n",
       "      <td>0.857143</td>\n",
       "      <td>0.887550</td>\n",
       "      <td>0.904762</td>\n",
       "      <td>0.879518</td>\n",
       "      <td>0.904762</td>\n",
       "      <td>0.877510</td>\n",
       "      <td>0.002236</td>\n",
       "      <td>0.000202</td>\n",
       "      <td>0.025877</td>\n",
       "      <td>0.003014</td>\n",
       "    </tr>\n",
       "    <tr>\n",
       "      <th>11</th>\n",
       "      <td>0.068064</td>\n",
       "      <td>0.000921</td>\n",
       "      <td>0.880539</td>\n",
       "      <td>0.887686</td>\n",
       "      <td>1</td>\n",
       "      <td>100</td>\n",
       "      <td>1</td>\n",
       "      <td>{'max_depth': 1, 'n_estimators': 100, 'subsamp...</td>\n",
       "      <td>2</td>\n",
       "      <td>0.863636</td>\n",
       "      <td>...</td>\n",
       "      <td>0.857143</td>\n",
       "      <td>0.887550</td>\n",
       "      <td>0.904762</td>\n",
       "      <td>0.885542</td>\n",
       "      <td>0.904762</td>\n",
       "      <td>0.885542</td>\n",
       "      <td>0.023286</td>\n",
       "      <td>0.000299</td>\n",
       "      <td>0.031688</td>\n",
       "      <td>0.002297</td>\n",
       "    </tr>\n",
       "    <tr>\n",
       "      <th>29</th>\n",
       "      <td>0.051553</td>\n",
       "      <td>0.000896</td>\n",
       "      <td>0.878613</td>\n",
       "      <td>0.902217</td>\n",
       "      <td>2</td>\n",
       "      <td>46</td>\n",
       "      <td>1</td>\n",
       "      <td>{'max_depth': 2, 'n_estimators': 46, 'subsampl...</td>\n",
       "      <td>3</td>\n",
       "      <td>0.863636</td>\n",
       "      <td>...</td>\n",
       "      <td>0.857143</td>\n",
       "      <td>0.905622</td>\n",
       "      <td>0.904762</td>\n",
       "      <td>0.895582</td>\n",
       "      <td>0.904762</td>\n",
       "      <td>0.899598</td>\n",
       "      <td>0.005148</td>\n",
       "      <td>0.000292</td>\n",
       "      <td>0.025856</td>\n",
       "      <td>0.003206</td>\n",
       "    </tr>\n",
       "    <tr>\n",
       "      <th>8</th>\n",
       "      <td>0.072452</td>\n",
       "      <td>0.001230</td>\n",
       "      <td>0.876686</td>\n",
       "      <td>0.880862</td>\n",
       "      <td>1</td>\n",
       "      <td>46</td>\n",
       "      <td>1</td>\n",
       "      <td>{'max_depth': 1, 'n_estimators': 46, 'subsampl...</td>\n",
       "      <td>4</td>\n",
       "      <td>0.818182</td>\n",
       "      <td>...</td>\n",
       "      <td>0.857143</td>\n",
       "      <td>0.877510</td>\n",
       "      <td>0.904762</td>\n",
       "      <td>0.877510</td>\n",
       "      <td>0.857143</td>\n",
       "      <td>0.879518</td>\n",
       "      <td>0.045745</td>\n",
       "      <td>0.000480</td>\n",
       "      <td>0.028057</td>\n",
       "      <td>0.002467</td>\n",
       "    </tr>\n",
       "    <tr>\n",
       "      <th>44</th>\n",
       "      <td>0.029943</td>\n",
       "      <td>0.000761</td>\n",
       "      <td>0.876686</td>\n",
       "      <td>0.902538</td>\n",
       "      <td>4</td>\n",
       "      <td>10</td>\n",
       "      <td>1</td>\n",
       "      <td>{'max_depth': 4, 'n_estimators': 10, 'subsampl...</td>\n",
       "      <td>4</td>\n",
       "      <td>0.863636</td>\n",
       "      <td>...</td>\n",
       "      <td>0.857143</td>\n",
       "      <td>0.903614</td>\n",
       "      <td>0.904762</td>\n",
       "      <td>0.895582</td>\n",
       "      <td>0.904762</td>\n",
       "      <td>0.895582</td>\n",
       "      <td>0.002730</td>\n",
       "      <td>0.000184</td>\n",
       "      <td>0.028971</td>\n",
       "      <td>0.003795</td>\n",
       "    </tr>\n",
       "  </tbody>\n",
       "</table>\n",
       "<p>5 rows × 63 columns</p>\n",
       "</div>"
      ],
      "text/plain": [
       "    mean_fit_time  mean_score_time  mean_test_score  mean_train_score  \\\n",
       "26       0.022909         0.000747         0.882466          0.884956   \n",
       "11       0.068064         0.000921         0.880539          0.887686   \n",
       "29       0.051553         0.000896         0.878613          0.902217   \n",
       "8        0.072452         0.001230         0.876686          0.880862   \n",
       "44       0.029943         0.000761         0.876686          0.902538   \n",
       "\n",
       "   param_max_depth param_n_estimators param_subsample  \\\n",
       "26               2                 21               1   \n",
       "11               1                100               1   \n",
       "29               2                 46               1   \n",
       "8                1                 46               1   \n",
       "44               4                 10               1   \n",
       "\n",
       "                                               params  rank_test_score  \\\n",
       "26  {'max_depth': 2, 'n_estimators': 21, 'subsampl...                1   \n",
       "11  {'max_depth': 1, 'n_estimators': 100, 'subsamp...                2   \n",
       "29  {'max_depth': 2, 'n_estimators': 46, 'subsampl...                3   \n",
       "8   {'max_depth': 1, 'n_estimators': 46, 'subsampl...                4   \n",
       "44  {'max_depth': 4, 'n_estimators': 10, 'subsampl...                4   \n",
       "\n",
       "    split0_test_score       ...         split7_test_score  split7_train_score  \\\n",
       "26           0.863636       ...                  0.857143            0.887550   \n",
       "11           0.863636       ...                  0.857143            0.887550   \n",
       "29           0.863636       ...                  0.857143            0.905622   \n",
       "8            0.818182       ...                  0.857143            0.877510   \n",
       "44           0.863636       ...                  0.857143            0.903614   \n",
       "\n",
       "    split8_test_score  split8_train_score  split9_test_score  \\\n",
       "26           0.904762            0.879518           0.904762   \n",
       "11           0.904762            0.885542           0.904762   \n",
       "29           0.904762            0.895582           0.904762   \n",
       "8            0.904762            0.877510           0.857143   \n",
       "44           0.904762            0.895582           0.904762   \n",
       "\n",
       "    split9_train_score  std_fit_time  std_score_time  std_test_score  \\\n",
       "26            0.877510      0.002236        0.000202        0.025877   \n",
       "11            0.885542      0.023286        0.000299        0.031688   \n",
       "29            0.899598      0.005148        0.000292        0.025856   \n",
       "8             0.879518      0.045745        0.000480        0.028057   \n",
       "44            0.895582      0.002730        0.000184        0.028971   \n",
       "\n",
       "    std_train_score  \n",
       "26         0.003014  \n",
       "11         0.002297  \n",
       "29         0.003206  \n",
       "8          0.002467  \n",
       "44         0.003795  \n",
       "\n",
       "[5 rows x 63 columns]"
      ]
     },
     "execution_count": 230,
     "metadata": {},
     "output_type": "execute_result"
    }
   ],
   "source": [
    "results_2 = pd.DataFrame(gboost.cv_results_)\n",
    "results_2.sort_values(['mean_test_score', 'rank_test_score'], ascending=False).head()"
   ]
  },
  {
   "cell_type": "code",
   "execution_count": 235,
   "metadata": {
    "collapsed": false
   },
   "outputs": [
    {
     "data": {
      "text/plain": [
       "[array([{'max_depth': 2, 'n_estimators': 21, 'subsample': 1.0}], dtype=object),\n",
       " array([{'max_depth': 1, 'n_estimators': 100, 'subsample': 1.0}], dtype=object),\n",
       " array([{'max_depth': 2, 'n_estimators': 46, 'subsample': 1.0}], dtype=object),\n",
       " array([{'max_depth': 1, 'n_estimators': 46, 'subsample': 1.0}], dtype=object),\n",
       " array([{'max_depth': 4, 'n_estimators': 10, 'subsample': 1.0}], dtype=object)]"
      ]
     },
     "execution_count": 235,
     "metadata": {},
     "output_type": "execute_result"
    }
   ],
   "source": [
    "lines = [26, 11, 29, 8, 44]\n",
    "best_five_params(lines=lines, df=results_2)"
   ]
  },
  {
   "cell_type": "code",
   "execution_count": 247,
   "metadata": {
    "collapsed": false
   },
   "outputs": [
    {
     "name": "stdout",
     "output_type": "stream",
     "text": [
      "0.930769230769\n"
     ]
    }
   ],
   "source": [
    "gbc = GradientBoostingClassifier\n",
    "five_models(gbc(max_depth=2, n_estimators=21, subsample=1.0))"
   ]
  },
  {
   "cell_type": "code",
   "execution_count": 248,
   "metadata": {
    "collapsed": false
   },
   "outputs": [
    {
     "name": "stdout",
     "output_type": "stream",
     "text": [
      "0.930769230769\n"
     ]
    }
   ],
   "source": [
    "five_models(gbc(max_depth=1, n_estimators=100, subsample=1.0))"
   ]
  },
  {
   "cell_type": "code",
   "execution_count": 249,
   "metadata": {
    "collapsed": false
   },
   "outputs": [
    {
     "name": "stdout",
     "output_type": "stream",
     "text": [
      "0.946153846154\n"
     ]
    }
   ],
   "source": [
    "five_models(gbc(max_depth=2, n_estimators=46, subsample=1.0))"
   ]
  },
  {
   "cell_type": "code",
   "execution_count": 250,
   "metadata": {
    "collapsed": false
   },
   "outputs": [
    {
     "name": "stdout",
     "output_type": "stream",
     "text": [
      "0.938461538462\n"
     ]
    }
   ],
   "source": [
    "five_models(gbc(max_depth=1, n_estimators=46, subsample=1.0))"
   ]
  },
  {
   "cell_type": "code",
   "execution_count": 251,
   "metadata": {
    "collapsed": false
   },
   "outputs": [
    {
     "name": "stdout",
     "output_type": "stream",
     "text": [
      "0.930769230769\n"
     ]
    }
   ],
   "source": [
    "five_models(gbc(max_depth=4, n_estimators=10, subsample=1.0))"
   ]
  },
  {
   "cell_type": "markdown",
   "metadata": {},
   "source": [
    "### 4. Обучаем AdaBoost"
   ]
  },
  {
   "cell_type": "markdown",
   "metadata": {},
   "source": [
    "4. AdaBoost (1 балл)\n",
    "    * Обучите [AdaBoostClassifier](http://scikit-learn.org/stable/modules/generated/sklearn.ensemble.AdaBoostClassifier.html) и найдите для него наилучшие параметры с помощью кросс-валидации. (0.5 балла)<br\\>\n",
    "    * Укажите значение accuracy для пяти наилучших настроек метода. (0.5 балла)<br\\>"
   ]
  },
  {
   "cell_type": "code",
   "execution_count": 125,
   "metadata": {
    "collapsed": false
   },
   "outputs": [
    {
     "data": {
      "text/plain": [
       "({'algorithm': 'SAMME',\n",
       "  'learning_rate': 0.10000000000000001,\n",
       "  'n_estimators': 10},\n",
       " 0.87090558766859349)"
      ]
     },
     "execution_count": 125,
     "metadata": {},
     "output_type": "execute_result"
    }
   ],
   "source": [
    "adaboost = AdaBoostClassifier(random_state=RANDOM_SEED)\n",
    "\n",
    "adaboost_params = {'n_estimators': np.logspace(1, 3, 7, dtype=int),\n",
    "                   'learning_rate': np.logspace(-1, 0, 7, dtype=float),\n",
    "                   'algorithm': ['SAMME', 'SAMME.R']}\n",
    "\n",
    "adaboost_grid = GridSearchCV(adaboost, adaboost_params, scoring=make_scorer(accuracy_score), cv=25)\n",
    "\n",
    "adaboost = adaboost_grid.fit(X_new_train, y_new_train)\n",
    "\n",
    "adaboost_grid.best_params_, adaboost_grid.best_score_"
   ]
  },
  {
   "cell_type": "code",
   "execution_count": 126,
   "metadata": {
    "collapsed": false
   },
   "outputs": [
    {
     "data": {
      "text/plain": [
       "{'algorithm': 'SAMME',\n",
       " 'base_estimator': None,\n",
       " 'learning_rate': 0.10000000000000001,\n",
       " 'n_estimators': 10,\n",
       " 'random_state': 42}"
      ]
     },
     "execution_count": 126,
     "metadata": {},
     "output_type": "execute_result"
    }
   ],
   "source": [
    "adaboost_best_est = adaboost.best_estimator_\n",
    "adaboost_best_est.get_params()"
   ]
  },
  {
   "cell_type": "code",
   "execution_count": 128,
   "metadata": {
    "collapsed": false
   },
   "outputs": [
    {
     "data": {
      "text/plain": [
       "((130, 44), (130,), (130,))"
      ]
     },
     "execution_count": 128,
     "metadata": {},
     "output_type": "execute_result"
    }
   ],
   "source": [
    "X_test.shape, y_test.shape, y_pred.shape"
   ]
  },
  {
   "cell_type": "markdown",
   "metadata": {},
   "source": [
    "Я облажалась и обучила адабуст на датасете с удаленными важными признакам -_-\n",
    "\n",
    "Пока запущу с тем, что есть, потом мб поменяю"
   ]
  },
  {
   "cell_type": "code",
   "execution_count": 131,
   "metadata": {
    "collapsed": false
   },
   "outputs": [
    {
     "data": {
      "text/plain": [
       "0.93846153846153846"
      ]
     },
     "execution_count": 131,
     "metadata": {},
     "output_type": "execute_result"
    }
   ],
   "source": [
    "y_pred = adaboost.predict(X_new_test)\n",
    "adaboost_accuracy = accuracy_score(y_new_test, y_pred)\n",
    "adaboost_accuracy"
   ]
  },
  {
   "cell_type": "code",
   "execution_count": 133,
   "metadata": {
    "collapsed": false
   },
   "outputs": [
    {
     "data": {
      "text/html": [
       "<div>\n",
       "<style>\n",
       "    .dataframe thead tr:only-child th {\n",
       "        text-align: right;\n",
       "    }\n",
       "\n",
       "    .dataframe thead th {\n",
       "        text-align: left;\n",
       "    }\n",
       "\n",
       "    .dataframe tbody tr th {\n",
       "        vertical-align: top;\n",
       "    }\n",
       "</style>\n",
       "<table border=\"1\" class=\"dataframe\">\n",
       "  <thead>\n",
       "    <tr style=\"text-align: right;\">\n",
       "      <th></th>\n",
       "      <th>важность признака</th>\n",
       "    </tr>\n",
       "  </thead>\n",
       "  <tbody>\n",
       "    <tr>\n",
       "      <th>sex</th>\n",
       "      <td>1.0</td>\n",
       "    </tr>\n",
       "    <tr>\n",
       "      <th>school</th>\n",
       "      <td>0.0</td>\n",
       "    </tr>\n",
       "    <tr>\n",
       "      <th>absences</th>\n",
       "      <td>0.0</td>\n",
       "    </tr>\n",
       "    <tr>\n",
       "      <th>Mjob_at_home</th>\n",
       "      <td>0.0</td>\n",
       "    </tr>\n",
       "    <tr>\n",
       "      <th>Mjob_health</th>\n",
       "      <td>0.0</td>\n",
       "    </tr>\n",
       "    <tr>\n",
       "      <th>Mjob_other</th>\n",
       "      <td>0.0</td>\n",
       "    </tr>\n",
       "    <tr>\n",
       "      <th>Mjob_services</th>\n",
       "      <td>0.0</td>\n",
       "    </tr>\n",
       "    <tr>\n",
       "      <th>Mjob_teacher</th>\n",
       "      <td>0.0</td>\n",
       "    </tr>\n",
       "    <tr>\n",
       "      <th>Fjob_at_home</th>\n",
       "      <td>0.0</td>\n",
       "    </tr>\n",
       "    <tr>\n",
       "      <th>Fjob_health</th>\n",
       "      <td>0.0</td>\n",
       "    </tr>\n",
       "    <tr>\n",
       "      <th>Fjob_other</th>\n",
       "      <td>0.0</td>\n",
       "    </tr>\n",
       "    <tr>\n",
       "      <th>Fjob_services</th>\n",
       "      <td>0.0</td>\n",
       "    </tr>\n",
       "    <tr>\n",
       "      <th>Fjob_teacher</th>\n",
       "      <td>0.0</td>\n",
       "    </tr>\n",
       "    <tr>\n",
       "      <th>reason_course</th>\n",
       "      <td>0.0</td>\n",
       "    </tr>\n",
       "  </tbody>\n",
       "</table>\n",
       "</div>"
      ],
      "text/plain": [
       "               важность признака\n",
       "sex                          1.0\n",
       "school                       0.0\n",
       "absences                     0.0\n",
       "Mjob_at_home                 0.0\n",
       "Mjob_health                  0.0\n",
       "Mjob_other                   0.0\n",
       "Mjob_services                0.0\n",
       "Mjob_teacher                 0.0\n",
       "Fjob_at_home                 0.0\n",
       "Fjob_health                  0.0\n",
       "Fjob_other                   0.0\n",
       "Fjob_services                0.0\n",
       "Fjob_teacher                 0.0\n",
       "reason_course                0.0"
      ]
     },
     "execution_count": 133,
     "metadata": {},
     "output_type": "execute_result"
    }
   ],
   "source": [
    "adaboost_fimp = adaboost_best_est.feature_importances_\n",
    "df_fimp_4 = pd.DataFrame(adaboost_fimp, columns=['важность признака'], index=df2.columns)\n",
    "df_fimp_4_sorted = df_fimp_4.sort_values('важность признака', ascending=False).head(14)\n",
    "df_fimp_4_sorted"
   ]
  },
  {
   "cell_type": "markdown",
   "metadata": {},
   "source": [
    "Ого. Влияет только пол?!"
   ]
  },
  {
   "cell_type": "code",
   "execution_count": 134,
   "metadata": {
    "collapsed": false
   },
   "outputs": [
    {
     "data": {
      "text/plain": [
       "({'algorithm': 'SAMME',\n",
       "  'learning_rate': 0.10000000000000001,\n",
       "  'n_estimators': 464},\n",
       " 0.87861271676300579)"
      ]
     },
     "execution_count": 134,
     "metadata": {},
     "output_type": "execute_result"
    }
   ],
   "source": [
    "adaboost = AdaBoostClassifier(random_state=RANDOM_SEED)\n",
    "\n",
    "adaboost_params = {'n_estimators': np.logspace(1, 3, 7, dtype=int),\n",
    "                   'learning_rate': np.logspace(-1, 0, 7, dtype=float),\n",
    "                   'algorithm': ['SAMME', 'SAMME.R']}\n",
    "\n",
    "adaboost_grid = GridSearchCV(adaboost, adaboost_params, scoring=make_scorer(accuracy_score), cv=25)\n",
    "\n",
    "adaboost = adaboost_grid.fit(X_train, y_train)\n",
    "\n",
    "adaboost_grid.best_params_, adaboost_grid.best_score_"
   ]
  },
  {
   "cell_type": "code",
   "execution_count": 135,
   "metadata": {
    "collapsed": false
   },
   "outputs": [
    {
     "data": {
      "text/plain": [
       "{'algorithm': 'SAMME',\n",
       " 'base_estimator': None,\n",
       " 'learning_rate': 0.10000000000000001,\n",
       " 'n_estimators': 464,\n",
       " 'random_state': 42}"
      ]
     },
     "execution_count": 135,
     "metadata": {},
     "output_type": "execute_result"
    }
   ],
   "source": [
    "adaboost_best_est = adaboost.best_estimator_\n",
    "adaboost_best_est.get_params()"
   ]
  },
  {
   "cell_type": "code",
   "execution_count": 136,
   "metadata": {
    "collapsed": false
   },
   "outputs": [
    {
     "data": {
      "text/plain": [
       "0.93846153846153846"
      ]
     },
     "execution_count": 136,
     "metadata": {},
     "output_type": "execute_result"
    }
   ],
   "source": [
    "y_pred = adaboost.predict(X_test)\n",
    "adaboost_accuracy = accuracy_score(y_test, y_pred)\n",
    "adaboost_accuracy"
   ]
  },
  {
   "cell_type": "code",
   "execution_count": 137,
   "metadata": {
    "collapsed": false
   },
   "outputs": [
    {
     "data": {
      "text/html": [
       "<div>\n",
       "<style>\n",
       "    .dataframe thead tr:only-child th {\n",
       "        text-align: right;\n",
       "    }\n",
       "\n",
       "    .dataframe thead th {\n",
       "        text-align: left;\n",
       "    }\n",
       "\n",
       "    .dataframe tbody tr th {\n",
       "        vertical-align: top;\n",
       "    }\n",
       "</style>\n",
       "<table border=\"1\" class=\"dataframe\">\n",
       "  <thead>\n",
       "    <tr style=\"text-align: right;\">\n",
       "      <th></th>\n",
       "      <th>важность признака</th>\n",
       "    </tr>\n",
       "  </thead>\n",
       "  <tbody>\n",
       "    <tr>\n",
       "      <th>sex</th>\n",
       "      <td>0.309702</td>\n",
       "    </tr>\n",
       "    <tr>\n",
       "      <th>absences</th>\n",
       "      <td>0.166815</td>\n",
       "    </tr>\n",
       "    <tr>\n",
       "      <th>G1</th>\n",
       "      <td>0.106437</td>\n",
       "    </tr>\n",
       "    <tr>\n",
       "      <th>G2</th>\n",
       "      <td>0.099670</td>\n",
       "    </tr>\n",
       "    <tr>\n",
       "      <th>famrel</th>\n",
       "      <td>0.080508</td>\n",
       "    </tr>\n",
       "    <tr>\n",
       "      <th>goout</th>\n",
       "      <td>0.035995</td>\n",
       "    </tr>\n",
       "    <tr>\n",
       "      <th>reason_other</th>\n",
       "      <td>0.028164</td>\n",
       "    </tr>\n",
       "    <tr>\n",
       "      <th>age</th>\n",
       "      <td>0.025770</td>\n",
       "    </tr>\n",
       "    <tr>\n",
       "      <th>Fjob_services</th>\n",
       "      <td>0.023456</td>\n",
       "    </tr>\n",
       "    <tr>\n",
       "      <th>Mjob_health</th>\n",
       "      <td>0.022613</td>\n",
       "    </tr>\n",
       "    <tr>\n",
       "      <th>freetime</th>\n",
       "      <td>0.021588</td>\n",
       "    </tr>\n",
       "    <tr>\n",
       "      <th>studytime</th>\n",
       "      <td>0.018425</td>\n",
       "    </tr>\n",
       "    <tr>\n",
       "      <th>address</th>\n",
       "      <td>0.012982</td>\n",
       "    </tr>\n",
       "    <tr>\n",
       "      <th>famsize</th>\n",
       "      <td>0.011241</td>\n",
       "    </tr>\n",
       "  </tbody>\n",
       "</table>\n",
       "</div>"
      ],
      "text/plain": [
       "               важность признака\n",
       "sex                     0.309702\n",
       "absences                0.166815\n",
       "G1                      0.106437\n",
       "G2                      0.099670\n",
       "famrel                  0.080508\n",
       "goout                   0.035995\n",
       "reason_other            0.028164\n",
       "age                     0.025770\n",
       "Fjob_services           0.023456\n",
       "Mjob_health             0.022613\n",
       "freetime                0.021588\n",
       "studytime               0.018425\n",
       "address                 0.012982\n",
       "famsize                 0.011241"
      ]
     },
     "execution_count": 137,
     "metadata": {},
     "output_type": "execute_result"
    }
   ],
   "source": [
    "adaboost_fimp = adaboost_best_est.feature_importances_\n",
    "df_fimp_4 = pd.DataFrame(adaboost_fimp, columns=['важность признака'], index=df1.columns)\n",
    "df_fimp_4_sorted = df_fimp_4.sort_values('важность признака', ascending=False).head(14)\n",
    "df_fimp_4_sorted"
   ]
  },
  {
   "cell_type": "code",
   "execution_count": 159,
   "metadata": {
    "collapsed": true
   },
   "outputs": [],
   "source": [
    "a = [1, 2, 3, 4, 5, 3, 2]"
   ]
  },
  {
   "cell_type": "code",
   "execution_count": 160,
   "metadata": {
    "collapsed": false
   },
   "outputs": [],
   "source": [
    "a.sort()"
   ]
  },
  {
   "cell_type": "code",
   "execution_count": 161,
   "metadata": {
    "collapsed": false
   },
   "outputs": [
    {
     "data": {
      "text/plain": [
       "[1, 2, 2, 3, 3, 4, 5]"
      ]
     },
     "execution_count": 161,
     "metadata": {},
     "output_type": "execute_result"
    }
   ],
   "source": [
    "a"
   ]
  },
  {
   "cell_type": "code",
   "execution_count": 252,
   "metadata": {
    "collapsed": false
   },
   "outputs": [
    {
     "data": {
      "text/html": [
       "<div>\n",
       "<style>\n",
       "    .dataframe thead tr:only-child th {\n",
       "        text-align: right;\n",
       "    }\n",
       "\n",
       "    .dataframe thead th {\n",
       "        text-align: left;\n",
       "    }\n",
       "\n",
       "    .dataframe tbody tr th {\n",
       "        vertical-align: top;\n",
       "    }\n",
       "</style>\n",
       "<table border=\"1\" class=\"dataframe\">\n",
       "  <thead>\n",
       "    <tr style=\"text-align: right;\">\n",
       "      <th></th>\n",
       "      <th>mean_fit_time</th>\n",
       "      <th>mean_score_time</th>\n",
       "      <th>mean_test_score</th>\n",
       "      <th>mean_train_score</th>\n",
       "      <th>param_algorithm</th>\n",
       "      <th>param_learning_rate</th>\n",
       "      <th>param_n_estimators</th>\n",
       "      <th>params</th>\n",
       "      <th>rank_test_score</th>\n",
       "      <th>split0_test_score</th>\n",
       "      <th>...</th>\n",
       "      <th>split7_test_score</th>\n",
       "      <th>split7_train_score</th>\n",
       "      <th>split8_test_score</th>\n",
       "      <th>split8_train_score</th>\n",
       "      <th>split9_test_score</th>\n",
       "      <th>split9_train_score</th>\n",
       "      <th>std_fit_time</th>\n",
       "      <th>std_score_time</th>\n",
       "      <th>std_test_score</th>\n",
       "      <th>std_train_score</th>\n",
       "    </tr>\n",
       "  </thead>\n",
       "  <tbody>\n",
       "    <tr>\n",
       "      <th>5</th>\n",
       "      <td>1.165530</td>\n",
       "      <td>0.048387</td>\n",
       "      <td>0.878613</td>\n",
       "      <td>0.881343</td>\n",
       "      <td>SAMME</td>\n",
       "      <td>0.1</td>\n",
       "      <td>464</td>\n",
       "      <td>{'algorithm': 'SAMME', 'learning_rate': 0.1, '...</td>\n",
       "      <td>1</td>\n",
       "      <td>0.863636</td>\n",
       "      <td>...</td>\n",
       "      <td>0.857143</td>\n",
       "      <td>0.881526</td>\n",
       "      <td>0.857143</td>\n",
       "      <td>0.879518</td>\n",
       "      <td>0.904762</td>\n",
       "      <td>0.877510</td>\n",
       "      <td>0.208980</td>\n",
       "      <td>0.011218</td>\n",
       "      <td>0.031605</td>\n",
       "      <td>0.002752</td>\n",
       "    </tr>\n",
       "    <tr>\n",
       "      <th>11</th>\n",
       "      <td>0.467914</td>\n",
       "      <td>0.020686</td>\n",
       "      <td>0.878613</td>\n",
       "      <td>0.880942</td>\n",
       "      <td>SAMME</td>\n",
       "      <td>0.14678</td>\n",
       "      <td>215</td>\n",
       "      <td>{'algorithm': 'SAMME', 'learning_rate': 0.1467...</td>\n",
       "      <td>1</td>\n",
       "      <td>0.863636</td>\n",
       "      <td>...</td>\n",
       "      <td>0.857143</td>\n",
       "      <td>0.881526</td>\n",
       "      <td>0.857143</td>\n",
       "      <td>0.879518</td>\n",
       "      <td>0.904762</td>\n",
       "      <td>0.877510</td>\n",
       "      <td>0.025229</td>\n",
       "      <td>0.001708</td>\n",
       "      <td>0.031605</td>\n",
       "      <td>0.002274</td>\n",
       "    </tr>\n",
       "    <tr>\n",
       "      <th>24</th>\n",
       "      <td>0.226412</td>\n",
       "      <td>0.010416</td>\n",
       "      <td>0.878613</td>\n",
       "      <td>0.881505</td>\n",
       "      <td>SAMME</td>\n",
       "      <td>0.316228</td>\n",
       "      <td>100</td>\n",
       "      <td>{'algorithm': 'SAMME', 'learning_rate': 0.3162...</td>\n",
       "      <td>1</td>\n",
       "      <td>0.863636</td>\n",
       "      <td>...</td>\n",
       "      <td>0.857143</td>\n",
       "      <td>0.881526</td>\n",
       "      <td>0.857143</td>\n",
       "      <td>0.881526</td>\n",
       "      <td>0.904762</td>\n",
       "      <td>0.877510</td>\n",
       "      <td>0.019748</td>\n",
       "      <td>0.001274</td>\n",
       "      <td>0.031605</td>\n",
       "      <td>0.003212</td>\n",
       "    </tr>\n",
       "    <tr>\n",
       "      <th>18</th>\n",
       "      <td>0.492233</td>\n",
       "      <td>0.022345</td>\n",
       "      <td>0.876686</td>\n",
       "      <td>0.881664</td>\n",
       "      <td>SAMME</td>\n",
       "      <td>0.215443</td>\n",
       "      <td>215</td>\n",
       "      <td>{'algorithm': 'SAMME', 'learning_rate': 0.2154...</td>\n",
       "      <td>4</td>\n",
       "      <td>0.863636</td>\n",
       "      <td>...</td>\n",
       "      <td>0.857143</td>\n",
       "      <td>0.879518</td>\n",
       "      <td>0.857143</td>\n",
       "      <td>0.879518</td>\n",
       "      <td>0.857143</td>\n",
       "      <td>0.877510</td>\n",
       "      <td>0.069533</td>\n",
       "      <td>0.006886</td>\n",
       "      <td>0.031403</td>\n",
       "      <td>0.002702</td>\n",
       "    </tr>\n",
       "    <tr>\n",
       "      <th>25</th>\n",
       "      <td>0.433914</td>\n",
       "      <td>0.020164</td>\n",
       "      <td>0.876686</td>\n",
       "      <td>0.881424</td>\n",
       "      <td>SAMME</td>\n",
       "      <td>0.316228</td>\n",
       "      <td>215</td>\n",
       "      <td>{'algorithm': 'SAMME', 'learning_rate': 0.3162...</td>\n",
       "      <td>4</td>\n",
       "      <td>0.863636</td>\n",
       "      <td>...</td>\n",
       "      <td>0.857143</td>\n",
       "      <td>0.879518</td>\n",
       "      <td>0.857143</td>\n",
       "      <td>0.875502</td>\n",
       "      <td>0.857143</td>\n",
       "      <td>0.881526</td>\n",
       "      <td>0.009297</td>\n",
       "      <td>0.001727</td>\n",
       "      <td>0.032092</td>\n",
       "      <td>0.003873</td>\n",
       "    </tr>\n",
       "  </tbody>\n",
       "</table>\n",
       "<p>5 rows × 63 columns</p>\n",
       "</div>"
      ],
      "text/plain": [
       "    mean_fit_time  mean_score_time  mean_test_score  mean_train_score  \\\n",
       "5        1.165530         0.048387         0.878613          0.881343   \n",
       "11       0.467914         0.020686         0.878613          0.880942   \n",
       "24       0.226412         0.010416         0.878613          0.881505   \n",
       "18       0.492233         0.022345         0.876686          0.881664   \n",
       "25       0.433914         0.020164         0.876686          0.881424   \n",
       "\n",
       "   param_algorithm param_learning_rate param_n_estimators  \\\n",
       "5            SAMME                 0.1                464   \n",
       "11           SAMME             0.14678                215   \n",
       "24           SAMME            0.316228                100   \n",
       "18           SAMME            0.215443                215   \n",
       "25           SAMME            0.316228                215   \n",
       "\n",
       "                                               params  rank_test_score  \\\n",
       "5   {'algorithm': 'SAMME', 'learning_rate': 0.1, '...                1   \n",
       "11  {'algorithm': 'SAMME', 'learning_rate': 0.1467...                1   \n",
       "24  {'algorithm': 'SAMME', 'learning_rate': 0.3162...                1   \n",
       "18  {'algorithm': 'SAMME', 'learning_rate': 0.2154...                4   \n",
       "25  {'algorithm': 'SAMME', 'learning_rate': 0.3162...                4   \n",
       "\n",
       "    split0_test_score       ...         split7_test_score  split7_train_score  \\\n",
       "5            0.863636       ...                  0.857143            0.881526   \n",
       "11           0.863636       ...                  0.857143            0.881526   \n",
       "24           0.863636       ...                  0.857143            0.881526   \n",
       "18           0.863636       ...                  0.857143            0.879518   \n",
       "25           0.863636       ...                  0.857143            0.879518   \n",
       "\n",
       "    split8_test_score  split8_train_score  split9_test_score  \\\n",
       "5            0.857143            0.879518           0.904762   \n",
       "11           0.857143            0.879518           0.904762   \n",
       "24           0.857143            0.881526           0.904762   \n",
       "18           0.857143            0.879518           0.857143   \n",
       "25           0.857143            0.875502           0.857143   \n",
       "\n",
       "    split9_train_score  std_fit_time  std_score_time  std_test_score  \\\n",
       "5             0.877510      0.208980        0.011218        0.031605   \n",
       "11            0.877510      0.025229        0.001708        0.031605   \n",
       "24            0.877510      0.019748        0.001274        0.031605   \n",
       "18            0.877510      0.069533        0.006886        0.031403   \n",
       "25            0.881526      0.009297        0.001727        0.032092   \n",
       "\n",
       "    std_train_score  \n",
       "5          0.002752  \n",
       "11         0.002274  \n",
       "24         0.003212  \n",
       "18         0.002702  \n",
       "25         0.003873  \n",
       "\n",
       "[5 rows x 63 columns]"
      ]
     },
     "execution_count": 252,
     "metadata": {},
     "output_type": "execute_result"
    }
   ],
   "source": [
    "results_3 = pd.DataFrame(adaboost.cv_results_)\n",
    "results_3.sort_values(['mean_test_score', 'rank_test_score'], ascending=False).head()"
   ]
  },
  {
   "cell_type": "code",
   "execution_count": 253,
   "metadata": {
    "collapsed": false
   },
   "outputs": [
    {
     "data": {
      "text/plain": [
       "[array([ {'algorithm': 'SAMME', 'learning_rate': 0.31622776601683794, 'n_estimators': 464}], dtype=object),\n",
       " array([ {'algorithm': 'SAMME', 'learning_rate': 0.14677992676220694, 'n_estimators': 215}], dtype=object),\n",
       " array([ {'algorithm': 'SAMME', 'learning_rate': 0.46415888336127786, 'n_estimators': 21}], dtype=object),\n",
       " array([ {'algorithm': 'SAMME', 'learning_rate': 0.14677992676220694, 'n_estimators': 21}], dtype=object),\n",
       " array([{'algorithm': 'SAMME', 'learning_rate': 1.0, 'n_estimators': 46}], dtype=object)]"
      ]
     },
     "execution_count": 253,
     "metadata": {},
     "output_type": "execute_result"
    }
   ],
   "source": [
    "lines = [26, 11, 29, 8, 44]\n",
    "best_five_params(lines=lines, df=results_3)"
   ]
  },
  {
   "cell_type": "code",
   "execution_count": 254,
   "metadata": {
    "collapsed": false
   },
   "outputs": [
    {
     "name": "stdout",
     "output_type": "stream",
     "text": [
      "0.938461538462\n"
     ]
    }
   ],
   "source": [
    "ada = AdaBoostClassifier\n",
    "five_models(ada(algorithm='SAMME', learning_rate=0.31622776601683794, n_estimators=464))"
   ]
  },
  {
   "cell_type": "code",
   "execution_count": 255,
   "metadata": {
    "collapsed": false
   },
   "outputs": [
    {
     "name": "stdout",
     "output_type": "stream",
     "text": [
      "0.938461538462\n"
     ]
    }
   ],
   "source": [
    "five_models(ada(algorithm='SAMME', learning_rate=0.14677992676220694, n_estimators=215))"
   ]
  },
  {
   "cell_type": "code",
   "execution_count": 256,
   "metadata": {
    "collapsed": false
   },
   "outputs": [
    {
     "name": "stdout",
     "output_type": "stream",
     "text": [
      "0.938461538462\n"
     ]
    }
   ],
   "source": [
    "five_models(ada(algorithm='SAMME', learning_rate=0.46415888336127786, n_estimators=21))"
   ]
  },
  {
   "cell_type": "code",
   "execution_count": 257,
   "metadata": {
    "collapsed": false
   },
   "outputs": [
    {
     "name": "stdout",
     "output_type": "stream",
     "text": [
      "0.938461538462\n"
     ]
    }
   ],
   "source": [
    "five_models(ada(algorithm='SAMME', learning_rate=0.14677992676220694, n_estimators=21))"
   ]
  },
  {
   "cell_type": "code",
   "execution_count": 258,
   "metadata": {
    "collapsed": false
   },
   "outputs": [
    {
     "name": "stdout",
     "output_type": "stream",
     "text": [
      "0.930769230769\n"
     ]
    }
   ],
   "source": [
    "five_models(ada(algorithm='SAMME', learning_rate=1.0, n_estimators=46))"
   ]
  },
  {
   "cell_type": "markdown",
   "metadata": {},
   "source": [
    "### 5. Выбираем лучший классификатор"
   ]
  },
  {
   "cell_type": "markdown",
   "metadata": {},
   "source": [
    "5. Какой из классификаторов оказался лучше? (0.5 балла)"
   ]
  },
  {
   "cell_type": "code",
   "execution_count": null,
   "metadata": {
    "collapsed": true
   },
   "outputs": [],
   "source": []
  },
  {
   "cell_type": "code",
   "execution_count": null,
   "metadata": {
    "collapsed": true
   },
   "outputs": [],
   "source": []
  },
  {
   "cell_type": "code",
   "execution_count": null,
   "metadata": {
    "collapsed": true
   },
   "outputs": [],
   "source": []
  },
  {
   "cell_type": "code",
   "execution_count": null,
   "metadata": {
    "collapsed": true
   },
   "outputs": [],
   "source": []
  },
  {
   "cell_type": "code",
   "execution_count": null,
   "metadata": {
    "collapsed": true
   },
   "outputs": [],
   "source": []
  },
  {
   "cell_type": "code",
   "execution_count": null,
   "metadata": {
    "collapsed": true
   },
   "outputs": [],
   "source": []
  }
 ],
 "metadata": {
  "anaconda-cloud": {},
  "kernelspec": {
   "display_name": "Python 3",
   "language": "python",
   "name": "python3"
  },
  "language_info": {
   "codemirror_mode": {
    "name": "ipython",
    "version": 3
   },
   "file_extension": ".py",
   "mimetype": "text/x-python",
   "name": "python",
   "nbconvert_exporter": "python",
   "pygments_lexer": "ipython3",
   "version": "3.6.0"
  },
  "nav_menu": {},
  "toc": {
   "colors": {
    "hover_highlight": "#DAA520",
    "navigate_num": "#000000",
    "navigate_text": "#333333",
    "running_highlight": "#FF0000",
    "selected_highlight": "#FFD700",
    "sidebar_border": "#EEEEEE",
    "wrapper_background": "#FFFFFF"
   },
   "moveMenuLeft": true,
   "nav_menu": {
    "height": "105px",
    "width": "253px"
   },
   "navigate_menu": true,
   "number_sections": false,
   "sideBar": true,
   "threshold": 4,
   "toc_cell": false,
   "toc_section_display": "block",
   "toc_window_display": true,
   "widenNotebook": false
  }
 },
 "nbformat": 4,
 "nbformat_minor": 1
}
