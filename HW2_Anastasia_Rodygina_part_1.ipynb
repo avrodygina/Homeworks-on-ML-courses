{
 "cells": [
  {
   "cell_type": "markdown",
   "metadata": {},
   "source": [
    "# Майнор по Анализу Данных, Группа ИАД-2\n",
    "## Домашнее задание №2: Классификация текстовых данных"
   ]
  },
  {
   "cell_type": "markdown",
   "metadata": {},
   "source": [
    "<hr\\>\n",
    "В задании вы будете решать задачу бинарной классификации текстов. Вы познакомитесь с основными инструментами sklearn, необходимыми для обработки текстов. Перед применением методов sklearn внимательно читайте документацию к ним: это полезно и помогает делать меньше ошибок.\n",
    "\n",
    "**Общая информация**\n",
    "\n",
    "**Срок сдачи:** 1 мая 2017, 9:00 <br\\>\n",
    "\n",
    "При отправлении ДЗ на почту `hse.minor.dm+X@gmail.com`, X = 3 или 4 (ИАД 3 или ИАД4), указывайте фамилию в названии файла, а тему письма оформляйте в следующем виде:<br\\>\n",
    "** [HW2, ИАД-X] Фамилия Имя **<br\\>\n",
    "\n",
    "Сопровождайте ваш код изображеними, комментариями и выводами. <br\\>\n",
    "Имейте ввиду, что на некоторые задачи нет единственного верного и полного ответа. Чем больше информации вы сможете извлечь, аргументированных выводов сформулировать, тем лучше.\n",
    "__Старайтесь не копировать похожие участки кода. Везде, где это возможно, оформляйте код в функцию.__\n",
    "\n",
    "Используйте данный Ipython Notebook при оформлении домашнего задания.\n",
    "<hr\\>"
   ]
  },
  {
   "cell_type": "markdown",
   "metadata": {},
   "source": [
    "<p>Чтобы узнать свой вариант, введите Вашу фамилию на русском языке в соответвующее поле ниже и запустите ячейку:</p>"
   ]
  },
  {
   "cell_type": "code",
   "execution_count": 1,
   "metadata": {},
   "outputs": [
    {
     "name": "stdout",
     "output_type": "stream",
     "text": [
      "Ваш вариант -  2\n"
     ]
    }
   ],
   "source": [
    "name = \"РодыгинаАнастасия\" # Ваши ФамилияИмя\n",
    "\n",
    "alp = 'абвгдеёжзийклмнопрстуфхцчшщъыьэюя'\n",
    "w = [4, 42, 21, 21, 34,  1, 44, 26, 18, 43, 38, 26, 18, 43,  3, 49, 45,\n",
    "        7, 42, 25,  4,  9, 36, 33, 31, 29,  5, 31,  4, 19, 24, 27, 33]\n",
    "d = dict(zip(alp, w))\n",
    "variant =  sum([d[el] for el in name.lower()]) % 2 + 1\n",
    "print(\"Ваш вариант - \", variant)"
   ]
  },
  {
   "cell_type": "markdown",
   "metadata": {},
   "source": [
    "<p><b>Варианты</b></p>"
   ]
  },
  {
   "cell_type": "markdown",
   "metadata": {},
   "source": [
    "В зависимости от варианта нужно будет научиться определять...\n",
    "\n",
    "**1.** ...является ли SMS сообщение спамом? \n",
    "* Зайдите на [страничку с данными](https://archive.ics.uci.edu/ml/datasets/SMS+Spam+Collection) на сайте репозитория UCI.\n",
    "* Нажмите на «Data Folder», скачайте и распакуйте архив.\n",
    "* Открыть SMSSpamCollection можно с помощью pd.read_csv, указав `sep='\\t'`.\n",
    "\n",
    "**2.** ...положительна или отрицательна рецензия на фильм?\n",
    "* Зайдите на [страничку с данными](http://www.cs.cornell.edu/people/pabo/movie-review-data/) на сайте Корнельского университета.\n",
    "* Нажмите на «polarity dataset v2.0» и распакуйте архив. \n",
    "* Каждый текстовый файл соответствует одной рецензии. Вам придётся [построить список всех файлов в папке](http://stackoverflow.com/questions/3207219/how-to-list-all-files-of-a-directory), а затем последовательно открыть их и прочитать тексты"
   ]
  },
  {
   "cell_type": "markdown",
   "metadata": {},
   "source": [
    "## Задача 1\n",
    "#### Классификация текстовых сообщений (2 балла)"
   ]
  },
  {
   "cell_type": "markdown",
   "metadata": {},
   "source": [
    "<ol>\n",
    "    <li>Загрузите исходные данные --- список текстов и список соответствующих им меток</li>\n",
    "    <li>Разбейте объекты на обучающее (train) и тестовое подможества (test) в пропорции 7:3</li>\n",
    "    <li>Переведите текстовые данные в векторный вид. Для этого воcпользуйтесь средствами sklearn для конвертации текста в векторы TF-IDF (настраивать только на обучающем подмножестве, n-gram=1, слова приведите в нижний регистр)\n",
    "    </li>\n",
    "    <li>Постройте на обучающем подмножестве следующие модели классификации:\n",
    "        <ul>\n",
    "            <li>K-ближайших соседей ($n=5$)</li>\n",
    "            <li>Логистическая регрессия ($C=1$)</li>\n",
    "            <li>Мультиномиальный наивный Байес ($\\alpha=1$)</li> \n",
    "        </ul>\n",
    "    </li>\n",
    "    <li>Определите качество классификации (по доле правильных классификаций) на тестовом подмножестве</li>\n",
    "    <li>Определите с помощью timeit время обучения и предсказания (на тестовом подмножестве) </li>\n",
    "</ol>"
   ]
  },
  {
   "cell_type": "code",
   "execution_count": 2,
   "metadata": {
    "collapsed": true
   },
   "outputs": [],
   "source": [
    "random_state = 12345 # для всех объектов/методов/моделей"
   ]
  },
  {
   "cell_type": "code",
   "execution_count": 3,
   "metadata": {},
   "outputs": [],
   "source": [
    "# Параметры логистической регрессии\n",
    "#penalty=\"l2\", fit_intercept=True, max_iter=100, C=1, solver=\"lbfgs\", random_state=12345"
   ]
  },
  {
   "cell_type": "code",
   "execution_count": 4,
   "metadata": {
    "scrolled": true
   },
   "outputs": [],
   "source": [
    "# считываем данные с файлов\n",
    "import os\n",
    "import re\n",
    "\n",
    "neg = \"review_polarity/txt_sentoken/neg\"\n",
    "pos = \"review_polarity/txt_sentoken/pos\"\n",
    "\n",
    "def convert_text(s):\n",
    "    # Removes all characters from string except letters and digits and convert letters to lowercase\n",
    "    return re.sub(\"[^a-zA-Z0-9]\", \" \", s.lower())\n",
    "\n",
    "def read_texts(dir_path):\n",
    "    # Reads all files from directory\n",
    "    if dir_path[-1] != os.path.sep:\n",
    "        dir_path = dir_path + os.path.sep\n",
    "    txt_list = []\n",
    "    for file in os.listdir(dir_path):\n",
    "        file = dir_path + file\n",
    "        fin = open(file, 'r', encoding='UTF-8')\n",
    "        txt = \" \".join(fin.readlines())\n",
    "        txt = convert_text(txt)\n",
    "        txt_list.append(txt)\n",
    "    return txt_list"
   ]
  },
  {
   "cell_type": "code",
   "execution_count": 5,
   "metadata": {},
   "outputs": [],
   "source": [
    "# создаем матрицу\n",
    "from sklearn.feature_extraction.text import CountVectorizer\n",
    "from sklearn.feature_extraction.text import TfidfTransformer\n",
    "import pandas as pd\n",
    "\n",
    "texts = read_texts(neg) + read_texts(pos)\n",
    "\n",
    "count = CountVectorizer(token_pattern=r\"\\b\\w+\\b\")\n",
    "result = count.fit_transform(texts).toarray()\n",
    "df = pd.DataFrame(data=result, columns=count.get_feature_names())"
   ]
  },
  {
   "cell_type": "code",
   "execution_count": 6,
   "metadata": {},
   "outputs": [
    {
     "data": {
      "text/html": [
       "<div>\n",
       "<table border=\"1\" class=\"dataframe\">\n",
       "  <thead>\n",
       "    <tr style=\"text-align: right;\">\n",
       "      <th></th>\n",
       "      <th>0</th>\n",
       "      <th>00</th>\n",
       "      <th>000</th>\n",
       "      <th>0009f</th>\n",
       "      <th>007</th>\n",
       "      <th>00s</th>\n",
       "      <th>03</th>\n",
       "      <th>04</th>\n",
       "      <th>05</th>\n",
       "      <th>05425</th>\n",
       "      <th>...</th>\n",
       "      <th>zukovsky</th>\n",
       "      <th>zulu</th>\n",
       "      <th>zundel</th>\n",
       "      <th>zurg</th>\n",
       "      <th>zus</th>\n",
       "      <th>zweibel</th>\n",
       "      <th>zwick</th>\n",
       "      <th>zwigoff</th>\n",
       "      <th>zycie</th>\n",
       "      <th>zzzzzzz</th>\n",
       "    </tr>\n",
       "  </thead>\n",
       "  <tbody>\n",
       "    <tr>\n",
       "      <th>1995</th>\n",
       "      <td>0</td>\n",
       "      <td>0</td>\n",
       "      <td>0</td>\n",
       "      <td>0</td>\n",
       "      <td>0</td>\n",
       "      <td>0</td>\n",
       "      <td>0</td>\n",
       "      <td>0</td>\n",
       "      <td>0</td>\n",
       "      <td>0</td>\n",
       "      <td>...</td>\n",
       "      <td>0</td>\n",
       "      <td>0</td>\n",
       "      <td>0</td>\n",
       "      <td>0</td>\n",
       "      <td>0</td>\n",
       "      <td>0</td>\n",
       "      <td>0</td>\n",
       "      <td>0</td>\n",
       "      <td>0</td>\n",
       "      <td>0</td>\n",
       "    </tr>\n",
       "    <tr>\n",
       "      <th>1996</th>\n",
       "      <td>0</td>\n",
       "      <td>0</td>\n",
       "      <td>0</td>\n",
       "      <td>0</td>\n",
       "      <td>0</td>\n",
       "      <td>0</td>\n",
       "      <td>0</td>\n",
       "      <td>0</td>\n",
       "      <td>0</td>\n",
       "      <td>0</td>\n",
       "      <td>...</td>\n",
       "      <td>0</td>\n",
       "      <td>0</td>\n",
       "      <td>0</td>\n",
       "      <td>0</td>\n",
       "      <td>0</td>\n",
       "      <td>0</td>\n",
       "      <td>0</td>\n",
       "      <td>0</td>\n",
       "      <td>0</td>\n",
       "      <td>0</td>\n",
       "    </tr>\n",
       "    <tr>\n",
       "      <th>1997</th>\n",
       "      <td>0</td>\n",
       "      <td>0</td>\n",
       "      <td>0</td>\n",
       "      <td>0</td>\n",
       "      <td>0</td>\n",
       "      <td>0</td>\n",
       "      <td>0</td>\n",
       "      <td>0</td>\n",
       "      <td>0</td>\n",
       "      <td>0</td>\n",
       "      <td>...</td>\n",
       "      <td>0</td>\n",
       "      <td>0</td>\n",
       "      <td>0</td>\n",
       "      <td>0</td>\n",
       "      <td>0</td>\n",
       "      <td>0</td>\n",
       "      <td>1</td>\n",
       "      <td>0</td>\n",
       "      <td>0</td>\n",
       "      <td>0</td>\n",
       "    </tr>\n",
       "    <tr>\n",
       "      <th>1998</th>\n",
       "      <td>0</td>\n",
       "      <td>0</td>\n",
       "      <td>0</td>\n",
       "      <td>0</td>\n",
       "      <td>0</td>\n",
       "      <td>0</td>\n",
       "      <td>0</td>\n",
       "      <td>0</td>\n",
       "      <td>0</td>\n",
       "      <td>0</td>\n",
       "      <td>...</td>\n",
       "      <td>0</td>\n",
       "      <td>0</td>\n",
       "      <td>0</td>\n",
       "      <td>0</td>\n",
       "      <td>0</td>\n",
       "      <td>0</td>\n",
       "      <td>0</td>\n",
       "      <td>0</td>\n",
       "      <td>0</td>\n",
       "      <td>0</td>\n",
       "    </tr>\n",
       "    <tr>\n",
       "      <th>1999</th>\n",
       "      <td>0</td>\n",
       "      <td>0</td>\n",
       "      <td>0</td>\n",
       "      <td>0</td>\n",
       "      <td>0</td>\n",
       "      <td>0</td>\n",
       "      <td>0</td>\n",
       "      <td>0</td>\n",
       "      <td>0</td>\n",
       "      <td>0</td>\n",
       "      <td>...</td>\n",
       "      <td>0</td>\n",
       "      <td>0</td>\n",
       "      <td>0</td>\n",
       "      <td>0</td>\n",
       "      <td>0</td>\n",
       "      <td>0</td>\n",
       "      <td>0</td>\n",
       "      <td>0</td>\n",
       "      <td>0</td>\n",
       "      <td>0</td>\n",
       "    </tr>\n",
       "  </tbody>\n",
       "</table>\n",
       "<p>5 rows × 39399 columns</p>\n",
       "</div>"
      ],
      "text/plain": [
       "      0  00  000  0009f  007  00s  03  04  05  05425   ...     zukovsky  zulu  \\\n",
       "1995  0   0    0      0    0    0   0   0   0      0   ...            0     0   \n",
       "1996  0   0    0      0    0    0   0   0   0      0   ...            0     0   \n",
       "1997  0   0    0      0    0    0   0   0   0      0   ...            0     0   \n",
       "1998  0   0    0      0    0    0   0   0   0      0   ...            0     0   \n",
       "1999  0   0    0      0    0    0   0   0   0      0   ...            0     0   \n",
       "\n",
       "      zundel  zurg  zus  zweibel  zwick  zwigoff  zycie  zzzzzzz  \n",
       "1995       0     0    0        0      0        0      0        0  \n",
       "1996       0     0    0        0      0        0      0        0  \n",
       "1997       0     0    0        0      1        0      0        0  \n",
       "1998       0     0    0        0      0        0      0        0  \n",
       "1999       0     0    0        0      0        0      0        0  \n",
       "\n",
       "[5 rows x 39399 columns]"
      ]
     },
     "execution_count": 6,
     "metadata": {},
     "output_type": "execute_result"
    }
   ],
   "source": [
    "df.tail()"
   ]
  },
  {
   "cell_type": "code",
   "execution_count": 7,
   "metadata": {},
   "outputs": [],
   "source": [
    "# создаем вектор ответов\n",
    "import numpy as np\n",
    "zeros = np.zeros((1000,), dtype=np.int)\n",
    "ones = np.ones((1000,), dtype=np.int)\n",
    "vec = np.hstack((zeros,ones))"
   ]
  },
  {
   "cell_type": "code",
   "execution_count": 8,
   "metadata": {
    "collapsed": true
   },
   "outputs": [],
   "source": [
    "X = result\n",
    "y = vec"
   ]
  },
  {
   "cell_type": "code",
   "execution_count": 9,
   "metadata": {},
   "outputs": [
    {
     "data": {
      "text/plain": [
       "numpy.ndarray"
      ]
     },
     "execution_count": 9,
     "metadata": {},
     "output_type": "execute_result"
    }
   ],
   "source": [
    "type(X)"
   ]
  },
  {
   "cell_type": "code",
   "execution_count": 9,
   "metadata": {},
   "outputs": [],
   "source": [
    "# разбиваем выборку на тренировочную и тестовую часть\n",
    "from sklearn.model_selection import train_test_split\n",
    "X_train, X_test, y_train, y_test = train_test_split(result, vec, train_size=0.7, random_state=12345)"
   ]
  },
  {
   "cell_type": "code",
   "execution_count": 10,
   "metadata": {},
   "outputs": [
    {
     "data": {
      "text/plain": [
       "((1400, 39399), (600, 39399), (1400,), (600,))"
      ]
     },
     "execution_count": 10,
     "metadata": {},
     "output_type": "execute_result"
    }
   ],
   "source": [
    "X_train.shape, X_test.shape, y_train.shape, y_test.shape"
   ]
  },
  {
   "cell_type": "code",
   "execution_count": 11,
   "metadata": {},
   "outputs": [],
   "source": [
    "# создаем функцию, которая будет все считать\n",
    "from sklearn import metrics\n",
    "from datetime import datetime\n",
    "from sklearn.base import clone\n",
    "\n",
    "def model_func(model, X_train, y_train, X_test, y_test):\n",
    "    startTime = datetime.now()\n",
    "\n",
    "    temp_model = clone(model)\n",
    "    temp_model.fit(X_train, y_train)\n",
    "\n",
    "    expected = y_test\n",
    "    predicted = temp_model.predict(X_test)\n",
    "    accuracy = metrics.accuracy_score(expected, predicted)\n",
    "    print('Доля правильных ответов:', accuracy)\n",
    "    print('Затраченное время:', datetime.now() - startTime)"
   ]
  },
  {
   "cell_type": "code",
   "execution_count": 12,
   "metadata": {},
   "outputs": [
    {
     "name": "stdout",
     "output_type": "stream",
     "text": [
      "Доля правильных ответов: 0.588333333333\n",
      "Затраченное время: 0:00:56.142514\n"
     ]
    }
   ],
   "source": [
    "# обучаем модель k-ближайших соседей (пока без Tfidf)\n",
    "from sklearn.neighbors import KNeighborsClassifier\n",
    "\n",
    "knn = KNeighborsClassifier()\n",
    "\n",
    "model_func(knn, X_train, y_train, X_test, y_test)"
   ]
  },
  {
   "cell_type": "code",
   "execution_count": 13,
   "metadata": {},
   "outputs": [
    {
     "name": "stdout",
     "output_type": "stream",
     "text": [
      "Доля правильных ответов: 0.806666666667\n",
      "Затраченное время: 0:00:08.993048\n"
     ]
    }
   ],
   "source": [
    "# обучаем логистическую регрессию (пока без Tfidf)\n",
    "from sklearn.linear_model import LogisticRegression\n",
    "\n",
    "lr = LogisticRegression(penalty=\"l2\", fit_intercept=True, max_iter=100, C=1,solver=\"lbfgs\", random_state=12345)\n",
    "\n",
    "model_func(lr, X_train, y_train, X_test, y_test)"
   ]
  },
  {
   "cell_type": "code",
   "execution_count": 14,
   "metadata": {},
   "outputs": [
    {
     "name": "stdout",
     "output_type": "stream",
     "text": [
      "Доля правильных ответов: 0.803333333333\n",
      "Затраченное время: 0:00:00.713125\n"
     ]
    }
   ],
   "source": [
    "# обучаем мультиномиальный наивный Байес (пока без Tfidf)\n",
    "from sklearn.naive_bayes import MultinomialNB\n",
    "\n",
    "mnb = MultinomialNB()\n",
    "\n",
    "model_func(mnb, X_train, y_train, X_test, y_test)"
   ]
  },
  {
   "cell_type": "code",
   "execution_count": 15,
   "metadata": {
    "collapsed": true
   },
   "outputs": [],
   "source": [
    "# Tfidf\n",
    "tfidf = TfidfTransformer()\n",
    "X_train_tfidf = tfidf.fit_transform(X_train)\n",
    "X_test_tfidf = tfidf.transform(X_test)"
   ]
  },
  {
   "cell_type": "code",
   "execution_count": 16,
   "metadata": {},
   "outputs": [
    {
     "name": "stdout",
     "output_type": "stream",
     "text": [
      "Доля правильных ответов: 0.535\n",
      "Затраченное время: 0:00:00.320371\n"
     ]
    }
   ],
   "source": [
    "# обучаем модель k-ближайших соседей\n",
    "knn = KNeighborsClassifier()\n",
    "\n",
    "model_func(knn, X_train_tfidf, y_train, X_test_tfidf, y_test)"
   ]
  },
  {
   "cell_type": "code",
   "execution_count": 17,
   "metadata": {},
   "outputs": [
    {
     "name": "stdout",
     "output_type": "stream",
     "text": [
      "Доля правильных ответов: 0.775\n",
      "Затраченное время: 0:00:00.150009\n"
     ]
    }
   ],
   "source": [
    "# обучаем логистическую регрессию\n",
    "lr = LogisticRegression(penalty=\"l2\", fit_intercept=True, max_iter=100, C=1,solver=\"lbfgs\", random_state=12345)\n",
    "\n",
    "model_func(lr, X_train_tfidf, y_train, X_test_tfidf, y_test)"
   ]
  },
  {
   "cell_type": "code",
   "execution_count": 18,
   "metadata": {},
   "outputs": [
    {
     "name": "stdout",
     "output_type": "stream",
     "text": [
      "Доля правильных ответов: 0.786666666667\n",
      "Затраченное время: 0:00:00.022301\n"
     ]
    }
   ],
   "source": [
    "# обучаем мультиномиальный наивный Байес\n",
    "mnb = MultinomialNB()\n",
    "\n",
    "model_func(mnb, X_train_tfidf, y_train, X_test_tfidf, y_test)"
   ]
  },
  {
   "cell_type": "markdown",
   "metadata": {},
   "source": [
    "## Задача 2.\n",
    "#### Применение k-folds (3 балла)"
   ]
  },
  {
   "cell_type": "markdown",
   "metadata": {},
   "source": [
    "<p>1. Повторите решение задачи 1, но вместо одного разделения на обучение и контроль используйте разбиение k-folds (k=4). Вам понадобится повторить все действия 4 раза. <br>\n",
    "2. Какой классификатор показывал лучшее/худшее качество на тестовой выборке? А при k-folds разбиении? Как вы думаете, обязательно ли в данной задаче оценивать качество на кросс-валидации, или достаточно отложить контрольную выборку и оценивать качество на ней?</p>"
   ]
  },
  {
   "cell_type": "code",
   "execution_count": 19,
   "metadata": {
    "collapsed": true
   },
   "outputs": [],
   "source": [
    "random_state = 12345 # для всех объектов/методов/моделей"
   ]
  },
  {
   "cell_type": "code",
   "execution_count": 20,
   "metadata": {},
   "outputs": [
    {
     "name": "stderr",
     "output_type": "stream",
     "text": [
      "/Users/anastasiarodygina/anaconda/lib/python3.6/site-packages/sklearn/cross_validation.py:44: DeprecationWarning: This module was deprecated in version 0.18 in favor of the model_selection module into which all the refactored classes and functions are moved. Also note that the interface of the new CV iterators are different from that of this module. This module will be removed in 0.20.\n",
      "  \"This module will be removed in 0.20.\", DeprecationWarning)\n"
     ]
    }
   ],
   "source": [
    "# создаем еще одну функцию\n",
    "from sklearn.cross_validation import KFold\n",
    "from sklearn.base import clone\n",
    "\n",
    "def model_KFold(model, X, y):\n",
    "    startTime = datetime.now()\n",
    "\n",
    "    kf = KFold(X.shape[0], n_folds=4, random_state = 12345)\n",
    "\n",
    "    y_pred = np.zeros(y.shape[0])\n",
    "    for train, test in kf:\n",
    "        temp_model = clone(model)\n",
    "        temp_model.fit(X[train], y[train])\n",
    "        y_pred[test] = temp_model.predict(X[test])\n",
    "        print('Доля правильных ответов разбиения:', metrics.accuracy_score(y[test], y_pred[test]))\n",
    "    print('Доля правильных ответов:', metrics.accuracy_score(y, y_pred))\n",
    "    print('Затраченное время:', datetime.now() - startTime)"
   ]
  },
  {
   "cell_type": "code",
   "execution_count": 21,
   "metadata": {},
   "outputs": [
    {
     "name": "stdout",
     "output_type": "stream",
     "text": [
      "Доля правильных ответов разбиения: 0.366\n",
      "Доля правильных ответов разбиения: 0.412\n",
      "Доля правильных ответов разбиения: 0.348\n",
      "Доля правильных ответов разбиения: 0.27\n",
      "Доля правильных ответов: 0.349\n",
      "Затраченное время: 0:03:27.150386\n"
     ]
    }
   ],
   "source": [
    "# Ближайшие соседи\n",
    "model_KFold(knn, X, vec)\n",
    "\n",
    "# Доля правильных ответов очень мала: 0,27. Но 1 - 0,27 = 0,73, это нас устраивает больше, поэтому,\n",
    "# так как класса всего 2, мы говорим, что объекты, которые были отнесены алгоритмом к классу 1, на самом деле\n",
    "# принадлежат классу 2 и наоборот."
   ]
  },
  {
   "cell_type": "code",
   "execution_count": 22,
   "metadata": {},
   "outputs": [
    {
     "name": "stdout",
     "output_type": "stream",
     "text": [
      "Доля правильных ответов разбиения: 0.698\n",
      "Доля правильных ответов разбиения: 0.734\n",
      "Доля правильных ответов разбиения: 0.706\n",
      "Доля правильных ответов разбиения: 0.73\n",
      "Доля правильных ответов: 0.717\n",
      "Затраченное время: 0:00:30.985050\n"
     ]
    }
   ],
   "source": [
    "# Логистическая регрессия\n",
    "model_KFold(lr, X, vec)"
   ]
  },
  {
   "cell_type": "code",
   "execution_count": 23,
   "metadata": {},
   "outputs": [
    {
     "name": "stdout",
     "output_type": "stream",
     "text": [
      "Доля правильных ответов разбиения: 0.628\n",
      "Доля правильных ответов разбиения: 0.678\n",
      "Доля правильных ответов разбиения: 0.608\n",
      "Доля правильных ответов разбиения: 0.604\n",
      "Доля правильных ответов: 0.6295\n",
      "Затраченное время: 0:00:04.263796\n"
     ]
    }
   ],
   "source": [
    "# Мультиномиальный наивный байес\n",
    "model_KFold(mnb, X, vec)"
   ]
  },
  {
   "cell_type": "code",
   "execution_count": 24,
   "metadata": {},
   "outputs": [
    {
     "name": "stdout",
     "output_type": "stream",
     "text": [
      "0.442 0.746 0.7080833333334999\n"
     ]
    }
   ],
   "source": [
    "mean_knn = (0.535 + 0.349)/2\n",
    "mean_lr = (0.775 + 0.717)/2\n",
    "mean_mbn = (0.786666666667 + 0.6295)/2\n",
    "print(mean_knn, mean_lr, mean_mbn)"
   ]
  },
  {
   "cell_type": "markdown",
   "metadata": {},
   "source": [
    "Как видно из предыдущей ячейки, в целом наилучшим образом с задачей справилась логистическая регрессия, а наихудшим - алгоритм kNN. На тестовой выборке победил мультиномиальный наивный байес, а kNN, видимо, решил побыть для нас монеткой. При k-folds разбиении мы наблюдаем интересную ситуацию. kNN выдает правильные ответы в 0,349 случаях из 1, а так как 1 - 0,349 = 0,651 - относительно хорошее значение, значит нам нужно подставлять на место класса, предсказанного этой моделью, противоположный. Тогда мы выиграем больше чем в половине случаев. Тем не менее худшим среди трех является MNB. Лучшей оказывается регрессия.\n",
    "Так как в первом случае у нас есть целых 2 модели, которые предсказали лучше, чем 0,7, можем сказать, что тестовая выборка лучше."
   ]
  },
  {
   "cell_type": "markdown",
   "metadata": {},
   "source": [
    "## Задача 3.\n",
    "#### Выбор модели (5 баллов)"
   ]
  },
  {
   "cell_type": "markdown",
   "metadata": {},
   "source": [
    "<p style=\"padding-left:15px;\">1. Используя данные из задачи 1, разбейте обучающее подмножество (train) с использованием k-folds (k=4) <br>\n",
    "2. Рассмотрим следующие варианты значений гиперпараметров для наших классификаторов:  </p>"
   ]
  },
  {
   "cell_type": "markdown",
   "metadata": {},
   "source": [
    "<p>K-ближайших соседей</p>"
   ]
  },
  {
   "cell_type": "code",
   "execution_count": 25,
   "metadata": {
    "collapsed": true
   },
   "outputs": [],
   "source": [
    "ns = np.arange(1, 150, 20) # количество соседей"
   ]
  },
  {
   "cell_type": "markdown",
   "metadata": {},
   "source": [
    "<p>Логистическая регрессия</p>"
   ]
  },
  {
   "cell_type": "code",
   "execution_count": 26,
   "metadata": {
    "collapsed": true
   },
   "outputs": [],
   "source": [
    "cs = np.logspace(-2, 10, 8, base=10) # параметр регуляризации"
   ]
  },
  {
   "cell_type": "markdown",
   "metadata": {},
   "source": [
    "<p>Мультиномиальный наивный Байес</p>"
   ]
  },
  {
   "cell_type": "code",
   "execution_count": 27,
   "metadata": {
    "collapsed": true
   },
   "outputs": [],
   "source": [
    "alphas = np.logspace(-4, 1, 8, base=10) # сглаживающий параметр"
   ]
  },
  {
   "cell_type": "markdown",
   "metadata": {},
   "source": [
    "<p style=\"padding-left:15px;\"> Найдите оптимальные значения гиперпараметров для классификаторов на кросс-валидации. Для этого постройте графики (гиперпараметр)-(качество) на обучении и валидации. <br> _Пояснение:_ вы разбили обучающую выборку на 4 блока. Для каждого значения гиперпараметра 4 раза повторите следующее: берем 1 блок для обучения, по нему настраиваем  TfIdf и обучаем классификатор, считаем качество на этом блоке (качество на обучении) и на оставшихся трех блоках (качество на валидации). Итоговое значение качества на обучении для данного значения гиперпараметра - это среднее четырех полученных значений качества на обучении, то же самое с итоговым значением качества на валидации.  <br>\n",
    "3. 3 настроенные модели обучите на всем обучающем подмножестве (train) и протестируйте на тестовом (test). Определите время обучения и предсказания (см. задачу 1 п. 6)<br>\n",
    "4. Повторите шаги 2-4 для n-gram=2<br>\n",
    "5. Выведите итоговые данные по всем методам для лучших моделей (метод, n-gram, значение параметра модели, время обучения, время предсказания, доля правильных классификаций)<br>\n",
    "6. Сделайте выводы по полученным результатам: <ul>\n",
    "<li>какой метод показал наилучшее качество на обучении? на валидации? на тестовой выборке? Если это разные классификаторы, подумайте, почему так происходит. Если один и тот же, в чем его преимущества перед остальными?</li>\n",
    "<li>велика ли разница между качеством на обучении и на валидации? на валидации и контроле? Почему так происходит?</li>\n",
    "<li>что означает n-gram=2? Улучшилось ли качество при переходе от n-gram=1 к n-gram=2? Предложите свои идеи, почему.</li>\n",
    "<li>есть ли связь между качеством классификации и временем обучения/предсказания? какой классификатор обучается медленнее всего? медленнее всего делает предсказания? В чем причина?</li>\n",
    "</ul></p>"
   ]
  },
  {
   "cell_type": "code",
   "execution_count": 28,
   "metadata": {
    "collapsed": true
   },
   "outputs": [],
   "source": [
    "random_state = 12345 # для всех объектов/методов/моделей"
   ]
  },
  {
   "cell_type": "code",
   "execution_count": 29,
   "metadata": {
    "collapsed": true
   },
   "outputs": [],
   "source": [
    "from matplotlib import pyplot as plt\n",
    "%matplotlib inline"
   ]
  },
  {
   "cell_type": "code",
   "execution_count": 30,
   "metadata": {
    "collapsed": true
   },
   "outputs": [],
   "source": [
    "def model_CV(model, X, y):\n",
    "    as_test = 0\n",
    "    as_train = 0\n",
    "    \n",
    "    startTime = datetime.now()\n",
    "\n",
    "    kf = KFold(X.shape[0], n_folds=4, random_state = 12345)\n",
    "    \n",
    "    y_pred = np.zeros(y.shape[0])\n",
    "    for train, test in kf:\n",
    "        temp_model = clone(model)\n",
    "        \n",
    "        X_train = X[train]\n",
    "        X_test = X[test]\n",
    "        \n",
    "        y_train = y[train]\n",
    "        y_test = y[test]\n",
    "    \n",
    "        tfidf = TfidfTransformer()\n",
    "        X_train_tfidf = tfidf.fit_transform(X_train)\n",
    "        X_test_tfidf = tfidf.transform(X_test)\n",
    "        \n",
    "        # берем блок для обучения\n",
    "        temp_model.fit(X_train_tfidf, y_train)\n",
    "        \n",
    "        # считаем качество на обучении\n",
    "        y_pred[train] = temp_model.predict(X_train)\n",
    "        as_test = as_test + metrics.accuracy_score(y_train, y_pred[train])\n",
    "        \n",
    "        # считаем качество на валидации\n",
    "        y_pred[test] = temp_model.predict(X_test_tfidf)\n",
    "        as_train = as_train + metrics.accuracy_score(y_test, y_pred[test])\n",
    "    \n",
    "    mean_test = as_test / 4\n",
    "    mean_train = as_train / 4\n",
    "    \n",
    "    print('Качество на обучении: ', mean_test)\n",
    "    print('Качество на валидации: ', mean_train)    \n",
    "    print('Затраченное время:', datetime.now() - startTime)\n",
    "    return mean_train"
   ]
  },
  {
   "cell_type": "code",
   "execution_count": 31,
   "metadata": {
    "collapsed": true
   },
   "outputs": [],
   "source": [
    "from matplotlib import pyplot as plt\n",
    "%matplotlib inline\n",
    "\n",
    "def plot(x, y):    \n",
    "    plt.plot(x, y)\n",
    "    plt.xlabel(\"Значение гиперпараметра\")\n",
    "    plt.ylabel(\"Качество модели\")\n",
    "    return plt"
   ]
  },
  {
   "cell_type": "code",
   "execution_count": 32,
   "metadata": {},
   "outputs": [
    {
     "name": "stdout",
     "output_type": "stream",
     "text": [
      "kNN\n",
      "n: 1\n",
      "Качество на обучении:  1.0\n",
      "Качество на валидации:  0.5535\n",
      "Затраченное время: 0:00:19.500237\n",
      "[0.55349999999999999]\n",
      "--\n",
      "n: 21\n",
      "Качество на обучении:  0.617166666667\n",
      "Качество на валидации:  0.285\n",
      "Затраченное время: 0:00:19.329054\n",
      "[0.55349999999999999, 0.28500000000000003]\n",
      "--\n",
      "n: 41\n",
      "Качество на обучении:  0.6885\n",
      "Качество на валидации:  0.1765\n",
      "Затраченное время: 0:00:18.773989\n",
      "[0.55349999999999999, 0.28500000000000003, 0.17649999999999999]\n",
      "--\n",
      "n: 61\n",
      "Качество на обучении:  0.687166666667\n",
      "Качество на валидации:  0.107\n",
      "Затраченное время: 0:00:18.944449\n",
      "[0.55349999999999999, 0.28500000000000003, 0.17649999999999999, 0.107]\n",
      "--\n",
      "n: 81\n",
      "Качество на обучении:  0.678833333333\n",
      "Качество на валидации:  0.0735\n",
      "Затраченное время: 0:00:19.047630\n",
      "[0.55349999999999999, 0.28500000000000003, 0.17649999999999999, 0.107, 0.073499999999999996]\n",
      "--\n",
      "n: 101\n",
      "Качество на обучении:  0.674833333333\n",
      "Качество на валидации:  0.051\n",
      "Затраченное время: 0:00:18.606794\n",
      "[0.55349999999999999, 0.28500000000000003, 0.17649999999999999, 0.107, 0.073499999999999996, 0.051000000000000004]\n",
      "--\n",
      "n: 121\n",
      "Качество на обучении:  0.6695\n",
      "Качество на валидации:  0.0245\n",
      "Затраченное время: 0:00:18.736636\n",
      "[0.55349999999999999, 0.28500000000000003, 0.17649999999999999, 0.107, 0.073499999999999996, 0.051000000000000004, 0.024500000000000001]\n",
      "--\n",
      "n: 141\n",
      "Качество на обучении:  0.668166666667\n",
      "Качество на валидации:  0.0125\n",
      "Затраченное время: 0:00:18.826024\n",
      "[0.55349999999999999, 0.28500000000000003, 0.17649999999999999, 0.107, 0.073499999999999996, 0.051000000000000004, 0.024500000000000001, 0.012500000000000001]\n",
      "--\n"
     ]
    }
   ],
   "source": [
    "# меняем параметры моделей\n",
    "\n",
    "# kNN\n",
    "qualities_knn = []\n",
    "print('kNN')\n",
    "for n in ns:\n",
    "    print('n:', n)\n",
    "    knn = KNeighborsClassifier(n_neighbors=n)    \n",
    "    model = knn\n",
    "    quality = model_CV(model, X, y)\n",
    "    qualities_knn.append(quality)\n",
    "    print(qualities_knn)\n",
    "    print('--')"
   ]
  },
  {
   "cell_type": "code",
   "execution_count": 33,
   "metadata": {
    "scrolled": true
   },
   "outputs": [
    {
     "name": "stdout",
     "output_type": "stream",
     "text": [
      "График для kNN\n"
     ]
    },
    {
     "data": {
      "text/plain": [
       "<module 'matplotlib.pyplot' from '/Users/anastasiarodygina/anaconda/lib/python3.6/site-packages/matplotlib/pyplot.py'>"
      ]
     },
     "execution_count": 33,
     "metadata": {},
     "output_type": "execute_result"
    },
    {
     "data": {
      "image/png": "[encoded data removed]",
      "text/plain": [
       "<matplotlib.figure.Figure at 0x115c3beb8>"
      ]
     },
     "metadata": {},
     "output_type": "display_data"
    }
   ],
   "source": [
    "# График для kNN\n",
    "print('График для kNN')\n",
    "plot(ns, qualities_knn)"
   ]
  },
  {
   "cell_type": "markdown",
   "metadata": {},
   "source": [
    "Какой гиперпараметр нам подходит лучше других? Если верить графику, чем больше это значение, тем хуже качество, следовательно, выбираем наименьший. В следующей ячейке выясним, какой из них наименьший."
   ]
  },
  {
   "cell_type": "code",
   "execution_count": 34,
   "metadata": {},
   "outputs": [
    {
     "name": "stdout",
     "output_type": "stream",
     "text": [
      "1\n"
     ]
    }
   ],
   "source": [
    "# Данное значение гиперпараметра делает модель наиболее качественной\n",
    "print(min(ns))"
   ]
  },
  {
   "cell_type": "code",
   "execution_count": 35,
   "metadata": {
    "collapsed": true
   },
   "outputs": [],
   "source": [
    "# kNN\n",
    "# Настроим модель с использованием выбранного гиперпараметра\n",
    "knn_itog = KNeighborsClassifier(n_neighbors=1)"
   ]
  },
  {
   "cell_type": "code",
   "execution_count": 36,
   "metadata": {
    "scrolled": false
   },
   "outputs": [
    {
     "name": "stdout",
     "output_type": "stream",
     "text": [
      "Качество на обучении:  0.668166666667\n",
      "Качество на валидации:  0.0125\n",
      "Затраченное время: 0:00:21.288984\n"
     ]
    }
   ],
   "source": [
    "quality = model_CV(model, X, y) # вот это почему-то не работает, хотя в функции указан return"
   ]
  },
  {
   "cell_type": "code",
   "execution_count": 37,
   "metadata": {
    "scrolled": true
   },
   "outputs": [
    {
     "name": "stdout",
     "output_type": "stream",
     "text": [
      "Logistic Regression\n",
      "c: 0.01\n",
      "Качество на обучении:  0.628333333333\n",
      "Качество на валидации:  0.0\n",
      "Затраченное время: 0:00:10.445602\n",
      "[0.0]\n",
      "--\n",
      "c: 0.517947467923\n",
      "Качество на обучении:  0.583333333333\n",
      "Качество на валидации:  0.056\n",
      "Затраченное время: 0:00:11.334875\n",
      "[0.0, 0.055999999999999994]\n",
      "--\n",
      "c: 26.8269579528\n",
      "Качество на обучении:  0.634\n",
      "Качество на валидации:  0.6205\n",
      "Затраченное время: 0:00:12.662692\n",
      "[0.0, 0.055999999999999994, 0.62049999999999994]\n",
      "--\n",
      "c: 1389.49549437\n",
      "Качество на обучении:  0.668666666667\n",
      "Качество на валидации:  0.6655\n",
      "Затраченное время: 0:00:12.526074\n",
      "[0.0, 0.055999999999999994, 0.62049999999999994, 0.66550000000000009]\n",
      "--\n",
      "c: 71968.5673001\n",
      "Качество на обучении:  0.679666666667\n",
      "Качество на валидации:  0.6785\n",
      "Затраченное время: 0:00:11.783065\n",
      "[0.0, 0.055999999999999994, 0.62049999999999994, 0.66550000000000009, 0.67849999999999999]\n",
      "--\n",
      "c: 3727593.72031\n",
      "Качество на обучении:  0.642166666667\n",
      "Качество на валидации:  0.7055\n",
      "Затраченное время: 0:00:10.018162\n",
      "[0.0, 0.055999999999999994, 0.62049999999999994, 0.66550000000000009, 0.67849999999999999, 0.70550000000000002]\n",
      "--\n",
      "c: 193069772.888\n",
      "Качество на обучении:  0.670666666667\n",
      "Качество на валидации:  0.6955\n",
      "Затраченное время: 0:00:09.649009\n",
      "[0.0, 0.055999999999999994, 0.62049999999999994, 0.66550000000000009, 0.67849999999999999, 0.70550000000000002, 0.69550000000000001]\n",
      "--\n",
      "c: 10000000000.0\n",
      "Качество на обучении:  0.6735\n",
      "Качество на валидации:  0.6915\n",
      "Затраченное время: 0:00:09.592113\n",
      "[0.0, 0.055999999999999994, 0.62049999999999994, 0.66550000000000009, 0.67849999999999999, 0.70550000000000002, 0.69550000000000001, 0.6915]\n",
      "--\n"
     ]
    }
   ],
   "source": [
    "# lr\n",
    "print('Logistic Regression')\n",
    "qualities_lr = []\n",
    "for c in cs:\n",
    "    print('c:', c)\n",
    "    lr = LogisticRegression(C=c, solver=\"lbfgs\", random_state=12345)\n",
    "    model = lr\n",
    "    quality = model_CV(model, X, y) # вот это почему-то не работает, хотя в функции указан return\n",
    "    qualities_lr.append(quality)\n",
    "    print(qualities_lr)\n",
    "    print('--')"
   ]
  },
  {
   "cell_type": "code",
   "execution_count": 38,
   "metadata": {
    "scrolled": true
   },
   "outputs": [
    {
     "name": "stdout",
     "output_type": "stream",
     "text": [
      "График для логистической регрессии\n"
     ]
    },
    {
     "data": {
      "text/plain": [
       "<module 'matplotlib.pyplot' from '/Users/anastasiarodygina/anaconda/lib/python3.6/site-packages/matplotlib/pyplot.py'>"
      ]
     },
     "execution_count": 38,
     "metadata": {},
     "output_type": "execute_result"
    },
    {
     "data": {
      "image/png": "[encoded data removed]",
      "text/plain": [
       "<matplotlib.figure.Figure at 0x116cae588>"
      ]
     },
     "metadata": {},
     "output_type": "display_data"
    }
   ],
   "source": [
    "# График для логистической регрессии\n",
    "print('График для логистической регрессии')\n",
    "plot(cs, qualities_lr)"
   ]
  },
  {
   "cell_type": "markdown",
   "metadata": {},
   "source": [
    "В ситуации с логистической регрессией график не позволяет подобрать лучший параметр так же легко, как в случае с кнн. Поэтому мы посмотрим на выведенные значения качества и выберем лучшее (см. ячейку ниже). "
   ]
  },
  {
   "cell_type": "code",
   "execution_count": 39,
   "metadata": {},
   "outputs": [
    {
     "data": {
      "text/plain": [
       "0.70550000000000002"
      ]
     },
     "execution_count": 39,
     "metadata": {},
     "output_type": "execute_result"
    }
   ],
   "source": [
    "# Лучшее значение качества\n",
    "max(qualities_lr)"
   ]
  },
  {
   "cell_type": "markdown",
   "metadata": {},
   "source": [
    "Значение соответствующего гиперпараметра: 3727593.72031."
   ]
  },
  {
   "cell_type": "code",
   "execution_count": 40,
   "metadata": {
    "collapsed": true
   },
   "outputs": [],
   "source": [
    "# lr\n",
    "# Настроим модель с использованием выбранного гиперпараметра\n",
    "lr_itog = LogisticRegression(C=3727593.72031)"
   ]
  },
  {
   "cell_type": "code",
   "execution_count": 41,
   "metadata": {},
   "outputs": [
    {
     "name": "stdout",
     "output_type": "stream",
     "text": [
      "Multinomial NB\n",
      "alpha: 0.0001\n",
      "Качество на обучении:  0.999333333333\n",
      "Качество на валидации:  0.3835\n",
      "Затраченное время: 0:00:08.612350\n",
      "[0.38349999999999995]\n",
      "--\n",
      "alpha: 0.000517947467923\n",
      "Качество на обучении:  0.999166666667\n",
      "Качество на валидации:  0.4325\n",
      "Затраченное время: 0:00:08.743428\n",
      "[0.38349999999999995, 0.4325]\n",
      "--\n",
      "alpha: 0.00268269579528\n",
      "Качество на обучении:  0.997166666667\n",
      "Качество на валидации:  0.4965\n",
      "Затраченное время: 0:00:08.587554\n",
      "[0.38349999999999995, 0.4325, 0.4965]\n",
      "--\n",
      "alpha: 0.0138949549437\n",
      "Качество на обучении:  0.991333333333\n",
      "Качество на валидации:  0.5545\n",
      "Затраченное время: 0:00:08.617004\n",
      "[0.38349999999999995, 0.4325, 0.4965, 0.55449999999999999]\n",
      "--\n",
      "alpha: 0.0719685673001\n",
      "Качество на обучении:  0.831333333333\n",
      "Качество на валидации:  0.3315\n",
      "Затраченное время: 0:00:08.604692\n",
      "[0.38349999999999995, 0.4325, 0.4965, 0.55449999999999999, 0.33150000000000002]\n",
      "--\n",
      "alpha: 0.372759372031\n",
      "Качество на обучении:  0.666666666667\n",
      "Качество на валидации:  0.0025\n",
      "Затраченное время: 0:00:08.678985\n",
      "[0.38349999999999995, 0.4325, 0.4965, 0.55449999999999999, 0.33150000000000002, 0.0025000000000000001]\n",
      "--\n",
      "alpha: 1.93069772888\n",
      "Качество на обучении:  0.666666666667\n",
      "Качество на валидации:  0.0\n",
      "Затраченное время: 0:00:08.636998\n",
      "[0.38349999999999995, 0.4325, 0.4965, 0.55449999999999999, 0.33150000000000002, 0.0025000000000000001, 0.0]\n",
      "--\n",
      "alpha: 10.0\n",
      "Качество на обучении:  0.666666666667\n",
      "Качество на валидации:  0.0\n",
      "Затраченное время: 0:00:08.622949\n",
      "[0.38349999999999995, 0.4325, 0.4965, 0.55449999999999999, 0.33150000000000002, 0.0025000000000000001, 0.0, 0.0]\n",
      "--\n"
     ]
    }
   ],
   "source": [
    "# mnb\n",
    "print('Multinomial NB')\n",
    "qualities_mnb = []\n",
    "for alpha in alphas:\n",
    "    print('alpha:', alpha)\n",
    "    mnb = MultinomialNB(alpha=alpha)\n",
    "    model = mnb\n",
    "    quality = model_CV(model, X, y)\n",
    "    qualities_mnb.append(quality)\n",
    "    print(qualities_mnb)\n",
    "    print('--')"
   ]
  },
  {
   "cell_type": "code",
   "execution_count": 42,
   "metadata": {
    "scrolled": true
   },
   "outputs": [
    {
     "name": "stdout",
     "output_type": "stream",
     "text": [
      "График для мультиномиального наивного байеса\n"
     ]
    },
    {
     "data": {
      "text/plain": [
       "<module 'matplotlib.pyplot' from '/Users/anastasiarodygina/anaconda/lib/python3.6/site-packages/matplotlib/pyplot.py'>"
      ]
     },
     "execution_count": 42,
     "metadata": {},
     "output_type": "execute_result"
    },
    {
     "data": {
      "image/png": "[encoded data removed]",
      "text/plain": [
       "<matplotlib.figure.Figure at 0x162cb7c18>"
      ]
     },
     "metadata": {},
     "output_type": "display_data"
    }
   ],
   "source": [
    "# График для мультиномиального наивного байеса\n",
    "print('График для мультиномиального наивного байеса')\n",
    "plot(alphas, qualities_mnb)"
   ]
  },
  {
   "cell_type": "markdown",
   "metadata": {
    "collapsed": true
   },
   "source": [
    "Данный график имеет ярковыраженный пик, в следующей ячейке будет выведено значение качества в нем."
   ]
  },
  {
   "cell_type": "code",
   "execution_count": 43,
   "metadata": {},
   "outputs": [
    {
     "data": {
      "text/plain": [
       "0.55449999999999999"
      ]
     },
     "execution_count": 43,
     "metadata": {},
     "output_type": "execute_result"
    }
   ],
   "source": [
    "max(qualities_mnb)"
   ]
  },
  {
   "cell_type": "markdown",
   "metadata": {},
   "source": [
    "Значение соответствующего гиперпараметра: 0.0138949549437."
   ]
  },
  {
   "cell_type": "code",
   "execution_count": 44,
   "metadata": {
    "collapsed": true
   },
   "outputs": [],
   "source": [
    "# Настроим модель с использованием выбранного гиперпараметра\n",
    "mnb_itog = MultinomialNB(alpha=0.0138949549437)"
   ]
  },
  {
   "cell_type": "markdown",
   "metadata": {},
   "source": [
    "# Конец выполнения пунктов 1 и 2 в третьем задании. Фух."
   ]
  },
  {
   "cell_type": "markdown",
   "metadata": {},
   "source": [
    "Я понимаю, что все можно было сделать красивее и оформить в функцию код, который выводит значения качества на обучении и валидации, но не могу придумать, как передать параметры самой модели (n, C или alpha).\n",
    "Небольшой крик души, но для такого трудоемкого и времязатратного домашнего задания могли бы дать побольше времени (вспомним домашки в прошлом семестре, это вообще ни разу не совместимо).\n",
    "Так как у меня возникла только одна проблема с этой функцией, я размещу ее здесь.\n",
    "\n",
    "#### def model_params(elem, elem_str, array, qualities, param_str, model_with_params(param_str=elem), model_str):\n",
    "    ####print(model_str)\n",
    "    ####for elem in array:\n",
    "        print(elem_str, elem)   \n",
    "        temp_model = model_with_params\n",
    "        quality = model_CV(model, X, y)\n",
    "        qualities.append(quality)\n",
    "        print(qualities)\n",
    "        print('--')\n",
    "        \n",
    "Очень много параметров, да, покажу на примере, как я ее собиралась запускать:\n",
    "\n",
    "#qualities_knn = []\n",
    "#knn = KNeighborsClassifier(n_neighbors=elem)\n",
    "#model_params(n, 'n:', ns, qualities_knn, 'n_neighbors', knn, 'kNN')\n",
    "\n",
    "elem фигурирует только в функции, поэтому я думала о том, что надо присвоить knn алгоритм без указания параметров и передать их как-то отдельно, но это как-то мутно, в голову не приходит, как реализовать. Будет круто, если кто-нибудь расскажет."
   ]
  },
  {
   "cell_type": "markdown",
   "metadata": {},
   "source": [
    "# Продублирую сюда оставшиеся пункты задания для удобства"
   ]
  },
  {
   "cell_type": "markdown",
   "metadata": {},
   "source": [
    "1. ...\n",
    "2. ...\n",
    "3. 3 настроенные модели обучите на всем обучающем подмножестве (train) и протестируйте на тестовом (test). Определите время обучения и предсказания (см. задачу 1 п. 6)\n",
    "4. Повторите шаги 2-3 для n-gram=2\n",
    "5. Выведите итоговые данные по всем методам для лучших моделей (метод, n-gram, значение параметра модели, время обучения, время предсказания, доля правильных классификаций)\n",
    "6. Сделайте выводы по полученным результатам:\n",
    "какой метод показал наилучшее качество на обучении? на валидации? на тестовой выборке? Если это разные классификаторы, подумайте, почему так происходит. Если один и тот же, в чем его преимущества перед остальными?\n",
    "велика ли разница между качеством на обучении и на валидации? на валидации и контроле? Почему так происходит?\n",
    "что означает n-gram=2? Улучшилось ли качество при переходе от n-gram=1 к n-gram=2? Предложите свои идеи, почему.\n",
    "есть ли связь между качеством классификации и временем обучения/предсказания? какой классификатор обучается медленнее всего? медленнее всего делает предсказания? В чем причина?"
   ]
  },
  {
   "cell_type": "code",
   "execution_count": 45,
   "metadata": {},
   "outputs": [
    {
     "name": "stdout",
     "output_type": "stream",
     "text": [
      "Доля правильных ответов: 0.486666666667\n",
      "Затраченное время: 0:00:00.979344\n"
     ]
    }
   ],
   "source": [
    "# kNN\n",
    "model_func(knn_itog, X_train_tfidf, y_train, X_test, y_test)"
   ]
  },
  {
   "cell_type": "code",
   "execution_count": 46,
   "metadata": {},
   "outputs": [
    {
     "name": "stdout",
     "output_type": "stream",
     "text": [
      "Доля правильных ответов: 0.541666666667\n",
      "Затраченное время: 0:00:00.401295\n"
     ]
    }
   ],
   "source": [
    "# lr\n",
    "model_func(lr_itog, X_train_tfidf, y_train, X_test, y_test)"
   ]
  },
  {
   "cell_type": "code",
   "execution_count": 47,
   "metadata": {
    "scrolled": true
   },
   "outputs": [
    {
     "name": "stdout",
     "output_type": "stream",
     "text": [
      "Доля правильных ответов: 0.788333333333\n",
      "Затраченное время: 0:00:00.172391\n"
     ]
    }
   ],
   "source": [
    "# mnb\n",
    "model_func(mnb_itog, X_train_tfidf, y_train, X_test, y_test)"
   ]
  },
  {
   "cell_type": "markdown",
   "metadata": {},
   "source": [
    "Повторить шаги 2-3... Это жестоко... Было бы круто, конечно, написать функцию, которая включает в себя все, что было на шагах 1-3, но меняет 1 параметр, но ЭТО ЖЕ ВООБЩЕ НЕ ИЗИ! ТУТ КУЧА КОДА УЖЕ!!! (шла вторая ночь без сна, за окном рассвело и поют птицы)\n",
    "### Окей! Держите еще кучу кода!\n",
    "Очень жаль, что не получилось настроить функцию model_params, она бы сейчас облегчила жизнь."
   ]
  },
  {
   "cell_type": "markdown",
   "metadata": {},
   "source": [
    "## Увы, тут так ничего и не запустилось. Продолжение в другом ноутбуке. (HW2_Anastasia_Rodygina_part_2.ipynb)"
   ]
  },
  {
   "cell_type": "code",
   "execution_count": null,
   "metadata": {},
   "outputs": [],
   "source": [
    "count = CountVectorizer(token_pattern=r\"\\b\\w+\\b\", ngram_range=(2,2), max_features=20000 )\n",
    "result = count.fit_transform(texts).toarray()\n",
    "df = pd.DataFrame(data=result, columns=count.get_feature_names())"
   ]
  },
  {
   "cell_type": "code",
   "execution_count": null,
   "metadata": {},
   "outputs": [],
   "source": [
    "# Заново разбили, чтобы не было конфликта имен (не совсем так, правильнее: чтобы быть уверенными,\n",
    "# что мы обучаем то, что нужно)\n",
    "X_train, X_test, y_train, y_test = train_test_split(result, vec, train_size=0.7, random_state=12345)"
   ]
  },
  {
   "cell_type": "code",
   "execution_count": null,
   "metadata": {},
   "outputs": [],
   "source": [
    "# kNN\n",
    "model_func(knn_itog, X_train, y_train, X_test, y_test)"
   ]
  },
  {
   "cell_type": "code",
   "execution_count": null,
   "metadata": {
    "collapsed": true
   },
   "outputs": [],
   "source": [
    "# lr\n",
    "model_func(lr_itog, X_train, y_train, X_test, y_test)"
   ]
  },
  {
   "cell_type": "code",
   "execution_count": null,
   "metadata": {
    "collapsed": true
   },
   "outputs": [],
   "source": [
    "# mnb\n",
    "model_func(mnb_itog, X_train, y_train, X_test, y_test)"
   ]
  },
  {
   "cell_type": "markdown",
   "metadata": {},
   "source": [
    "### Черт... Я не настроила tfidf...\n",
    "Кстати! Важное замечание! Еще в начале выполнения домашнего задания я случайно упустила tfidf и получилось, что работал только CountVectorizer. Качество моделей было достаточно хорошим. Когда я опомнилась и настроила tfidf, все резко испортилось и алгоритм приблизился к монетке. Сейчас скорее всего получится то же самое. Проверим."
   ]
  },
  {
   "cell_type": "code",
   "execution_count": null,
   "metadata": {
    "collapsed": true
   },
   "outputs": [],
   "source": [
    "tfidf = TfidfVe(token_pattern=r'\\b[a-z]+\\b', ngram_range=(2, 2), lowercase=True, max_features=20000)\n",
    "X_train_tfidf = tfidf.fit_transform(X_train)\n",
    "X_test_tfidf = tfidf.transform(X_test)"
   ]
  },
  {
   "cell_type": "markdown",
   "metadata": {
    "collapsed": true
   },
   "source": [
    "сори, мой ноут слишком слаб для того, чтобы посчитать с n-gram = 2"
   ]
  },
  {
   "cell_type": "markdown",
   "metadata": {},
   "source": [
    "### 5 Выведите итоговые данные по всем методам для лучших моделей (метод, n-gram, значение параметра модели, время обучения, время предсказания, доля правильных классификаций)"
   ]
  },
  {
   "cell_type": "code",
   "execution_count": null,
   "metadata": {
    "collapsed": true
   },
   "outputs": [],
   "source": [
    "Я жду уже больше 10 минут после перезапуска ноутбука после того, как он вылетел на этом же шаге. "
   ]
  },
  {
   "cell_type": "markdown",
   "metadata": {},
   "source": [
    "## Задача 4. (опционально)\n",
    "#### Исследование влияния количества признаков FeatureHasher на качество классификации (+3 балла к сумме по всем ДЗ) "
   ]
  },
  {
   "cell_type": "markdown",
   "metadata": {},
   "source": [
    "<p>Изучите, что такое feature hashing (достаточно разобаться с документацией sklearn) и кратко опишите. Как будет меняться качество классификации для обозначенных ранее методов при использовании FeatureHasher (или HashingVectorizer) из пакета sklearn перед TF-IDF преобразованием, если</p>"
   ]
  },
  {
   "cell_type": "code",
   "execution_count": null,
   "metadata": {
    "collapsed": true
   },
   "outputs": [],
   "source": [
    "n_features = np.logspace(1, 5, 5, base=10) # количество признаков\n",
    "non_negative=True"
   ]
  },
  {
   "cell_type": "markdown",
   "metadata": {},
   "source": [
    "<p>В этом задании можно воспользоваться GridSearchCV</p>"
   ]
  },
  {
   "cell_type": "markdown",
   "metadata": {
    "collapsed": true
   },
   "source": [
    "# Задача 5. (опционально)\n",
    "__Простой прототип (+ 2 балла к сумме по всем ДЗ)__\n",
    "\n",
    "Напишите функцию, которая берет на вход произвольную строку и возвращает для нее предсказание для вашей задачи. Придумайте по 3 примера строк для положительного и отрицательного класса, сделайте для них предсказание. Совпадают ли ваши метки и предсказания классификатора? Оцените (любым способом), насколько придуманные вами тексты похожи на объекты датасета, с которым вы работали.\n"
   ]
  },
  {
   "cell_type": "code",
   "execution_count": null,
   "metadata": {
    "collapsed": true
   },
   "outputs": [],
   "source": [
    "def predict_class_for_text(s):\n",
    "    pass"
   ]
  },
  {
   "cell_type": "code",
   "execution_count": null,
   "metadata": {},
   "outputs": [],
   "source": []
  },
  {
   "cell_type": "code",
   "execution_count": null,
   "metadata": {},
   "outputs": [],
   "source": [
    "from sklearn.cross_validation import KFold\n",
    "kf = KFold(10, n_folds=5)\n",
    "for train, test in kf:\n",
    "    print(train, test)"
   ]
  },
  {
   "cell_type": "code",
   "execution_count": null,
   "metadata": {
    "collapsed": true
   },
   "outputs": [],
   "source": []
  }
 ],
 "metadata": {
  "anaconda-cloud": {},
  "kernelspec": {
   "display_name": "Python 3",
   "language": "python",
   "name": "python3"
  },
  "language_info": {
   "codemirror_mode": {
    "name": "ipython",
    "version": 3
   },
   "file_extension": ".py",
   "mimetype": "text/x-python",
   "name": "python",
   "nbconvert_exporter": "python",
   "pygments_lexer": "ipython3",
   "version": "3.6.4"
  },
  "nav_menu": {},
  "toc": {
   "navigate_menu": true,
   "number_sections": false,
   "sideBar": true,
   "threshold": 6,
   "toc_cell": false,
   "toc_section_display": "block",
   "toc_window_display": true
  }
 },
 "nbformat": 4,
 "nbformat_minor": 2
}
